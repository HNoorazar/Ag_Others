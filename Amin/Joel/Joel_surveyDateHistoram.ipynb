{
 "cells": [
  {
   "cell_type": "code",
   "execution_count": null,
   "id": "183d4f7b",
   "metadata": {},
   "outputs": [],
   "source": []
  },
  {
   "cell_type": "code",
   "execution_count": null,
   "id": "fa81fc6e",
   "metadata": {},
   "outputs": [],
   "source": [
    "import warnings\n",
    "\n",
    "warnings.filterwarnings(\"ignore\")\n",
    "import numpy as np\n",
    "import pandas as pd\n",
    "from datetime import date\n",
    "\n",
    "import matplotlib\n",
    "import matplotlib.pyplot as plt\n",
    "from pylab import imshow\n",
    "import sys, os, os.path, pickle, time\n",
    "\n",
    "# sys.path.append(\"/Users/hn/Documents/00_GitHub/Ag/NASA/Python_codes/\")\n",
    "# import NASA_core as nc"
   ]
  },
  {
   "cell_type": "code",
   "execution_count": null,
   "id": "35850a75",
   "metadata": {},
   "outputs": [],
   "source": [
    "data_dir_ = \"/Users/hn/Documents/01_research_data/Amin/Joel/\"\n",
    "plot_dir = data_dir_ + \"plots/\"\n",
    "\n",
    "os.makedirs(plot_dir, exist_ok=True)"
   ]
  },
  {
   "cell_type": "code",
   "execution_count": null,
   "id": "45bba500",
   "metadata": {},
   "outputs": [],
   "source": [
    "data_2022_nofilter = pd.read_csv(data_dir_ + \"data_2022_nofilter.csv\")\n",
    "data_2023_nofilter = pd.read_csv(data_dir_ + \"data_2023_nofilter.csv\")\n",
    "\n",
    "print (data_2022_nofilter.shape)\n",
    "print (data_2023_nofilter.shape)"
   ]
  },
  {
   "cell_type": "code",
   "execution_count": null,
   "id": "e9fc0090",
   "metadata": {},
   "outputs": [],
   "source": [
    "data_2022_nofilter.head(2)"
   ]
  },
  {
   "cell_type": "code",
   "execution_count": null,
   "id": "cc7a602b",
   "metadata": {},
   "outputs": [],
   "source": [
    "data_2022_nofilter.LstSrvD.max()"
   ]
  },
  {
   "cell_type": "code",
   "execution_count": null,
   "id": "8d56a13f",
   "metadata": {},
   "outputs": [],
   "source": []
  },
  {
   "cell_type": "code",
   "execution_count": null,
   "id": "90756a26",
   "metadata": {},
   "outputs": [],
   "source": [
    "data_2022_nofilter = pd.read_csv(data_dir_ + \"data_2022_nofilter.csv\")\n",
    "data_2022_nofilter[\"CropTyp\"] = data_2022_nofilter[\"CropTyp\"].str.lower()\n",
    "data_2022_nofilter.drop(columns=[\"Unnamed: 0\"], inplace=True)\n",
    "\n",
    "### Rename column names: lower case for consistency\n",
    "data_2022_nofilter.rename(columns=lambda x: x.lower().replace(\" \", \"_\"), inplace=True)\n",
    "\n",
    "##### Sort by id\n",
    "data_2022_nofilter.sort_values(by=[\"id\"], inplace=True)\n",
    "data_2022_nofilter.reset_index(drop=True, inplace=True)\n",
    "\n",
    "data_2022_nofilter.head(2)"
   ]
  },
  {
   "cell_type": "code",
   "execution_count": null,
   "id": "0d292d71",
   "metadata": {},
   "outputs": [],
   "source": [
    "### Convert type of lstsrvd from string to date\n",
    "data_2022_nofilter.lstsrvd = pd.to_datetime(data_2022_nofilter.lstsrvd)\n",
    "data_2022_nofilter[\"last_survey_year\"] = data_2022_nofilter.lstsrvd.dt.year\n",
    "data_2022_nofilter.head(2)"
   ]
  },
  {
   "cell_type": "code",
   "execution_count": null,
   "id": "0c2c34c3",
   "metadata": {},
   "outputs": [],
   "source": [
    "tick_legend_FontSize = 10\n",
    "\n",
    "params = {\n",
    "    \"legend.fontsize\": tick_legend_FontSize,  # medium, large\n",
    "    # 'figure.figsize': (6, 4),\n",
    "    \"axes.labelsize\": tick_legend_FontSize * 1.2,\n",
    "    \"axes.titlesize\": tick_legend_FontSize * 1.3,\n",
    "    \"xtick.labelsize\": tick_legend_FontSize,  #  * 0.75\n",
    "    \"ytick.labelsize\": tick_legend_FontSize,  #  * 0.75\n",
    "    \"axes.titlepad\": 10,\n",
    "}\n",
    "\n",
    "plt.rc(\"font\", family=\"Palatino\")\n",
    "plt.rcParams[\"xtick.bottom\"] = True\n",
    "plt.rcParams[\"ytick.left\"] = True\n",
    "plt.rcParams[\"xtick.labelbottom\"] = True\n",
    "plt.rcParams[\"ytick.labelleft\"] = True\n",
    "plt.rcParams.update(params)"
   ]
  },
  {
   "cell_type": "code",
   "execution_count": null,
   "id": "f781361b",
   "metadata": {},
   "outputs": [],
   "source": [
    "df = data_2022_nofilter.copy()\n",
    "df[[\"id\", \"last_survey_year\"]].groupby(\"last_survey_year\").count().reset_index()"
   ]
  },
  {
   "cell_type": "code",
   "execution_count": null,
   "id": "48576276",
   "metadata": {},
   "outputs": [],
   "source": [
    "df = data_2022_nofilter.copy()\n",
    "\n",
    "fig, axs = plt.subplots(1, 1, figsize=(10, 3), sharex=False, gridspec_kw={\"hspace\": 0.35, \"wspace\": 0.05})\n",
    "axs.grid(axis=\"y\", which=\"both\")\n",
    "\n",
    "LL = len(df[\"last_survey_year\"].unique())\n",
    "X_axis = np.arange(LL)\n",
    "\n",
    "bar_width_ = 1\n",
    "step_size_ = 2*bar_width_\n",
    "X_axis = np.array(range(0, step_size_ * LL, step_size_))\n",
    "\n",
    "df = df[[\"id\", \"last_survey_year\"]].groupby(\"last_survey_year\").count().reset_index()\n",
    "axs.bar(2 + X_axis - bar_width_ * 2, df[\"id\"], color=\"dodgerblue\", width=bar_width_);\n",
    "axs.set_ylabel(\"field count\");\n",
    "axs.set_xlabel(\"year\");\n",
    "axs.set_xticks(X_axis, df[\"last_survey_year\"]);"
   ]
  },
  {
   "cell_type": "code",
   "execution_count": null,
   "id": "fac3983d",
   "metadata": {},
   "outputs": [],
   "source": [
    "2+ X_axis - bar_width_ * 2"
   ]
  },
  {
   "cell_type": "code",
   "execution_count": null,
   "id": "4fdf4243",
   "metadata": {},
   "outputs": [],
   "source": [
    "X_axis - bar_width_ * 5"
   ]
  },
  {
   "cell_type": "code",
   "execution_count": null,
   "id": "284eeff6",
   "metadata": {},
   "outputs": [],
   "source": []
  }
 ],
 "metadata": {
  "kernelspec": {
   "display_name": "Python 3 (ipykernel)",
   "language": "python",
   "name": "python3"
  },
  "language_info": {
   "codemirror_mode": {
    "name": "ipython",
    "version": 3
   },
   "file_extension": ".py",
   "mimetype": "text/x-python",
   "name": "python",
   "nbconvert_exporter": "python",
   "pygments_lexer": "ipython3",
   "version": "3.11.5"
  }
 },
 "nbformat": 4,
 "nbformat_minor": 5
}
