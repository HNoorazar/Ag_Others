{
 "cells": [
  {
   "cell_type": "markdown",
   "id": "79457acf",
   "metadata": {},
   "source": [
    "Names are meaningless and useless data are exported. Clean them"
   ]
  },
  {
   "cell_type": "code",
   "execution_count": 14,
   "id": "f02d033f",
   "metadata": {},
   "outputs": [],
   "source": [
    "import pandas as pd\n",
    "\n",
    "\n",
    "from datetime import date\n",
    "import sys, os, os.path, pickle, time\n",
    "\n",
    "import matplotlib\n",
    "import matplotlib.pyplot as plt\n",
    "\n",
    "\n",
    "sys.path.append(\"/Users/hn/Documents/00_GitHub/Ag/NASA/Python_codes/\")\n",
    "import NASA_core as nc"
   ]
  },
  {
   "cell_type": "code",
   "execution_count": 2,
   "id": "a87e3d34",
   "metadata": {},
   "outputs": [],
   "source": [
    "data_base = \"/Users/hn/Documents/01_research_data/Amin/Joel/Drive-by/\"\n",
    "in_dir = data_base + \"data-to-plot/\"\n",
    "out_dir = data_base + \"data_to_plot_cleaned/\"\n",
    "os.makedirs(out_dir, exist_ok=True)"
   ]
  },
  {
   "cell_type": "code",
   "execution_count": 4,
   "id": "281ddec0",
   "metadata": {},
   "outputs": [
    {
     "name": "stdout",
     "output_type": "stream",
     "text": [
      "150\n"
     ]
    },
    {
     "data": {
      "text/plain": [
       "['SF_2021_to_2023_DC_May272024.shp_batch1.csv',\n",
       " 'SF_2021_to_2023_DC_May272024.shp_batch59.csv']"
      ]
     },
     "execution_count": 4,
     "metadata": {},
     "output_type": "execute_result"
    }
   ],
   "source": [
    "in_csv_files = [x for x in os.listdir(in_dir) if x.endswith(\".csv\")]\n",
    "print (len(in_csv_files))\n",
    "in_csv_files[:2]"
   ]
  },
  {
   "cell_type": "code",
   "execution_count": 5,
   "id": "51c99585",
   "metadata": {},
   "outputs": [
    {
     "data": {
      "text/html": [
       "<div>\n",
       "<style scoped>\n",
       "    .dataframe tbody tr th:only-of-type {\n",
       "        vertical-align: middle;\n",
       "    }\n",
       "\n",
       "    .dataframe tbody tr th {\n",
       "        vertical-align: top;\n",
       "    }\n",
       "\n",
       "    .dataframe thead th {\n",
       "        text-align: right;\n",
       "    }\n",
       "</style>\n",
       "<table border=\"1\" class=\"dataframe\">\n",
       "  <thead>\n",
       "    <tr style=\"text-align: right;\">\n",
       "      <th></th>\n",
       "      <th>system:index</th>\n",
       "      <th>EVI</th>\n",
       "      <th>ID</th>\n",
       "      <th>NDVI</th>\n",
       "      <th>system_start_time</th>\n",
       "      <th>.geo</th>\n",
       "    </tr>\n",
       "  </thead>\n",
       "  <tbody>\n",
       "    <tr>\n",
       "      <th>0</th>\n",
       "      <td>0_0</td>\n",
       "      <td>NaN</td>\n",
       "      <td>49156</td>\n",
       "      <td>NaN</td>\n",
       "      <td>NaN</td>\n",
       "      <td>{\"type\":\"Polygon\",\"coordinates\":[[[-119.207080...</td>\n",
       "    </tr>\n",
       "    <tr>\n",
       "      <th>1</th>\n",
       "      <td>0_1</td>\n",
       "      <td>NaN</td>\n",
       "      <td>49157</td>\n",
       "      <td>NaN</td>\n",
       "      <td>NaN</td>\n",
       "      <td>{\"type\":\"Polygon\",\"coordinates\":[[[-118.819918...</td>\n",
       "    </tr>\n",
       "  </tbody>\n",
       "</table>\n",
       "</div>"
      ],
      "text/plain": [
       "  system:index  EVI     ID  NDVI  system_start_time  \\\n",
       "0          0_0  NaN  49156   NaN                NaN   \n",
       "1          0_1  NaN  49157   NaN                NaN   \n",
       "\n",
       "                                                .geo  \n",
       "0  {\"type\":\"Polygon\",\"coordinates\":[[[-119.207080...  \n",
       "1  {\"type\":\"Polygon\",\"coordinates\":[[[-118.819918...  "
      ]
     },
     "execution_count": 5,
     "metadata": {},
     "output_type": "execute_result"
    }
   ],
   "source": [
    "df = pd.read_csv(in_dir + in_csv_files[0])\n",
    "df.head(2)"
   ]
  },
  {
   "cell_type": "code",
   "execution_count": 10,
   "id": "50b4c2cb",
   "metadata": {},
   "outputs": [
    {
     "data": {
      "text/html": [
       "<div>\n",
       "<style scoped>\n",
       "    .dataframe tbody tr th:only-of-type {\n",
       "        vertical-align: middle;\n",
       "    }\n",
       "\n",
       "    .dataframe tbody tr th {\n",
       "        vertical-align: top;\n",
       "    }\n",
       "\n",
       "    .dataframe thead th {\n",
       "        text-align: right;\n",
       "    }\n",
       "</style>\n",
       "<table border=\"1\" class=\"dataframe\">\n",
       "  <thead>\n",
       "    <tr style=\"text-align: right;\">\n",
       "      <th></th>\n",
       "      <th>ID</th>\n",
       "      <th>NDVI</th>\n",
       "      <th>system_start_time</th>\n",
       "      <th>human_system_start_time</th>\n",
       "    </tr>\n",
       "  </thead>\n",
       "  <tbody>\n",
       "    <tr>\n",
       "      <th>0</th>\n",
       "      <td>49156</td>\n",
       "      <td>0.354838</td>\n",
       "      <td>1.674155e+12</td>\n",
       "      <td>2023-01-19</td>\n",
       "    </tr>\n",
       "    <tr>\n",
       "      <th>1</th>\n",
       "      <td>49157</td>\n",
       "      <td>0.486426</td>\n",
       "      <td>1.674155e+12</td>\n",
       "      <td>2023-01-19</td>\n",
       "    </tr>\n",
       "  </tbody>\n",
       "</table>\n",
       "</div>"
      ],
      "text/plain": [
       "      ID      NDVI  system_start_time human_system_start_time\n",
       "0  49156  0.354838       1.674155e+12              2023-01-19\n",
       "1  49157  0.486426       1.674155e+12              2023-01-19"
      ]
     },
     "execution_count": 10,
     "metadata": {},
     "output_type": "execute_result"
    }
   ],
   "source": [
    "df = df[[\"ID\", \"NDVI\", \"system_start_time\"]]\n",
    "df = nc.add_human_start_time_by_system_start_time(df)\n",
    "df.reset_index(drop=True, inplace=True)\n",
    "df.head(2)"
   ]
  },
  {
   "cell_type": "code",
   "execution_count": 11,
   "id": "e44fc5ad",
   "metadata": {},
   "outputs": [
    {
     "data": {
      "text/plain": [
       "Timestamp('2023-12-28 00:00:00')"
      ]
     },
     "execution_count": 11,
     "metadata": {},
     "output_type": "execute_result"
    }
   ],
   "source": [
    "df['human_system_start_time'].max()"
   ]
  },
  {
   "cell_type": "code",
   "execution_count": 12,
   "id": "c80dd261",
   "metadata": {},
   "outputs": [],
   "source": [
    "IDs = df[\"ID\"].unique()\n",
    "VI_idx = \"NDVI\""
   ]
  },
  {
   "cell_type": "code",
   "execution_count": 24,
   "id": "2fd67458",
   "metadata": {},
   "outputs": [
    {
     "name": "stderr",
     "output_type": "stream",
     "text": [
      "No artists with labels found to put in legend.  Note that artists whose label start with an underscore are ignored when legend() is called with no argument.\n"
     ]
    },
    {
     "data": {
      "image/png": "[encoded data removed]",
      "text/plain": [
       "<Figure size 1200x300 with 1 Axes>"
      ]
     },
     "metadata": {},
     "output_type": "display_data"
    }
   ],
   "source": [
    "a_field = df[df.ID == IDs[10]].copy()\n",
    "a_field.sort_values(by='human_system_start_time', axis=0, ascending=True, inplace=True)\n",
    "\n",
    "fig, ax = plt.subplots(1, 1, figsize=(12, 3), sharex='col', sharey='row',\n",
    "                       gridspec_kw={'hspace': 0.2, 'wspace': .05});\n",
    "ax.grid(True);\n",
    "ax.plot(a_field['human_system_start_time'], a_field[VI_idx],\n",
    "                linestyle='-',  linewidth=3.5, color=\"dodgerblue\", alpha=0.8)\n",
    "\n",
    "ax.legend(loc=\"lower right\");\n",
    "plt.ylim([-0.5, 1.2]);"
   ]
  },
  {
   "cell_type": "code",
   "execution_count": null,
   "id": "320e6c24",
   "metadata": {},
   "outputs": [],
   "source": []
  }
 ],
 "metadata": {
  "kernelspec": {
   "display_name": "Python 3 (ipykernel)",
   "language": "python",
   "name": "python3"
  },
  "language_info": {
   "codemirror_mode": {
    "name": "ipython",
    "version": 3
   },
   "file_extension": ".py",
   "mimetype": "text/x-python",
   "name": "python",
   "nbconvert_exporter": "python",
   "pygments_lexer": "ipython3",
   "version": "3.11.5"
  }
 },
 "nbformat": 4,
 "nbformat_minor": 5
}
