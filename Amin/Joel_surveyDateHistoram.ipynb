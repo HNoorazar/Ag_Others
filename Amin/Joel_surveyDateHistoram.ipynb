{
 "cells": [
  {
   "cell_type": "code",
   "execution_count": null,
   "id": "3b1df0ea",
   "metadata": {},
   "outputs": [],
   "source": []
  },
  {
   "cell_type": "code",
   "execution_count": 1,
   "id": "0b1006ca",
   "metadata": {},
   "outputs": [],
   "source": [
    "import warnings\n",
    "\n",
    "warnings.filterwarnings(\"ignore\")\n",
    "import numpy as np\n",
    "import pandas as pd\n",
    "from datetime import date\n",
    "\n",
    "import matplotlib\n",
    "import matplotlib.pyplot as plt\n",
    "from pylab import imshow\n",
    "import sys, os, os.path, pickle, time\n",
    "\n",
    "# sys.path.append(\"/Users/hn/Documents/00_GitHub/Ag/NASA/Python_codes/\")\n",
    "# import NASA_core as nc"
   ]
  },
  {
   "cell_type": "code",
   "execution_count": 2,
   "id": "2c03329d",
   "metadata": {},
   "outputs": [],
   "source": [
    "data_dir_ = \"/Users/hn/Documents/01_research_data/Amin/Joel/\"\n",
    "plot_dir = data_dir_ + \"plots/\"\n",
    "\n",
    "os.makedirs(plot_dir, exist_ok=True)"
   ]
  },
  {
   "cell_type": "code",
   "execution_count": 3,
   "id": "2a1b878e",
   "metadata": {},
   "outputs": [
    {
     "name": "stdout",
     "output_type": "stream",
     "text": [
      "(76526, 10)\n",
      "(76526, 10)\n"
     ]
    }
   ],
   "source": [
    "data_2022_nofilter = pd.read_csv(data_dir_ + \"data_2022_nofilter.csv\")\n",
    "data_2023_nofilter = pd.read_csv(data_dir_ + \"data_2023_nofilter.csv\")\n",
    "\n",
    "print (data_2022_nofilter.shape)\n",
    "print (data_2023_nofilter.shape)"
   ]
  },
  {
   "cell_type": "code",
   "execution_count": 4,
   "id": "81c6d03d",
   "metadata": {},
   "outputs": [
    {
     "data": {
      "text/html": [
       "<div>\n",
       "<style scoped>\n",
       "    .dataframe tbody tr th:only-of-type {\n",
       "        vertical-align: middle;\n",
       "    }\n",
       "\n",
       "    .dataframe tbody tr th {\n",
       "        vertical-align: top;\n",
       "    }\n",
       "\n",
       "    .dataframe thead th {\n",
       "        text-align: right;\n",
       "    }\n",
       "</style>\n",
       "<table border=\"1\" class=\"dataframe\">\n",
       "  <thead>\n",
       "    <tr style=\"text-align: right;\">\n",
       "      <th></th>\n",
       "      <th>Unnamed: 0</th>\n",
       "      <th>ID</th>\n",
       "      <th>prob_single</th>\n",
       "      <th>Acres</th>\n",
       "      <th>county</th>\n",
       "      <th>CropTyp</th>\n",
       "      <th>DataSrc</th>\n",
       "      <th>Irrigtn</th>\n",
       "      <th>LstSrvD</th>\n",
       "      <th>label</th>\n",
       "    </tr>\n",
       "  </thead>\n",
       "  <tbody>\n",
       "    <tr>\n",
       "      <th>0</th>\n",
       "      <td>0</td>\n",
       "      <td>144261</td>\n",
       "      <td>1.0</td>\n",
       "      <td>2</td>\n",
       "      <td>Spokane</td>\n",
       "      <td>Developed</td>\n",
       "      <td>WSDA</td>\n",
       "      <td>sprinkler</td>\n",
       "      <td>2022/05/04 00:00:00.000</td>\n",
       "      <td>single-cropped</td>\n",
       "    </tr>\n",
       "    <tr>\n",
       "      <th>1</th>\n",
       "      <td>1</td>\n",
       "      <td>144262</td>\n",
       "      <td>1.0</td>\n",
       "      <td>2</td>\n",
       "      <td>Spokane</td>\n",
       "      <td>Fallow, Idle</td>\n",
       "      <td>WSDA</td>\n",
       "      <td>sprinkler</td>\n",
       "      <td>2022/08/05 00:00:00.000</td>\n",
       "      <td>single-cropped</td>\n",
       "    </tr>\n",
       "  </tbody>\n",
       "</table>\n",
       "</div>"
      ],
      "text/plain": [
       "   Unnamed: 0      ID  prob_single  Acres   county       CropTyp DataSrc  \\\n",
       "0           0  144261          1.0      2  Spokane     Developed    WSDA   \n",
       "1           1  144262          1.0      2  Spokane  Fallow, Idle    WSDA   \n",
       "\n",
       "     Irrigtn                  LstSrvD           label  \n",
       "0  sprinkler  2022/05/04 00:00:00.000  single-cropped  \n",
       "1  sprinkler  2022/08/05 00:00:00.000  single-cropped  "
      ]
     },
     "execution_count": 4,
     "metadata": {},
     "output_type": "execute_result"
    }
   ],
   "source": [
    "data_2022_nofilter.head(2)"
   ]
  },
  {
   "cell_type": "code",
   "execution_count": 5,
   "id": "67963878",
   "metadata": {},
   "outputs": [
    {
     "data": {
      "text/plain": [
       "'2031/07/23 00:00:00.000'"
      ]
     },
     "execution_count": 5,
     "metadata": {},
     "output_type": "execute_result"
    }
   ],
   "source": [
    "data_2022_nofilter.LstSrvD.max()"
   ]
  },
  {
   "cell_type": "code",
   "execution_count": null,
   "id": "ce45fd4a",
   "metadata": {},
   "outputs": [],
   "source": []
  },
  {
   "cell_type": "code",
   "execution_count": 6,
   "id": "84c18fb0",
   "metadata": {},
   "outputs": [
    {
     "data": {
      "text/html": [
       "<div>\n",
       "<style scoped>\n",
       "    .dataframe tbody tr th:only-of-type {\n",
       "        vertical-align: middle;\n",
       "    }\n",
       "\n",
       "    .dataframe tbody tr th {\n",
       "        vertical-align: top;\n",
       "    }\n",
       "\n",
       "    .dataframe thead th {\n",
       "        text-align: right;\n",
       "    }\n",
       "</style>\n",
       "<table border=\"1\" class=\"dataframe\">\n",
       "  <thead>\n",
       "    <tr style=\"text-align: right;\">\n",
       "      <th></th>\n",
       "      <th>id</th>\n",
       "      <th>prob_single</th>\n",
       "      <th>acres</th>\n",
       "      <th>county</th>\n",
       "      <th>croptyp</th>\n",
       "      <th>datasrc</th>\n",
       "      <th>irrigtn</th>\n",
       "      <th>lstsrvd</th>\n",
       "      <th>label</th>\n",
       "    </tr>\n",
       "  </thead>\n",
       "  <tbody>\n",
       "    <tr>\n",
       "      <th>0</th>\n",
       "      <td>1</td>\n",
       "      <td>1.0</td>\n",
       "      <td>15</td>\n",
       "      <td>Adams</td>\n",
       "      <td>apple</td>\n",
       "      <td>WSDA</td>\n",
       "      <td>drip/micro-sprinkler</td>\n",
       "      <td>2022/09/13 00:00:00.000</td>\n",
       "      <td>single-cropped</td>\n",
       "    </tr>\n",
       "    <tr>\n",
       "      <th>1</th>\n",
       "      <td>2</td>\n",
       "      <td>1.0</td>\n",
       "      <td>11</td>\n",
       "      <td>Adams</td>\n",
       "      <td>apple</td>\n",
       "      <td>WSDA</td>\n",
       "      <td>drip/micro-sprinkler</td>\n",
       "      <td>2022/09/13 00:00:00.000</td>\n",
       "      <td>single-cropped</td>\n",
       "    </tr>\n",
       "  </tbody>\n",
       "</table>\n",
       "</div>"
      ],
      "text/plain": [
       "   id  prob_single  acres county croptyp datasrc               irrigtn  \\\n",
       "0   1          1.0     15  Adams   apple    WSDA  drip/micro-sprinkler   \n",
       "1   2          1.0     11  Adams   apple    WSDA  drip/micro-sprinkler   \n",
       "\n",
       "                   lstsrvd           label  \n",
       "0  2022/09/13 00:00:00.000  single-cropped  \n",
       "1  2022/09/13 00:00:00.000  single-cropped  "
      ]
     },
     "execution_count": 6,
     "metadata": {},
     "output_type": "execute_result"
    }
   ],
   "source": [
    "data_2022_nofilter = pd.read_csv(data_dir_ + \"data_2022_nofilter.csv\")\n",
    "data_2022_nofilter[\"CropTyp\"] = data_2022_nofilter[\"CropTyp\"].str.lower()\n",
    "data_2022_nofilter.drop(columns=[\"Unnamed: 0\"], inplace=True)\n",
    "\n",
    "### Rename column names: lower case for consistency\n",
    "data_2022_nofilter.rename(columns=lambda x: x.lower().replace(\" \", \"_\"), inplace=True)\n",
    "\n",
    "##### Sort by id\n",
    "data_2022_nofilter.sort_values(by=[\"id\"], inplace=True)\n",
    "data_2022_nofilter.reset_index(drop=True, inplace=True)\n",
    "\n",
    "data_2022_nofilter.head(2)"
   ]
  },
  {
   "cell_type": "code",
   "execution_count": 7,
   "id": "5da3fae6",
   "metadata": {},
   "outputs": [
    {
     "data": {
      "text/html": [
       "<div>\n",
       "<style scoped>\n",
       "    .dataframe tbody tr th:only-of-type {\n",
       "        vertical-align: middle;\n",
       "    }\n",
       "\n",
       "    .dataframe tbody tr th {\n",
       "        vertical-align: top;\n",
       "    }\n",
       "\n",
       "    .dataframe thead th {\n",
       "        text-align: right;\n",
       "    }\n",
       "</style>\n",
       "<table border=\"1\" class=\"dataframe\">\n",
       "  <thead>\n",
       "    <tr style=\"text-align: right;\">\n",
       "      <th></th>\n",
       "      <th>id</th>\n",
       "      <th>prob_single</th>\n",
       "      <th>acres</th>\n",
       "      <th>county</th>\n",
       "      <th>croptyp</th>\n",
       "      <th>datasrc</th>\n",
       "      <th>irrigtn</th>\n",
       "      <th>lstsrvd</th>\n",
       "      <th>label</th>\n",
       "      <th>last_survey_year</th>\n",
       "    </tr>\n",
       "  </thead>\n",
       "  <tbody>\n",
       "    <tr>\n",
       "      <th>0</th>\n",
       "      <td>1</td>\n",
       "      <td>1.0</td>\n",
       "      <td>15</td>\n",
       "      <td>Adams</td>\n",
       "      <td>apple</td>\n",
       "      <td>WSDA</td>\n",
       "      <td>drip/micro-sprinkler</td>\n",
       "      <td>2022-09-13</td>\n",
       "      <td>single-cropped</td>\n",
       "      <td>2022</td>\n",
       "    </tr>\n",
       "    <tr>\n",
       "      <th>1</th>\n",
       "      <td>2</td>\n",
       "      <td>1.0</td>\n",
       "      <td>11</td>\n",
       "      <td>Adams</td>\n",
       "      <td>apple</td>\n",
       "      <td>WSDA</td>\n",
       "      <td>drip/micro-sprinkler</td>\n",
       "      <td>2022-09-13</td>\n",
       "      <td>single-cropped</td>\n",
       "      <td>2022</td>\n",
       "    </tr>\n",
       "  </tbody>\n",
       "</table>\n",
       "</div>"
      ],
      "text/plain": [
       "   id  prob_single  acres county croptyp datasrc               irrigtn  \\\n",
       "0   1          1.0     15  Adams   apple    WSDA  drip/micro-sprinkler   \n",
       "1   2          1.0     11  Adams   apple    WSDA  drip/micro-sprinkler   \n",
       "\n",
       "     lstsrvd           label  last_survey_year  \n",
       "0 2022-09-13  single-cropped              2022  \n",
       "1 2022-09-13  single-cropped              2022  "
      ]
     },
     "execution_count": 7,
     "metadata": {},
     "output_type": "execute_result"
    }
   ],
   "source": [
    "### Convert type of lstsrvd from string to date\n",
    "data_2022_nofilter.lstsrvd = pd.to_datetime(data_2022_nofilter.lstsrvd)\n",
    "data_2022_nofilter[\"last_survey_year\"] = data_2022_nofilter.lstsrvd.dt.year\n",
    "data_2022_nofilter.head(2)"
   ]
  },
  {
   "cell_type": "code",
   "execution_count": 8,
   "id": "add075f0",
   "metadata": {},
   "outputs": [],
   "source": [
    "tick_legend_FontSize = 10\n",
    "\n",
    "params = {\n",
    "    \"legend.fontsize\": tick_legend_FontSize,  # medium, large\n",
    "    # 'figure.figsize': (6, 4),\n",
    "    \"axes.labelsize\": tick_legend_FontSize * 1.2,\n",
    "    \"axes.titlesize\": tick_legend_FontSize * 1.3,\n",
    "    \"xtick.labelsize\": tick_legend_FontSize,  #  * 0.75\n",
    "    \"ytick.labelsize\": tick_legend_FontSize,  #  * 0.75\n",
    "    \"axes.titlepad\": 10,\n",
    "}\n",
    "\n",
    "plt.rc(\"font\", family=\"Palatino\")\n",
    "plt.rcParams[\"xtick.bottom\"] = True\n",
    "plt.rcParams[\"ytick.left\"] = True\n",
    "plt.rcParams[\"xtick.labelbottom\"] = True\n",
    "plt.rcParams[\"ytick.labelleft\"] = True\n",
    "plt.rcParams.update(params)"
   ]
  },
  {
   "cell_type": "code",
   "execution_count": 11,
   "id": "c1140347",
   "metadata": {},
   "outputs": [
    {
     "data": {
      "text/html": [
       "<div>\n",
       "<style scoped>\n",
       "    .dataframe tbody tr th:only-of-type {\n",
       "        vertical-align: middle;\n",
       "    }\n",
       "\n",
       "    .dataframe tbody tr th {\n",
       "        vertical-align: top;\n",
       "    }\n",
       "\n",
       "    .dataframe thead th {\n",
       "        text-align: right;\n",
       "    }\n",
       "</style>\n",
       "<table border=\"1\" class=\"dataframe\">\n",
       "  <thead>\n",
       "    <tr style=\"text-align: right;\">\n",
       "      <th></th>\n",
       "      <th>last_survey_year</th>\n",
       "      <th>id</th>\n",
       "    </tr>\n",
       "  </thead>\n",
       "  <tbody>\n",
       "    <tr>\n",
       "      <th>0</th>\n",
       "      <td>2002</td>\n",
       "      <td>8</td>\n",
       "    </tr>\n",
       "    <tr>\n",
       "      <th>1</th>\n",
       "      <td>2003</td>\n",
       "      <td>1</td>\n",
       "    </tr>\n",
       "    <tr>\n",
       "      <th>2</th>\n",
       "      <td>2004</td>\n",
       "      <td>11</td>\n",
       "    </tr>\n",
       "    <tr>\n",
       "      <th>3</th>\n",
       "      <td>2005</td>\n",
       "      <td>4</td>\n",
       "    </tr>\n",
       "    <tr>\n",
       "      <th>4</th>\n",
       "      <td>2006</td>\n",
       "      <td>7</td>\n",
       "    </tr>\n",
       "    <tr>\n",
       "      <th>5</th>\n",
       "      <td>2007</td>\n",
       "      <td>3</td>\n",
       "    </tr>\n",
       "    <tr>\n",
       "      <th>6</th>\n",
       "      <td>2008</td>\n",
       "      <td>8</td>\n",
       "    </tr>\n",
       "    <tr>\n",
       "      <th>7</th>\n",
       "      <td>2009</td>\n",
       "      <td>54</td>\n",
       "    </tr>\n",
       "    <tr>\n",
       "      <th>8</th>\n",
       "      <td>2010</td>\n",
       "      <td>33</td>\n",
       "    </tr>\n",
       "    <tr>\n",
       "      <th>9</th>\n",
       "      <td>2011</td>\n",
       "      <td>9</td>\n",
       "    </tr>\n",
       "    <tr>\n",
       "      <th>10</th>\n",
       "      <td>2012</td>\n",
       "      <td>10</td>\n",
       "    </tr>\n",
       "    <tr>\n",
       "      <th>11</th>\n",
       "      <td>2013</td>\n",
       "      <td>21</td>\n",
       "    </tr>\n",
       "    <tr>\n",
       "      <th>12</th>\n",
       "      <td>2014</td>\n",
       "      <td>65</td>\n",
       "    </tr>\n",
       "    <tr>\n",
       "      <th>13</th>\n",
       "      <td>2015</td>\n",
       "      <td>96</td>\n",
       "    </tr>\n",
       "    <tr>\n",
       "      <th>14</th>\n",
       "      <td>2016</td>\n",
       "      <td>41</td>\n",
       "    </tr>\n",
       "    <tr>\n",
       "      <th>15</th>\n",
       "      <td>2017</td>\n",
       "      <td>48</td>\n",
       "    </tr>\n",
       "    <tr>\n",
       "      <th>16</th>\n",
       "      <td>2018</td>\n",
       "      <td>247</td>\n",
       "    </tr>\n",
       "    <tr>\n",
       "      <th>17</th>\n",
       "      <td>2019</td>\n",
       "      <td>157</td>\n",
       "    </tr>\n",
       "    <tr>\n",
       "      <th>18</th>\n",
       "      <td>2020</td>\n",
       "      <td>36</td>\n",
       "    </tr>\n",
       "    <tr>\n",
       "      <th>19</th>\n",
       "      <td>2021</td>\n",
       "      <td>33810</td>\n",
       "    </tr>\n",
       "    <tr>\n",
       "      <th>20</th>\n",
       "      <td>2022</td>\n",
       "      <td>9567</td>\n",
       "    </tr>\n",
       "    <tr>\n",
       "      <th>21</th>\n",
       "      <td>2023</td>\n",
       "      <td>32282</td>\n",
       "    </tr>\n",
       "    <tr>\n",
       "      <th>22</th>\n",
       "      <td>2031</td>\n",
       "      <td>8</td>\n",
       "    </tr>\n",
       "  </tbody>\n",
       "</table>\n",
       "</div>"
      ],
      "text/plain": [
       "    last_survey_year     id\n",
       "0               2002      8\n",
       "1               2003      1\n",
       "2               2004     11\n",
       "3               2005      4\n",
       "4               2006      7\n",
       "5               2007      3\n",
       "6               2008      8\n",
       "7               2009     54\n",
       "8               2010     33\n",
       "9               2011      9\n",
       "10              2012     10\n",
       "11              2013     21\n",
       "12              2014     65\n",
       "13              2015     96\n",
       "14              2016     41\n",
       "15              2017     48\n",
       "16              2018    247\n",
       "17              2019    157\n",
       "18              2020     36\n",
       "19              2021  33810\n",
       "20              2022   9567\n",
       "21              2023  32282\n",
       "22              2031      8"
      ]
     },
     "execution_count": 11,
     "metadata": {},
     "output_type": "execute_result"
    }
   ],
   "source": [
    "df = data_2022_nofilter.copy()\n",
    "df[[\"id\", \"last_survey_year\"]].groupby(\"last_survey_year\").count().reset_index()"
   ]
  },
  {
   "cell_type": "code",
   "execution_count": 60,
   "id": "fef3c892",
   "metadata": {},
   "outputs": [
    {
     "data": {
      "image/png": "[encoded data removed]",
      "text/plain": [
       "<Figure size 1000x300 with 1 Axes>"
      ]
     },
     "metadata": {},
     "output_type": "display_data"
    }
   ],
   "source": [
    "df = data_2022_nofilter.copy()\n",
    "\n",
    "fig, axs = plt.subplots(1, 1, figsize=(10, 3), sharex=False, gridspec_kw={\"hspace\": 0.35, \"wspace\": 0.05})\n",
    "axs.grid(axis=\"y\", which=\"both\")\n",
    "\n",
    "LL = len(df[\"last_survey_year\"].unique())\n",
    "X_axis = np.arange(LL)\n",
    "\n",
    "bar_width_ = 1\n",
    "step_size_ = 2*bar_width_\n",
    "X_axis = np.array(range(0, step_size_ * LL, step_size_))\n",
    "\n",
    "df = df[[\"id\", \"last_survey_year\"]].groupby(\"last_survey_year\").count().reset_index()\n",
    "axs.bar(2 + X_axis - bar_width_ * 2, df[\"id\"], color=\"dodgerblue\", width=bar_width_);\n",
    "axs.set_ylabel(\"field count\");\n",
    "axs.set_xlabel(\"year\");\n",
    "axs.set_xticks(X_axis, df[\"last_survey_year\"]);"
   ]
  },
  {
   "cell_type": "code",
   "execution_count": 59,
   "id": "7c118855",
   "metadata": {},
   "outputs": [
    {
     "data": {
      "text/plain": [
       "array([ 0,  2,  4,  6,  8, 10, 12, 14, 16, 18, 20, 22, 24, 26, 28, 30, 32,\n",
       "       34, 36, 38, 40, 42, 44])"
      ]
     },
     "execution_count": 59,
     "metadata": {},
     "output_type": "execute_result"
    }
   ],
   "source": [
    "2+ X_axis - bar_width_ * 2"
   ]
  },
  {
   "cell_type": "code",
   "execution_count": 52,
   "id": "07e46dc0",
   "metadata": {},
   "outputs": [
    {
     "data": {
      "text/plain": [
       "array([-5, -4, -3, -2, -1,  0,  1,  2,  3,  4,  5,  6,  7,  8,  9, 10, 11,\n",
       "       12, 13, 14, 15, 16, 17])"
      ]
     },
     "execution_count": 52,
     "metadata": {},
     "output_type": "execute_result"
    }
   ],
   "source": [
    "X_axis - bar_width_ * 5"
   ]
  },
  {
   "cell_type": "code",
   "execution_count": null,
   "id": "fe9fc91a",
   "metadata": {},
   "outputs": [],
   "source": []
  }
 ],
 "metadata": {
  "kernelspec": {
   "display_name": "Python 3 (ipykernel)",
   "language": "python",
   "name": "python3"
  },
  "language_info": {
   "codemirror_mode": {
    "name": "ipython",
    "version": 3
   },
   "file_extension": ".py",
   "mimetype": "text/x-python",
   "name": "python",
   "nbconvert_exporter": "python",
   "pygments_lexer": "ipython3",
   "version": "3.9.6"
  }
 },
 "nbformat": 4,
 "nbformat_minor": 5
}
