{
 "cells": [
  {
   "cell_type": "code",
   "execution_count": 1,
   "id": "edf445ab",
   "metadata": {},
   "outputs": [],
   "source": [
    "import numpy as np\n",
    "import pandas as pd\n",
    "import time, datetime\n",
    "import sys, os, os.path\n",
    "import scipy, scipy.signal\n",
    "\n",
    "from datetime import date, datetime\n",
    "\n",
    "from sklearn.linear_model import LinearRegression\n",
    "from sklearn.metrics import f1_score, accuracy_score, \\\n",
    "                            confusion_matrix, balanced_accuracy_score, \\\n",
    "                            classification_report\n",
    "import matplotlib.pyplot as plt\n",
    "\n",
    "# from patsy import cr\n",
    "# from pprint import pprint\n",
    "# from statsmodels.sandbox.regression.predstd import wls_prediction_std"
   ]
  },
  {
   "cell_type": "code",
   "execution_count": 2,
   "id": "880aefa6",
   "metadata": {},
   "outputs": [
    {
     "name": "stderr",
     "output_type": "stream",
     "text": [
      "/Library/Python/3.9/site-packages/urllib3/__init__.py:35: NotOpenSSLWarning: urllib3 v2 only supports OpenSSL 1.1.1+, currently the 'ssl' module is compiled with 'LibreSSL 2.8.3'. See: https://github.com/urllib3/urllib3/issues/3020\n",
      "  warnings.warn(\n"
     ]
    }
   ],
   "source": [
    "sys.path.append('/Users/hn/Documents/00_GitHub/Ag/NASA/Python_codes/')\n",
    "import NASA_core as nc\n",
    "import NASA_plot_core as ncp"
   ]
  },
  {
   "cell_type": "code",
   "execution_count": 3,
   "id": "4f0fb719",
   "metadata": {
    "lines_to_next_cell": 2
   },
   "outputs": [],
   "source": [
    "NASA_dir_base = \"/Users/hn/Documents/01_research_data/NASA/\"\n",
    "train_TS_dir_base = NASA_dir_base + \"VI_TS/\"\n",
    "training_set_dir = NASA_dir_base + \"/ML_data_Oct17/\"\n",
    "\n",
    "meta_dir = NASA_dir_base + \"parameters/\"\n",
    "data_part_of_shapefile_dir = NASA_dir_base + \"data_part_of_shapefile/\""
   ]
  },
  {
   "cell_type": "code",
   "execution_count": 4,
   "id": "ce77ab3a",
   "metadata": {},
   "outputs": [],
   "source": [
    "# MacBook directories\n",
    "\n",
    "NASA_dir_base = \"/Users/hn/Documents/01_research_data/Amin/inclusion_prob/\"\n",
    "data_part_of_shapefile_dir = NASA_dir_base + \"data_part_of_shapefile/\"\n",
    "training_set_dir = NASA_dir_base"
   ]
  },
  {
   "cell_type": "code",
   "execution_count": 5,
   "id": "695c5b20",
   "metadata": {},
   "outputs": [],
   "source": [
    "\n",
    "# meta = pd.read_csv(meta_dir+\"evaluation_set.csv\")\n",
    "# meta_moreThan10Acr=meta[meta.ExctAcr > 10]\n",
    "# print (meta.shape)\n",
    "# print (meta_moreThan10Acr.shape)\n",
    "# meta.head(2)"
   ]
  },
  {
   "cell_type": "code",
   "execution_count": 6,
   "id": "987d789c",
   "metadata": {},
   "outputs": [
    {
     "name": "stdout",
     "output_type": "stream",
     "text": [
      "Unique Votes:  [2 1]\n",
      "3160\n"
     ]
    },
    {
     "data": {
      "text/html": [
       "<div>\n",
       "<style scoped>\n",
       "    .dataframe tbody tr th:only-of-type {\n",
       "        vertical-align: middle;\n",
       "    }\n",
       "\n",
       "    .dataframe tbody tr th {\n",
       "        vertical-align: top;\n",
       "    }\n",
       "\n",
       "    .dataframe thead th {\n",
       "        text-align: right;\n",
       "    }\n",
       "</style>\n",
       "<table border=\"1\" class=\"dataframe\">\n",
       "  <thead>\n",
       "    <tr style=\"text-align: right;\">\n",
       "      <th></th>\n",
       "      <th>ID</th>\n",
       "      <th>Vote</th>\n",
       "    </tr>\n",
       "  </thead>\n",
       "  <tbody>\n",
       "    <tr>\n",
       "      <th>0</th>\n",
       "      <td>99837_WSDA_SF_2017</td>\n",
       "      <td>2</td>\n",
       "    </tr>\n",
       "    <tr>\n",
       "      <th>1</th>\n",
       "      <td>114615_WSDA_SF_2017</td>\n",
       "      <td>1</td>\n",
       "    </tr>\n",
       "  </tbody>\n",
       "</table>\n",
       "</div>"
      ],
      "text/plain": [
       "                    ID  Vote\n",
       "0   99837_WSDA_SF_2017     2\n",
       "1  114615_WSDA_SF_2017     1"
      ]
     },
     "execution_count": 6,
     "metadata": {},
     "output_type": "execute_result"
    }
   ],
   "source": [
    "ground_truth_labels = pd.read_csv(training_set_dir+\"groundTruth_labels_Oct17_2022.csv\")\n",
    "print (\"Unique Votes: \", ground_truth_labels.Vote.unique())\n",
    "print (len(ground_truth_labels.ID.unique()))\n",
    "ground_truth_labels.head(2)"
   ]
  },
  {
   "cell_type": "code",
   "execution_count": 7,
   "id": "9cd0fc53",
   "metadata": {},
   "outputs": [
    {
     "data": {
      "text/plain": [
       "['FranklinYakima2018.csv',\n",
       " 'irriigated_SF_data_concatenated.csv',\n",
       " 'all_eastern_centroid.csv',\n",
       " 'Eastern_2018_centroid.csv',\n",
       " 'Eastern_2015_centroid.csv',\n",
       " 'Walla2015.csv',\n",
       " 'AdamBenton2016.csv',\n",
       " 'all_SF_data_concatenated.csv',\n",
       " 'Eastern_2016_centroid.csv',\n",
       " 'Eastern_2017_centroid.csv',\n",
       " 'Monterey2014.csv',\n",
       " 'Grant2017.csv']"
      ]
     },
     "execution_count": 7,
     "metadata": {},
     "output_type": "execute_result"
    }
   ],
   "source": [
    "csv_data_parts = os.listdir(data_part_of_shapefile_dir)\n",
    "csv_data_parts = [x for x in csv_data_parts if x.endswith(\"csv\")]\n",
    "csv_data_parts"
   ]
  },
  {
   "cell_type": "code",
   "execution_count": 8,
   "id": "f1e895f5",
   "metadata": {},
   "outputs": [
    {
     "data": {
      "text/html": [
       "<div>\n",
       "<style scoped>\n",
       "    .dataframe tbody tr th:only-of-type {\n",
       "        vertical-align: middle;\n",
       "    }\n",
       "\n",
       "    .dataframe tbody tr th {\n",
       "        vertical-align: top;\n",
       "    }\n",
       "\n",
       "    .dataframe thead th {\n",
       "        text-align: right;\n",
       "    }\n",
       "</style>\n",
       "<table border=\"1\" class=\"dataframe\">\n",
       "  <thead>\n",
       "    <tr style=\"text-align: right;\">\n",
       "      <th></th>\n",
       "      <th>ID</th>\n",
       "      <th>CropTyp</th>\n",
       "      <th>Acres</th>\n",
       "      <th>ExctAcr</th>\n",
       "      <th>Irrigtn</th>\n",
       "      <th>LstSrvD</th>\n",
       "      <th>DataSrc</th>\n",
       "      <th>county</th>\n",
       "    </tr>\n",
       "  </thead>\n",
       "  <tbody>\n",
       "    <tr>\n",
       "      <th>0</th>\n",
       "      <td>51380_WSDA_SF_2016</td>\n",
       "      <td>bluegrass seed</td>\n",
       "      <td>6</td>\n",
       "      <td>6.116621</td>\n",
       "      <td>sprinkler</td>\n",
       "      <td>2016/09/19 00:00:00</td>\n",
       "      <td>wsda</td>\n",
       "      <td>Adams</td>\n",
       "    </tr>\n",
       "    <tr>\n",
       "      <th>1</th>\n",
       "      <td>51381_WSDA_SF_2016</td>\n",
       "      <td>wheat</td>\n",
       "      <td>117</td>\n",
       "      <td>116.743101</td>\n",
       "      <td>center pivot</td>\n",
       "      <td>2016/09/20 00:00:00</td>\n",
       "      <td>wsda</td>\n",
       "      <td>Adams</td>\n",
       "    </tr>\n",
       "  </tbody>\n",
       "</table>\n",
       "</div>"
      ],
      "text/plain": [
       "                   ID         CropTyp  Acres     ExctAcr       Irrigtn  \\\n",
       "0  51380_WSDA_SF_2016  bluegrass seed      6    6.116621     sprinkler   \n",
       "1  51381_WSDA_SF_2016           wheat    117  116.743101  center pivot   \n",
       "\n",
       "               LstSrvD DataSrc county  \n",
       "0  2016/09/19 00:00:00    wsda  Adams  \n",
       "1  2016/09/20 00:00:00    wsda  Adams  "
      ]
     },
     "execution_count": 8,
     "metadata": {},
     "output_type": "execute_result"
    }
   ],
   "source": [
    "irriigated_SF_data = pd.read_csv(data_part_of_shapefile_dir + \"irriigated_SF_data_concatenated.csv\")\n",
    "irriigated_SF_data.head(2)"
   ]
  },
  {
   "cell_type": "code",
   "execution_count": 9,
   "id": "4aea4f09",
   "metadata": {},
   "outputs": [
    {
     "data": {
      "text/plain": [
       "array(['Adams', 'Benton', 'Franklin', 'Yakima', 'Grant', 'Walla Walla'],\n",
       "      dtype=object)"
      ]
     },
     "execution_count": 9,
     "metadata": {},
     "output_type": "execute_result"
    }
   ],
   "source": [
    "irriigated_SF_data.county.unique()"
   ]
  },
  {
   "cell_type": "code",
   "execution_count": 10,
   "id": "d84b2b36",
   "metadata": {},
   "outputs": [
    {
     "data": {
      "text/html": [
       "<div>\n",
       "<style scoped>\n",
       "    .dataframe tbody tr th:only-of-type {\n",
       "        vertical-align: middle;\n",
       "    }\n",
       "\n",
       "    .dataframe tbody tr th {\n",
       "        vertical-align: top;\n",
       "    }\n",
       "\n",
       "    .dataframe thead th {\n",
       "        text-align: right;\n",
       "    }\n",
       "</style>\n",
       "<table border=\"1\" class=\"dataframe\">\n",
       "  <thead>\n",
       "    <tr style=\"text-align: right;\">\n",
       "      <th></th>\n",
       "      <th>ID</th>\n",
       "      <th>CropTyp</th>\n",
       "      <th>Acres</th>\n",
       "      <th>ExctAcr</th>\n",
       "      <th>Irrigtn</th>\n",
       "      <th>LstSrvD</th>\n",
       "      <th>DataSrc</th>\n",
       "      <th>county</th>\n",
       "      <th>survey_year</th>\n",
       "    </tr>\n",
       "  </thead>\n",
       "  <tbody>\n",
       "    <tr>\n",
       "      <th>0</th>\n",
       "      <td>51380_WSDA_SF_2016</td>\n",
       "      <td>bluegrass seed</td>\n",
       "      <td>6</td>\n",
       "      <td>6.116621</td>\n",
       "      <td>sprinkler</td>\n",
       "      <td>2016/09/19 00:00:00</td>\n",
       "      <td>wsda</td>\n",
       "      <td>Adams</td>\n",
       "      <td>2016</td>\n",
       "    </tr>\n",
       "    <tr>\n",
       "      <th>1</th>\n",
       "      <td>51381_WSDA_SF_2016</td>\n",
       "      <td>wheat</td>\n",
       "      <td>117</td>\n",
       "      <td>116.743101</td>\n",
       "      <td>center pivot</td>\n",
       "      <td>2016/09/20 00:00:00</td>\n",
       "      <td>wsda</td>\n",
       "      <td>Adams</td>\n",
       "      <td>2016</td>\n",
       "    </tr>\n",
       "  </tbody>\n",
       "</table>\n",
       "</div>"
      ],
      "text/plain": [
       "                   ID         CropTyp  Acres     ExctAcr       Irrigtn  \\\n",
       "0  51380_WSDA_SF_2016  bluegrass seed      6    6.116621     sprinkler   \n",
       "1  51381_WSDA_SF_2016           wheat    117  116.743101  center pivot   \n",
       "\n",
       "               LstSrvD DataSrc county  survey_year  \n",
       "0  2016/09/19 00:00:00    wsda  Adams         2016  \n",
       "1  2016/09/20 00:00:00    wsda  Adams         2016  "
      ]
     },
     "execution_count": 10,
     "metadata": {},
     "output_type": "execute_result"
    }
   ],
   "source": [
    "irriigated_SF_data[\"survey_year\"] = pd.to_datetime(irriigated_SF_data[\"LstSrvD\"], \n",
    "                                                                format='mixed').dt.year\n",
    "\n",
    "irriigated_SF_data.head(2)"
   ]
  },
  {
   "cell_type": "code",
   "execution_count": 11,
   "id": "8236ab14",
   "metadata": {},
   "outputs": [
    {
     "data": {
      "text/html": [
       "<div>\n",
       "<style scoped>\n",
       "    .dataframe tbody tr th:only-of-type {\n",
       "        vertical-align: middle;\n",
       "    }\n",
       "\n",
       "    .dataframe tbody tr th {\n",
       "        vertical-align: top;\n",
       "    }\n",
       "\n",
       "    .dataframe thead th {\n",
       "        text-align: right;\n",
       "    }\n",
       "</style>\n",
       "<table border=\"1\" class=\"dataframe\">\n",
       "  <thead>\n",
       "    <tr style=\"text-align: right;\">\n",
       "      <th></th>\n",
       "      <th>ID</th>\n",
       "      <th>CropTyp</th>\n",
       "      <th>Acres</th>\n",
       "      <th>ExctAcr</th>\n",
       "      <th>Irrigtn</th>\n",
       "      <th>LstSrvD</th>\n",
       "      <th>DataSrc</th>\n",
       "      <th>county</th>\n",
       "      <th>survey_year</th>\n",
       "    </tr>\n",
       "  </thead>\n",
       "  <tbody>\n",
       "    <tr>\n",
       "      <th>0</th>\n",
       "      <td>51380_WSDA_SF_2016</td>\n",
       "      <td>bluegrass seed</td>\n",
       "      <td>6</td>\n",
       "      <td>6.116621</td>\n",
       "      <td>sprinkler</td>\n",
       "      <td>2016/09/19 00:00:00</td>\n",
       "      <td>wsda</td>\n",
       "      <td>Adams</td>\n",
       "      <td>2016</td>\n",
       "    </tr>\n",
       "    <tr>\n",
       "      <th>1</th>\n",
       "      <td>51381_WSDA_SF_2016</td>\n",
       "      <td>wheat</td>\n",
       "      <td>117</td>\n",
       "      <td>116.743101</td>\n",
       "      <td>center pivot</td>\n",
       "      <td>2016/09/20 00:00:00</td>\n",
       "      <td>wsda</td>\n",
       "      <td>Adams</td>\n",
       "      <td>2016</td>\n",
       "    </tr>\n",
       "    <tr>\n",
       "      <th>2</th>\n",
       "      <td>51383_WSDA_SF_2016</td>\n",
       "      <td>wheat</td>\n",
       "      <td>113</td>\n",
       "      <td>113.432725</td>\n",
       "      <td>center pivot</td>\n",
       "      <td>2016/09/13 00:00:00</td>\n",
       "      <td>wsda</td>\n",
       "      <td>Adams</td>\n",
       "      <td>2016</td>\n",
       "    </tr>\n",
       "  </tbody>\n",
       "</table>\n",
       "</div>"
      ],
      "text/plain": [
       "                   ID         CropTyp  Acres     ExctAcr       Irrigtn  \\\n",
       "0  51380_WSDA_SF_2016  bluegrass seed      6    6.116621     sprinkler   \n",
       "1  51381_WSDA_SF_2016           wheat    117  116.743101  center pivot   \n",
       "2  51383_WSDA_SF_2016           wheat    113  113.432725  center pivot   \n",
       "\n",
       "               LstSrvD DataSrc county  survey_year  \n",
       "0  2016/09/19 00:00:00    wsda  Adams         2016  \n",
       "1  2016/09/20 00:00:00    wsda  Adams         2016  \n",
       "2  2016/09/13 00:00:00    wsda  Adams         2016  "
      ]
     },
     "execution_count": 11,
     "metadata": {},
     "output_type": "execute_result"
    }
   ],
   "source": [
    "irriigated_SF_data.head(3)"
   ]
  },
  {
   "cell_type": "code",
   "execution_count": 12,
   "id": "7980fdd0",
   "metadata": {},
   "outputs": [
    {
     "data": {
      "text/html": [
       "<div>\n",
       "<style scoped>\n",
       "    .dataframe tbody tr th:only-of-type {\n",
       "        vertical-align: middle;\n",
       "    }\n",
       "\n",
       "    .dataframe tbody tr th {\n",
       "        vertical-align: top;\n",
       "    }\n",
       "\n",
       "    .dataframe thead th {\n",
       "        text-align: right;\n",
       "    }\n",
       "</style>\n",
       "<table border=\"1\" class=\"dataframe\">\n",
       "  <thead>\n",
       "    <tr style=\"text-align: right;\">\n",
       "      <th></th>\n",
       "      <th>ID</th>\n",
       "      <th>CropTyp</th>\n",
       "      <th>Acres</th>\n",
       "      <th>ExctAcr</th>\n",
       "      <th>Irrigtn</th>\n",
       "      <th>LstSrvD</th>\n",
       "      <th>DataSrc</th>\n",
       "      <th>county</th>\n",
       "      <th>survey_year</th>\n",
       "      <th>SF_year</th>\n",
       "    </tr>\n",
       "  </thead>\n",
       "  <tbody>\n",
       "    <tr>\n",
       "      <th>0</th>\n",
       "      <td>51380_WSDA_SF_2016</td>\n",
       "      <td>bluegrass seed</td>\n",
       "      <td>6</td>\n",
       "      <td>6.116621</td>\n",
       "      <td>sprinkler</td>\n",
       "      <td>2016/09/19 00:00:00</td>\n",
       "      <td>wsda</td>\n",
       "      <td>Adams</td>\n",
       "      <td>2016</td>\n",
       "      <td>2016</td>\n",
       "    </tr>\n",
       "    <tr>\n",
       "      <th>1</th>\n",
       "      <td>51381_WSDA_SF_2016</td>\n",
       "      <td>wheat</td>\n",
       "      <td>117</td>\n",
       "      <td>116.743101</td>\n",
       "      <td>center pivot</td>\n",
       "      <td>2016/09/20 00:00:00</td>\n",
       "      <td>wsda</td>\n",
       "      <td>Adams</td>\n",
       "      <td>2016</td>\n",
       "      <td>2016</td>\n",
       "    </tr>\n",
       "  </tbody>\n",
       "</table>\n",
       "</div>"
      ],
      "text/plain": [
       "                   ID         CropTyp  Acres     ExctAcr       Irrigtn  \\\n",
       "0  51380_WSDA_SF_2016  bluegrass seed      6    6.116621     sprinkler   \n",
       "1  51381_WSDA_SF_2016           wheat    117  116.743101  center pivot   \n",
       "\n",
       "               LstSrvD DataSrc county  survey_year  SF_year  \n",
       "0  2016/09/19 00:00:00    wsda  Adams         2016     2016  \n",
       "1  2016/09/20 00:00:00    wsda  Adams         2016     2016  "
      ]
     },
     "execution_count": 12,
     "metadata": {},
     "output_type": "execute_result"
    }
   ],
   "source": [
    "irriigated_SF_data[\"SF_year\"] = irriigated_SF_data[\"ID\"].str.split(\"_\", expand=True)[3]\n",
    "irriigated_SF_data[\"SF_year\"] = irriigated_SF_data[\"SF_year\"].astype(int)\n",
    "irriigated_SF_data.head(2)"
   ]
  },
  {
   "cell_type": "code",
   "execution_count": 13,
   "id": "1b3a6538",
   "metadata": {},
   "outputs": [
    {
     "data": {
      "text/plain": [
       "44850"
      ]
     },
     "execution_count": 13,
     "metadata": {},
     "output_type": "execute_result"
    }
   ],
   "source": [
    "(irriigated_SF_data[\"SF_year\"] == irriigated_SF_data[\"survey_year\"]).sum()"
   ]
  },
  {
   "cell_type": "code",
   "execution_count": 14,
   "id": "ef0582aa",
   "metadata": {},
   "outputs": [
    {
     "data": {
      "text/plain": [
       "(53582, 10)"
      ]
     },
     "execution_count": 14,
     "metadata": {},
     "output_type": "execute_result"
    }
   ],
   "source": [
    "irriigated_SF_data.shape"
   ]
  },
  {
   "cell_type": "code",
   "execution_count": 15,
   "id": "788b5536",
   "metadata": {},
   "outputs": [],
   "source": [
    "# limit to large fields\n",
    "# irriigated_SF_data = irriigated_SF_data[irriigated_SF_data.ExctAcr > 10]"
   ]
  },
  {
   "cell_type": "code",
   "execution_count": 16,
   "id": "eb5867cb",
   "metadata": {},
   "outputs": [
    {
     "data": {
      "text/html": [
       "<div>\n",
       "<style scoped>\n",
       "    .dataframe tbody tr th:only-of-type {\n",
       "        vertical-align: middle;\n",
       "    }\n",
       "\n",
       "    .dataframe tbody tr th {\n",
       "        vertical-align: top;\n",
       "    }\n",
       "\n",
       "    .dataframe thead th {\n",
       "        text-align: right;\n",
       "    }\n",
       "</style>\n",
       "<table border=\"1\" class=\"dataframe\">\n",
       "  <thead>\n",
       "    <tr style=\"text-align: right;\">\n",
       "      <th></th>\n",
       "      <th>ID</th>\n",
       "      <th>CropTyp</th>\n",
       "      <th>Acres</th>\n",
       "      <th>ExctAcr</th>\n",
       "      <th>Irrigtn</th>\n",
       "      <th>LstSrvD</th>\n",
       "      <th>DataSrc</th>\n",
       "      <th>county</th>\n",
       "      <th>survey_year</th>\n",
       "      <th>SF_year</th>\n",
       "    </tr>\n",
       "  </thead>\n",
       "  <tbody>\n",
       "    <tr>\n",
       "      <th>0</th>\n",
       "      <td>51380_WSDA_SF_2016</td>\n",
       "      <td>bluegrass seed</td>\n",
       "      <td>6</td>\n",
       "      <td>6.116621</td>\n",
       "      <td>sprinkler</td>\n",
       "      <td>2016/09/19 00:00:00</td>\n",
       "      <td>wsda</td>\n",
       "      <td>Adams</td>\n",
       "      <td>2016</td>\n",
       "      <td>2016</td>\n",
       "    </tr>\n",
       "    <tr>\n",
       "      <th>1</th>\n",
       "      <td>51381_WSDA_SF_2016</td>\n",
       "      <td>wheat</td>\n",
       "      <td>117</td>\n",
       "      <td>116.743101</td>\n",
       "      <td>center pivot</td>\n",
       "      <td>2016/09/20 00:00:00</td>\n",
       "      <td>wsda</td>\n",
       "      <td>Adams</td>\n",
       "      <td>2016</td>\n",
       "      <td>2016</td>\n",
       "    </tr>\n",
       "  </tbody>\n",
       "</table>\n",
       "</div>"
      ],
      "text/plain": [
       "                   ID         CropTyp  Acres     ExctAcr       Irrigtn  \\\n",
       "0  51380_WSDA_SF_2016  bluegrass seed      6    6.116621     sprinkler   \n",
       "1  51381_WSDA_SF_2016           wheat    117  116.743101  center pivot   \n",
       "\n",
       "               LstSrvD DataSrc county  survey_year  SF_year  \n",
       "0  2016/09/19 00:00:00    wsda  Adams         2016     2016  \n",
       "1  2016/09/20 00:00:00    wsda  Adams         2016     2016  "
      ]
     },
     "execution_count": 16,
     "metadata": {},
     "output_type": "execute_result"
    }
   ],
   "source": [
    "irriigated_SF_data.head(2)"
   ]
  },
  {
   "cell_type": "code",
   "execution_count": 17,
   "id": "abf6b180",
   "metadata": {},
   "outputs": [
    {
     "data": {
      "text/plain": [
       "115"
      ]
     },
     "execution_count": 17,
     "metadata": {},
     "output_type": "execute_result"
    }
   ],
   "source": [
    "len(list(irriigated_SF_data.CropTyp.unique()))"
   ]
  },
  {
   "cell_type": "code",
   "execution_count": 18,
   "id": "09753393",
   "metadata": {},
   "outputs": [
    {
     "data": {
      "text/plain": [
       "(3160, 2)"
      ]
     },
     "execution_count": 18,
     "metadata": {},
     "output_type": "execute_result"
    }
   ],
   "source": [
    "ground_truth_labels.shape"
   ]
  },
  {
   "cell_type": "code",
   "execution_count": 19,
   "id": "a186408b",
   "metadata": {},
   "outputs": [
    {
     "data": {
      "text/html": [
       "<div>\n",
       "<style scoped>\n",
       "    .dataframe tbody tr th:only-of-type {\n",
       "        vertical-align: middle;\n",
       "    }\n",
       "\n",
       "    .dataframe tbody tr th {\n",
       "        vertical-align: top;\n",
       "    }\n",
       "\n",
       "    .dataframe thead th {\n",
       "        text-align: right;\n",
       "    }\n",
       "</style>\n",
       "<table border=\"1\" class=\"dataframe\">\n",
       "  <thead>\n",
       "    <tr style=\"text-align: right;\">\n",
       "      <th></th>\n",
       "      <th>ID</th>\n",
       "      <th>CropGrp</th>\n",
       "      <th>CropTyp</th>\n",
       "      <th>Acres</th>\n",
       "      <th>Irrigtn</th>\n",
       "      <th>IntlSrD</th>\n",
       "      <th>LstSrvD</th>\n",
       "      <th>DataSrc</th>\n",
       "      <th>Notes</th>\n",
       "      <th>TRS</th>\n",
       "      <th>county</th>\n",
       "      <th>RtCrpTy</th>\n",
       "      <th>ExctAcr</th>\n",
       "      <th>Shp_Lng</th>\n",
       "      <th>Shap_Ar</th>\n",
       "    </tr>\n",
       "  </thead>\n",
       "  <tbody>\n",
       "    <tr>\n",
       "      <th>0</th>\n",
       "      <td>51374_WSDA_SF_2016</td>\n",
       "      <td>Other</td>\n",
       "      <td>crp/conservation</td>\n",
       "      <td>7</td>\n",
       "      <td>none</td>\n",
       "      <td>2003/07/01 00:00:00</td>\n",
       "      <td>2016/09/13 00:00:00</td>\n",
       "      <td>wsda</td>\n",
       "      <td>NaN</td>\n",
       "      <td>T19R32E26</td>\n",
       "      <td>Adams</td>\n",
       "      <td>Wheat</td>\n",
       "      <td>6.813661</td>\n",
       "      <td>1006.574464</td>\n",
       "      <td>27573.906990</td>\n",
       "    </tr>\n",
       "    <tr>\n",
       "      <th>1</th>\n",
       "      <td>51375_WSDA_SF_2016</td>\n",
       "      <td>Other</td>\n",
       "      <td>crp/conservation</td>\n",
       "      <td>87</td>\n",
       "      <td>none</td>\n",
       "      <td>2003/07/01 00:00:00</td>\n",
       "      <td>2016/12/31 00:00:00</td>\n",
       "      <td>nass</td>\n",
       "      <td>NaN</td>\n",
       "      <td>T20R31E27</td>\n",
       "      <td>Adams</td>\n",
       "      <td>NaN</td>\n",
       "      <td>86.717035</td>\n",
       "      <td>2555.870586</td>\n",
       "      <td>350931.390797</td>\n",
       "    </tr>\n",
       "  </tbody>\n",
       "</table>\n",
       "</div>"
      ],
      "text/plain": [
       "                   ID CropGrp           CropTyp  Acres Irrigtn  \\\n",
       "0  51374_WSDA_SF_2016   Other  crp/conservation      7    none   \n",
       "1  51375_WSDA_SF_2016   Other  crp/conservation     87    none   \n",
       "\n",
       "               IntlSrD              LstSrvD DataSrc Notes        TRS county  \\\n",
       "0  2003/07/01 00:00:00  2016/09/13 00:00:00    wsda   NaN  T19R32E26  Adams   \n",
       "1  2003/07/01 00:00:00  2016/12/31 00:00:00    nass   NaN  T20R31E27  Adams   \n",
       "\n",
       "  RtCrpTy    ExctAcr      Shp_Lng        Shap_Ar  \n",
       "0   Wheat   6.813661  1006.574464   27573.906990  \n",
       "1     NaN  86.717035  2555.870586  350931.390797  "
      ]
     },
     "execution_count": 19,
     "metadata": {},
     "output_type": "execute_result"
    }
   ],
   "source": [
    "all_SF_data = pd.read_csv(data_part_of_shapefile_dir + \"all_SF_data_concatenated.csv\")\n",
    "all_SF_data.head(2)"
   ]
  },
  {
   "cell_type": "code",
   "execution_count": 20,
   "id": "a22ade09",
   "metadata": {},
   "outputs": [
    {
     "data": {
      "text/plain": [
       "(77530, 15)"
      ]
     },
     "execution_count": 20,
     "metadata": {},
     "output_type": "execute_result"
    }
   ],
   "source": [
    "all_SF_data.shape"
   ]
  },
  {
   "cell_type": "code",
   "execution_count": 21,
   "id": "76c9b0cb",
   "metadata": {},
   "outputs": [
    {
     "name": "stdout",
     "output_type": "stream",
     "text": [
      "ground_truth_labels.shape = (3160, 16)\n"
     ]
    },
    {
     "data": {
      "text/html": [
       "<div>\n",
       "<style scoped>\n",
       "    .dataframe tbody tr th:only-of-type {\n",
       "        vertical-align: middle;\n",
       "    }\n",
       "\n",
       "    .dataframe tbody tr th {\n",
       "        vertical-align: top;\n",
       "    }\n",
       "\n",
       "    .dataframe thead th {\n",
       "        text-align: right;\n",
       "    }\n",
       "</style>\n",
       "<table border=\"1\" class=\"dataframe\">\n",
       "  <thead>\n",
       "    <tr style=\"text-align: right;\">\n",
       "      <th></th>\n",
       "      <th>ID</th>\n",
       "      <th>Vote</th>\n",
       "      <th>CropGrp</th>\n",
       "      <th>CropTyp</th>\n",
       "      <th>Acres</th>\n",
       "      <th>Irrigtn</th>\n",
       "      <th>IntlSrD</th>\n",
       "      <th>LstSrvD</th>\n",
       "      <th>DataSrc</th>\n",
       "      <th>Notes</th>\n",
       "      <th>TRS</th>\n",
       "      <th>county</th>\n",
       "      <th>RtCrpTy</th>\n",
       "      <th>ExctAcr</th>\n",
       "      <th>Shp_Lng</th>\n",
       "      <th>Shap_Ar</th>\n",
       "    </tr>\n",
       "  </thead>\n",
       "  <tbody>\n",
       "    <tr>\n",
       "      <th>0</th>\n",
       "      <td>99837_WSDA_SF_2017</td>\n",
       "      <td>2</td>\n",
       "      <td>Cereal Grain</td>\n",
       "      <td>barley</td>\n",
       "      <td>73</td>\n",
       "      <td>center pivot</td>\n",
       "      <td>NaN</td>\n",
       "      <td>2017/10/10</td>\n",
       "      <td>wsda</td>\n",
       "      <td>NaN</td>\n",
       "      <td>NaN</td>\n",
       "      <td>Grant</td>\n",
       "      <td>NaN</td>\n",
       "      <td>73.250981</td>\n",
       "      <td>NaN</td>\n",
       "      <td>NaN</td>\n",
       "    </tr>\n",
       "    <tr>\n",
       "      <th>1</th>\n",
       "      <td>114615_WSDA_SF_2017</td>\n",
       "      <td>1</td>\n",
       "      <td>Cereal Grain</td>\n",
       "      <td>barley</td>\n",
       "      <td>31</td>\n",
       "      <td>center pivot</td>\n",
       "      <td>NaN</td>\n",
       "      <td>2017/10/10</td>\n",
       "      <td>wsda</td>\n",
       "      <td>NaN</td>\n",
       "      <td>NaN</td>\n",
       "      <td>Grant</td>\n",
       "      <td>NaN</td>\n",
       "      <td>30.993504</td>\n",
       "      <td>NaN</td>\n",
       "      <td>NaN</td>\n",
       "    </tr>\n",
       "  </tbody>\n",
       "</table>\n",
       "</div>"
      ],
      "text/plain": [
       "                    ID  Vote       CropGrp CropTyp  Acres       Irrigtn  \\\n",
       "0   99837_WSDA_SF_2017     2  Cereal Grain  barley     73  center pivot   \n",
       "1  114615_WSDA_SF_2017     1  Cereal Grain  barley     31  center pivot   \n",
       "\n",
       "  IntlSrD     LstSrvD DataSrc Notes  TRS county RtCrpTy    ExctAcr  Shp_Lng  \\\n",
       "0     NaN  2017/10/10    wsda   NaN  NaN  Grant     NaN  73.250981      NaN   \n",
       "1     NaN  2017/10/10    wsda   NaN  NaN  Grant     NaN  30.993504      NaN   \n",
       "\n",
       "   Shap_Ar  \n",
       "0      NaN  \n",
       "1      NaN  "
      ]
     },
     "execution_count": 21,
     "metadata": {},
     "output_type": "execute_result"
    }
   ],
   "source": [
    "ground_truth_labels = pd.merge(ground_truth_labels, all_SF_data, how=\"left\", on=\"ID\")\n",
    "print (f\"{ground_truth_labels.shape = }\")\n",
    "ground_truth_labels.head(2)"
   ]
  },
  {
   "cell_type": "code",
   "execution_count": 22,
   "id": "dc8d2992",
   "metadata": {},
   "outputs": [
    {
     "data": {
      "text/plain": [
       "(3160, 8)"
      ]
     },
     "execution_count": 22,
     "metadata": {},
     "output_type": "execute_result"
    }
   ],
   "source": [
    "ground_truth_labels = ground_truth_labels[['ID', 'Vote', 'CropTyp',\n",
    "                                           'Acres', 'Irrigtn', 'LstSrvD',\n",
    "                                           'DataSrc', 'county']]\n",
    "\n",
    "ground_truth_labels.shape"
   ]
  },
  {
   "cell_type": "code",
   "execution_count": 23,
   "id": "e4eb45ce",
   "metadata": {},
   "outputs": [
    {
     "name": "stdout",
     "output_type": "stream",
     "text": [
      "['Adams' 'Benton' 'Franklin' 'Yakima' 'Grant' 'Walla Walla']\n",
      "\n",
      "['none' 'sprinkler' 'center pivot' 'rill' 'flood' 'drip' 'wheel line'\n",
      " 'unknown' 'drip/micro-sprinkler' 'big gun' 'center pivot/rill'\n",
      " 'micro-sprinkler' 'center pivot/sprinkler' 'rill/sprinkler'\n",
      " 'sprinkler/wheel line' 'center pivot/none' 'center pivot/wheel line'\n",
      " 'center pivot/drip' 'drip/sprinkler' 'hand' 'big gun/sprinkler'\n",
      " 'big gun/center pivot' 'hand/sprinkler' 'drip/wheel line'\n",
      " 'drip/sprinkler/wheel line' 'rill/wheel line' 'drip/rill'\n",
      " 'big gun/wheel line' 'rill/sprinkler/wheel line' 'drip/big gun'\n",
      " 'center pivot/sprinkler/wheel line' 'none/rill' 'none/sprinkler']\n"
     ]
    }
   ],
   "source": [
    "print (all_SF_data.county.unique())\n",
    "print ()\n",
    "print (all_SF_data.Irrigtn.unique())"
   ]
  },
  {
   "cell_type": "code",
   "execution_count": 24,
   "id": "e77782b9",
   "metadata": {},
   "outputs": [
    {
     "data": {
      "text/plain": [
       "(51833, 10)"
      ]
     },
     "execution_count": 24,
     "metadata": {},
     "output_type": "execute_result"
    }
   ],
   "source": [
    "GT_cropTypes = list(ground_truth_labels.CropTyp.unique())\n",
    "irriigated_SF_data = irriigated_SF_data[irriigated_SF_data.CropTyp.isin(GT_cropTypes)].copy()\n",
    "\n",
    "irriigated_SF_data.shape"
   ]
  },
  {
   "cell_type": "code",
   "execution_count": 25,
   "id": "84488ef3",
   "metadata": {},
   "outputs": [
    {
     "data": {
      "text/plain": [
       "0.500215389542"
      ]
     },
     "execution_count": 25,
     "metadata": {},
     "output_type": "execute_result"
    }
   ],
   "source": [
    "irriigated_SF_data.ExctAcr.min()"
   ]
  },
  {
   "cell_type": "code",
   "execution_count": 26,
   "id": "e2d16e54",
   "metadata": {},
   "outputs": [],
   "source": [
    "all_SF_data.CropTyp = all_SF_data.CropTyp.str.lower()"
   ]
  },
  {
   "cell_type": "code",
   "execution_count": null,
   "id": "0da56a1d",
   "metadata": {},
   "outputs": [],
   "source": []
  },
  {
   "cell_type": "code",
   "execution_count": 67,
   "id": "4be19b6e",
   "metadata": {},
   "outputs": [],
   "source": [
    "## see which crop types are included in training process\n",
    "## where all fields of that crop are included (not just 10%).\n",
    "\n",
    "crops_100Percent_in_train = []\n",
    "percentage_dict = {}\n",
    "\n",
    "# for crop in GT_cropTypes:\n",
    "#     curr_irr_all = irriigated_SF_data[irriigated_SF_data.CropTyp == crop].copy()\n",
    "#     GT_fields = ground_truth_labels[ground_truth_labels.CropTyp == crop].copy()\n",
    "#     if len(curr_irr_all) == len(GT_fields):\n",
    "#         crops_100Percent_in_train += [crop]\n",
    "        \n",
    "#     percentage_dict[crop] = round( (len(GT_fields) / len(curr_irr_all)) * 100, 2)\n",
    "    \n",
    "    \n",
    "\n",
    "\n",
    "for crop in GT_cropTypes:\n",
    "    curr_irr_all = irriigated_SF_data[irriigated_SF_data.CropTyp == crop].copy()\n",
    "    curr_irr_all_large = curr_irr_all[curr_irr_all.ExctAcr > 10 ]\n",
    "    GT_fields = ground_truth_labels[ground_truth_labels.CropTyp == crop].copy()\n",
    "    \n",
    "    perc_ = round( (len(GT_fields) / len(curr_irr_all)) * 100, 2)\n",
    "    perc_large_ = round( (len(GT_fields) / len(curr_irr_all_large)) * 100, 2)\n",
    "    percentage_dict[crop] = [perc_, perc_large_]\n",
    "    "
   ]
  },
  {
   "cell_type": "code",
   "execution_count": 74,
   "id": "6b3a1d1a",
   "metadata": {},
   "outputs": [
    {
     "data": {
      "text/plain": [
       "(3160, 8)"
      ]
     },
     "execution_count": 74,
     "metadata": {},
     "output_type": "execute_result"
    }
   ],
   "source": [
    "ground_truth_labels.shape"
   ]
  },
  {
   "cell_type": "code",
   "execution_count": 76,
   "id": "6583c401",
   "metadata": {},
   "outputs": [
    {
     "name": "stdout",
     "output_type": "stream",
     "text": [
      "(52, 10)\n",
      "(49, 10)\n",
      "(27, 8)\n"
     ]
    }
   ],
   "source": [
    "print (irriigated_SF_data[irriigated_SF_data.CropTyp == \"canola\"].shape)\n",
    "print (irriigated_SF_data[(irriigated_SF_data.CropTyp == \"canola\") & \\\n",
    "                         (irriigated_SF_data.ExctAcr > 10)].shape)\n",
    "\n",
    "print (ground_truth_labels[ground_truth_labels.CropTyp == \"canola\"].shape)\n",
    "\n",
    "\n",
    "# IF we look at irriigated_SF_data There should be 6 fields of canola.\n",
    "# why there are 27? Look at evaluation set. And why evaluation set is larger than\n",
    "# irriigated_SF_data? counties?"
   ]
  },
  {
   "cell_type": "code",
   "execution_count": null,
   "id": "ca349253",
   "metadata": {},
   "outputs": [],
   "source": []
  },
  {
   "cell_type": "code",
   "execution_count": 68,
   "id": "847b7d60",
   "metadata": {},
   "outputs": [
    {
     "data": {
      "text/plain": [
       "{'barley': [34.38, 52.38],\n",
       " 'barley hay': [23.53, 63.16],\n",
       " 'bean, dry': [8.1, 10.14],\n",
       " 'bean, green': [80.0, 95.65],\n",
       " 'bluegrass seed': [17.36, 20.9],\n",
       " 'buckwheat': [29.93, 39.42],\n",
       " 'canola': [51.92, 55.1],\n",
       " 'carrot': [29.41, 33.83],\n",
       " 'corn, field': [6.95, 9.01],\n",
       " 'corn, sweet': [6.75, 8.8],\n",
       " 'grass hay': [4.0, 11.65],\n",
       " 'grass seed': [33.01, 40.96],\n",
       " 'market crops': [4.61, 12.5],\n",
       " 'mint': [5.03, 6.58],\n",
       " 'onion': [7.6, 9.57],\n",
       " 'pea, green': [10.26, 12.31],\n",
       " 'potato': [8.0, 9.46],\n",
       " 'triticale': [33.33, 41.86],\n",
       " 'triticale hay': [38.64, 70.83],\n",
       " 'wheat': [6.46, 8.32],\n",
       " 'wheat fallow': [26.09, 34.43],\n",
       " 'yellow mustard': [51.28, 74.07],\n",
       " 'alfalfa seed': [6.34, 7.82],\n",
       " 'oat hay': [20.0, 55.56],\n",
       " 'carrot seed': [37.78, 54.84],\n",
       " 'pea, dry': [47.27, 60.47],\n",
       " 'corn seed': [5.9, 28.57],\n",
       " 'pea seed': [4.55, 8.33],\n",
       " 'alfalfa hay': [0.77, 1.13],\n",
       " 'apple': [6.1, 11.32],\n",
       " 'apricot': [12.31, 53.33],\n",
       " 'asparagus': [11.56, 21.9],\n",
       " 'blueberry': [9.34, 17.78],\n",
       " 'cherry': [3.91, 10.86],\n",
       " 'fallow': [2.18, 7.56],\n",
       " 'fallow, idle': [2.77, 13.84],\n",
       " 'fallow, tilled': [22.11, 67.74],\n",
       " 'fescue seed': [64.29, 90.0],\n",
       " 'grape, juice': [5.54, 10.46],\n",
       " 'grape, wine': [4.18, 8.98],\n",
       " 'hops': [7.95, 9.49],\n",
       " 'medicinal herb': [61.54, 100.0],\n",
       " 'mustard': [15.38, 20.0],\n",
       " 'nectarine/peach': [5.98, 22.5],\n",
       " 'onion seed': [38.1, 88.89],\n",
       " 'orchard, unknown': [34.62, 75.0],\n",
       " 'pasture': [2.31, 8.91],\n",
       " 'pear': [3.31, 11.03],\n",
       " 'pepper': [20.0, 28.57],\n",
       " 'plum': [8.16, 50.0],\n",
       " 'poplar': [24.04, 27.33],\n",
       " 'pumpkin': [28.12, 69.23],\n",
       " 'ryegrass seed': [72.73, 100.0],\n",
       " 'sod farm': [50.0, 75.0],\n",
       " 'squash': [23.68, 32.14],\n",
       " 'sudangrass': [64.91, 92.5],\n",
       " 'sugar beet': [29.41, 34.48],\n",
       " 'sugar beet seed': [51.52, 56.67],\n",
       " 'sunflower': [63.64, 77.78],\n",
       " 'sunflower seed': [53.7, 78.38],\n",
       " 'timothy': [6.97, 8.43],\n",
       " 'unknown': [40.26, 59.62],\n",
       " 'watermelon': [58.82, 76.92],\n",
       " 'wildlife feed': [50.94, 90.0]}"
      ]
     },
     "execution_count": 68,
     "metadata": {},
     "output_type": "execute_result"
    }
   ],
   "source": [
    "percentage_dict"
   ]
  },
  {
   "cell_type": "code",
   "execution_count": null,
   "id": "daef0ce9",
   "metadata": {},
   "outputs": [],
   "source": [
    "    "
   ]
  },
  {
   "cell_type": "code",
   "execution_count": null,
   "id": "10fddae3",
   "metadata": {},
   "outputs": [],
   "source": []
  },
  {
   "cell_type": "code",
   "execution_count": null,
   "id": "5b837cee",
   "metadata": {},
   "outputs": [],
   "source": []
  },
  {
   "cell_type": "code",
   "execution_count": null,
   "id": "eb26573f",
   "metadata": {},
   "outputs": [],
   "source": []
  },
  {
   "cell_type": "code",
   "execution_count": 53,
   "id": "7cad224a",
   "metadata": {},
   "outputs": [
    {
     "data": {
      "text/html": [
       "<div>\n",
       "<style scoped>\n",
       "    .dataframe tbody tr th:only-of-type {\n",
       "        vertical-align: middle;\n",
       "    }\n",
       "\n",
       "    .dataframe tbody tr th {\n",
       "        vertical-align: top;\n",
       "    }\n",
       "\n",
       "    .dataframe thead th {\n",
       "        text-align: right;\n",
       "    }\n",
       "</style>\n",
       "<table border=\"1\" class=\"dataframe\">\n",
       "  <thead>\n",
       "    <tr style=\"text-align: right;\">\n",
       "      <th></th>\n",
       "      <th>ID</th>\n",
       "      <th>Vote</th>\n",
       "      <th>CropTyp</th>\n",
       "      <th>Acres</th>\n",
       "      <th>Irrigtn</th>\n",
       "      <th>LstSrvD</th>\n",
       "      <th>DataSrc</th>\n",
       "      <th>county</th>\n",
       "    </tr>\n",
       "  </thead>\n",
       "  <tbody>\n",
       "    <tr>\n",
       "      <th>2593</th>\n",
       "      <td>101137_WSDA_SF_2018</td>\n",
       "      <td>1</td>\n",
       "      <td>ryegrass seed</td>\n",
       "      <td>62</td>\n",
       "      <td>center pivot</td>\n",
       "      <td>2018/10/09 00:00:00</td>\n",
       "      <td>wsda</td>\n",
       "      <td>Franklin</td>\n",
       "    </tr>\n",
       "    <tr>\n",
       "      <th>2594</th>\n",
       "      <td>107433_WSDA_SF_2018</td>\n",
       "      <td>1</td>\n",
       "      <td>ryegrass seed</td>\n",
       "      <td>32</td>\n",
       "      <td>center pivot</td>\n",
       "      <td>2018/10/09 00:00:00</td>\n",
       "      <td>wsda</td>\n",
       "      <td>Franklin</td>\n",
       "    </tr>\n",
       "    <tr>\n",
       "      <th>2876</th>\n",
       "      <td>100717_WSDA_SF_2018</td>\n",
       "      <td>1</td>\n",
       "      <td>ryegrass seed</td>\n",
       "      <td>41</td>\n",
       "      <td>center pivot</td>\n",
       "      <td>2018/10/09 00:00:00</td>\n",
       "      <td>wsda</td>\n",
       "      <td>Franklin</td>\n",
       "    </tr>\n",
       "    <tr>\n",
       "      <th>3030</th>\n",
       "      <td>102963_WSDA_SF_2018</td>\n",
       "      <td>1</td>\n",
       "      <td>ryegrass seed</td>\n",
       "      <td>87</td>\n",
       "      <td>center pivot/sprinkler</td>\n",
       "      <td>2018/10/05 00:00:00</td>\n",
       "      <td>wsda</td>\n",
       "      <td>Franklin</td>\n",
       "    </tr>\n",
       "    <tr>\n",
       "      <th>3031</th>\n",
       "      <td>99641_WSDA_SF_2018</td>\n",
       "      <td>1</td>\n",
       "      <td>ryegrass seed</td>\n",
       "      <td>147</td>\n",
       "      <td>center pivot</td>\n",
       "      <td>2018/08/31 00:00:00</td>\n",
       "      <td>wsda</td>\n",
       "      <td>Franklin</td>\n",
       "    </tr>\n",
       "    <tr>\n",
       "      <th>3135</th>\n",
       "      <td>101085_WSDA_SF_2018</td>\n",
       "      <td>1</td>\n",
       "      <td>ryegrass seed</td>\n",
       "      <td>35</td>\n",
       "      <td>center pivot</td>\n",
       "      <td>2018/10/09 00:00:00</td>\n",
       "      <td>wsda</td>\n",
       "      <td>Franklin</td>\n",
       "    </tr>\n",
       "    <tr>\n",
       "      <th>3136</th>\n",
       "      <td>102799_WSDA_SF_2018</td>\n",
       "      <td>1</td>\n",
       "      <td>ryegrass seed</td>\n",
       "      <td>38</td>\n",
       "      <td>center pivot/sprinkler</td>\n",
       "      <td>2018/10/08 00:00:00</td>\n",
       "      <td>wsda</td>\n",
       "      <td>Franklin</td>\n",
       "    </tr>\n",
       "    <tr>\n",
       "      <th>3137</th>\n",
       "      <td>105929_WSDA_SF_2018</td>\n",
       "      <td>1</td>\n",
       "      <td>ryegrass seed</td>\n",
       "      <td>72</td>\n",
       "      <td>center pivot</td>\n",
       "      <td>2018/10/08 00:00:00</td>\n",
       "      <td>wsda</td>\n",
       "      <td>Franklin</td>\n",
       "    </tr>\n",
       "  </tbody>\n",
       "</table>\n",
       "</div>"
      ],
      "text/plain": [
       "                       ID  Vote        CropTyp  Acres                 Irrigtn  \\\n",
       "2593  101137_WSDA_SF_2018     1  ryegrass seed     62            center pivot   \n",
       "2594  107433_WSDA_SF_2018     1  ryegrass seed     32            center pivot   \n",
       "2876  100717_WSDA_SF_2018     1  ryegrass seed     41            center pivot   \n",
       "3030  102963_WSDA_SF_2018     1  ryegrass seed     87  center pivot/sprinkler   \n",
       "3031   99641_WSDA_SF_2018     1  ryegrass seed    147            center pivot   \n",
       "3135  101085_WSDA_SF_2018     1  ryegrass seed     35            center pivot   \n",
       "3136  102799_WSDA_SF_2018     1  ryegrass seed     38  center pivot/sprinkler   \n",
       "3137  105929_WSDA_SF_2018     1  ryegrass seed     72            center pivot   \n",
       "\n",
       "                  LstSrvD DataSrc    county  \n",
       "2593  2018/10/09 00:00:00    wsda  Franklin  \n",
       "2594  2018/10/09 00:00:00    wsda  Franklin  \n",
       "2876  2018/10/09 00:00:00    wsda  Franklin  \n",
       "3030  2018/10/05 00:00:00    wsda  Franklin  \n",
       "3031  2018/08/31 00:00:00    wsda  Franklin  \n",
       "3135  2018/10/09 00:00:00    wsda  Franklin  \n",
       "3136  2018/10/08 00:00:00    wsda  Franklin  \n",
       "3137  2018/10/08 00:00:00    wsda  Franklin  "
      ]
     },
     "execution_count": 53,
     "metadata": {},
     "output_type": "execute_result"
    }
   ],
   "source": [
    "# \"ryegrass seed\" and \"medicinal herb\" \n",
    "ground_truth_labels[ground_truth_labels.CropTyp == \"ryegrass seed\"]"
   ]
  },
  {
   "cell_type": "code",
   "execution_count": 38,
   "id": "df1944d4",
   "metadata": {},
   "outputs": [
    {
     "data": {
      "text/plain": [
       "['barley',\n",
       " 'barley hay',\n",
       " 'bean, dry',\n",
       " 'bean, green',\n",
       " 'bluegrass seed',\n",
       " 'buckwheat',\n",
       " 'canola',\n",
       " 'carrot',\n",
       " 'corn, field',\n",
       " 'corn, sweet',\n",
       " 'grass hay',\n",
       " 'grass seed',\n",
       " 'market crops',\n",
       " 'mint',\n",
       " 'onion',\n",
       " 'pea, green',\n",
       " 'potato',\n",
       " 'triticale',\n",
       " 'triticale hay',\n",
       " 'wheat',\n",
       " 'wheat fallow',\n",
       " 'yellow mustard',\n",
       " 'alfalfa seed',\n",
       " 'oat hay',\n",
       " 'carrot seed',\n",
       " 'pea, dry',\n",
       " 'corn seed',\n",
       " 'pea seed',\n",
       " 'alfalfa hay',\n",
       " 'apple',\n",
       " 'apricot',\n",
       " 'asparagus',\n",
       " 'blueberry',\n",
       " 'cherry',\n",
       " 'fallow',\n",
       " 'fallow, idle',\n",
       " 'fallow, tilled',\n",
       " 'fescue seed',\n",
       " 'grape, juice',\n",
       " 'grape, wine',\n",
       " 'hops',\n",
       " 'medicinal herb',\n",
       " 'mustard',\n",
       " 'nectarine/peach',\n",
       " 'onion seed',\n",
       " 'orchard, unknown',\n",
       " 'pasture',\n",
       " 'pear',\n",
       " 'pepper',\n",
       " 'plum',\n",
       " 'poplar',\n",
       " 'pumpkin',\n",
       " 'ryegrass seed',\n",
       " 'sod farm',\n",
       " 'squash',\n",
       " 'sudangrass',\n",
       " 'sugar beet',\n",
       " 'sugar beet seed',\n",
       " 'sunflower',\n",
       " 'sunflower seed',\n",
       " 'timothy',\n",
       " 'unknown',\n",
       " 'watermelon',\n",
       " 'wildlife feed']"
      ]
     },
     "execution_count": 38,
     "metadata": {},
     "output_type": "execute_result"
    }
   ],
   "source": [
    "list(ground_truth_labels.CropTyp.unique())"
   ]
  },
  {
   "cell_type": "code",
   "execution_count": 39,
   "id": "6b4ce7e0",
   "metadata": {},
   "outputs": [
    {
     "data": {
      "text/plain": [
       "(27, 8)"
      ]
     },
     "execution_count": 39,
     "metadata": {},
     "output_type": "execute_result"
    }
   ],
   "source": [
    "ground_truth_labels[ground_truth_labels.CropTyp == \"wildlife feed\"].shape"
   ]
  },
  {
   "cell_type": "code",
   "execution_count": 43,
   "id": "317f365d",
   "metadata": {},
   "outputs": [
    {
     "data": {
      "text/html": [
       "<div>\n",
       "<style scoped>\n",
       "    .dataframe tbody tr th:only-of-type {\n",
       "        vertical-align: middle;\n",
       "    }\n",
       "\n",
       "    .dataframe tbody tr th {\n",
       "        vertical-align: top;\n",
       "    }\n",
       "\n",
       "    .dataframe thead th {\n",
       "        text-align: right;\n",
       "    }\n",
       "</style>\n",
       "<table border=\"1\" class=\"dataframe\">\n",
       "  <thead>\n",
       "    <tr style=\"text-align: right;\">\n",
       "      <th></th>\n",
       "      <th>ID</th>\n",
       "      <th>CropTyp</th>\n",
       "      <th>Acres</th>\n",
       "      <th>ExctAcr</th>\n",
       "      <th>Irrigtn</th>\n",
       "      <th>LstSrvD</th>\n",
       "      <th>DataSrc</th>\n",
       "      <th>county</th>\n",
       "      <th>survey_year</th>\n",
       "      <th>SF_year</th>\n",
       "    </tr>\n",
       "  </thead>\n",
       "  <tbody>\n",
       "    <tr>\n",
       "      <th>0</th>\n",
       "      <td>51380_WSDA_SF_2016</td>\n",
       "      <td>bluegrass seed</td>\n",
       "      <td>6</td>\n",
       "      <td>6.116621</td>\n",
       "      <td>sprinkler</td>\n",
       "      <td>2016/09/19 00:00:00</td>\n",
       "      <td>wsda</td>\n",
       "      <td>Adams</td>\n",
       "      <td>2016</td>\n",
       "      <td>2016</td>\n",
       "    </tr>\n",
       "    <tr>\n",
       "      <th>1</th>\n",
       "      <td>51381_WSDA_SF_2016</td>\n",
       "      <td>wheat</td>\n",
       "      <td>117</td>\n",
       "      <td>116.743101</td>\n",
       "      <td>center pivot</td>\n",
       "      <td>2016/09/20 00:00:00</td>\n",
       "      <td>wsda</td>\n",
       "      <td>Adams</td>\n",
       "      <td>2016</td>\n",
       "      <td>2016</td>\n",
       "    </tr>\n",
       "  </tbody>\n",
       "</table>\n",
       "</div>"
      ],
      "text/plain": [
       "                   ID         CropTyp  Acres     ExctAcr       Irrigtn  \\\n",
       "0  51380_WSDA_SF_2016  bluegrass seed      6    6.116621     sprinkler   \n",
       "1  51381_WSDA_SF_2016           wheat    117  116.743101  center pivot   \n",
       "\n",
       "               LstSrvD DataSrc county  survey_year  SF_year  \n",
       "0  2016/09/19 00:00:00    wsda  Adams         2016     2016  \n",
       "1  2016/09/20 00:00:00    wsda  Adams         2016     2016  "
      ]
     },
     "execution_count": 43,
     "metadata": {},
     "output_type": "execute_result"
    }
   ],
   "source": [
    "irriigated_SF_data.head(2)"
   ]
  },
  {
   "cell_type": "code",
   "execution_count": 44,
   "id": "6bfa70fa",
   "metadata": {},
   "outputs": [
    {
     "data": {
      "text/plain": [
       "(51, 10)"
      ]
     },
     "execution_count": 44,
     "metadata": {},
     "output_type": "execute_result"
    }
   ],
   "source": [
    "irriigated_SF_data[irriigated_SF_data.CropTyp == \"barley hay\"].shape"
   ]
  },
  {
   "cell_type": "code",
   "execution_count": 45,
   "id": "74a1093d",
   "metadata": {},
   "outputs": [
    {
     "data": {
      "text/plain": [
       "(12, 8)"
      ]
     },
     "execution_count": 45,
     "metadata": {},
     "output_type": "execute_result"
    }
   ],
   "source": [
    "ground_truth_labels[ground_truth_labels.CropTyp == \"barley hay\"].shape"
   ]
  },
  {
   "cell_type": "code",
   "execution_count": 52,
   "id": "a5229030",
   "metadata": {},
   "outputs": [
    {
     "data": {
      "text/plain": [
       "(19, 10)"
      ]
     },
     "execution_count": 52,
     "metadata": {},
     "output_type": "execute_result"
    }
   ],
   "source": [
    "irriigated_SF_data[(irriigated_SF_data.CropTyp == \"barley hay\") &\\\n",
    "                   (irriigated_SF_data.ExctAcr > 10)].shape"
   ]
  },
  {
   "cell_type": "code",
   "execution_count": null,
   "id": "a573d37d",
   "metadata": {},
   "outputs": [],
   "source": []
  },
  {
   "cell_type": "code",
   "execution_count": null,
   "id": "7046b1d4",
   "metadata": {},
   "outputs": [],
   "source": []
  }
 ],
 "metadata": {
  "kernelspec": {
   "display_name": "Python 3 (ipykernel)",
   "language": "python",
   "name": "python3"
  },
  "language_info": {
   "codemirror_mode": {
    "name": "ipython",
    "version": 3
   },
   "file_extension": ".py",
   "mimetype": "text/x-python",
   "name": "python",
   "nbconvert_exporter": "python",
   "pygments_lexer": "ipython3",
   "version": "3.9.6"
  }
 },
 "nbformat": 4,
 "nbformat_minor": 5
}
