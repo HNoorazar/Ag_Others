{
 "cells": [
  {
   "cell_type": "code",
   "execution_count": 1,
   "id": "edf445ab",
   "metadata": {},
   "outputs": [],
   "source": [
    "import numpy as np\n",
    "import pandas as pd\n",
    "import time, datetime\n",
    "import sys, os, os.path\n",
    "import scipy, scipy.signal\n",
    "\n",
    "from datetime import date, datetime\n",
    "\n",
    "from sklearn.linear_model import LinearRegression\n",
    "from sklearn.metrics import f1_score, accuracy_score, \\\n",
    "                            confusion_matrix, balanced_accuracy_score, \\\n",
    "                            classification_report\n",
    "import matplotlib.pyplot as plt\n",
    "\n",
    "# from patsy import cr\n",
    "# from pprint import pprint\n",
    "# from statsmodels.sandbox.regression.predstd import wls_prediction_std"
   ]
  },
  {
   "cell_type": "code",
   "execution_count": 2,
   "id": "880aefa6",
   "metadata": {},
   "outputs": [
    {
     "name": "stderr",
     "output_type": "stream",
     "text": [
      "2024-06-26 11:29:34.917482: I tensorflow/core/platform/cpu_feature_guard.cc:210] This TensorFlow binary is optimized to use available CPU instructions in performance-critical operations.\n",
      "To enable the following instructions: AVX2 FMA, in other operations, rebuild TensorFlow with the appropriate compiler flags.\n"
     ]
    }
   ],
   "source": [
    "sys.path.append('/Users/hn/Documents/00_GitHub/Ag/NASA/Python_codes/')\n",
    "import NASA_core as nc\n",
    "import NASA_plot_core as ncp"
   ]
  },
  {
   "cell_type": "code",
   "execution_count": 3,
   "id": "4f0fb719",
   "metadata": {
    "lines_to_next_cell": 2
   },
   "outputs": [],
   "source": [
    "NASA_dir_base = \"/Users/hn/Documents/01_research_data/NASA/\"\n",
    "meta_dir = NASA_dir_base + \"0000_parameters/\"\n",
    "train_TS_dir_base = NASA_dir_base + \"VI_TS/\"\n",
    "\n",
    "data_part_of_shapefile_dir = NASA_dir_base + \"data_part_of_shapefile/\""
   ]
  },
  {
   "cell_type": "code",
   "execution_count": 4,
   "id": "7945a2c5",
   "metadata": {},
   "outputs": [
    {
     "data": {
      "text/html": [
       "<div>\n",
       "<style scoped>\n",
       "    .dataframe tbody tr th:only-of-type {\n",
       "        vertical-align: middle;\n",
       "    }\n",
       "\n",
       "    .dataframe tbody tr th {\n",
       "        vertical-align: top;\n",
       "    }\n",
       "\n",
       "    .dataframe thead th {\n",
       "        text-align: right;\n",
       "    }\n",
       "</style>\n",
       "<table border=\"1\" class=\"dataframe\">\n",
       "  <thead>\n",
       "    <tr style=\"text-align: right;\">\n",
       "      <th></th>\n",
       "      <th>ID</th>\n",
       "      <th>CropGrp</th>\n",
       "      <th>CropTyp</th>\n",
       "      <th>Acres</th>\n",
       "      <th>Irrigtn</th>\n",
       "      <th>IntlSrD</th>\n",
       "      <th>LstSrvD</th>\n",
       "      <th>DataSrc</th>\n",
       "      <th>Notes</th>\n",
       "      <th>TRS</th>\n",
       "      <th>county</th>\n",
       "      <th>RtCrpTy</th>\n",
       "      <th>ExctAcr</th>\n",
       "      <th>Shp_Lng</th>\n",
       "      <th>Shap_Ar</th>\n",
       "    </tr>\n",
       "  </thead>\n",
       "  <tbody>\n",
       "    <tr>\n",
       "      <th>0</th>\n",
       "      <td>51380_WSDA_SF_2016</td>\n",
       "      <td>Seed</td>\n",
       "      <td>bluegrass seed</td>\n",
       "      <td>6</td>\n",
       "      <td>sprinkler</td>\n",
       "      <td>2003/07/01 00:00:00</td>\n",
       "      <td>2016/09/19 00:00:00</td>\n",
       "      <td>wsda</td>\n",
       "      <td>NaN</td>\n",
       "      <td>T20R35E24</td>\n",
       "      <td>Adams</td>\n",
       "      <td>Wheat</td>\n",
       "      <td>6.116621</td>\n",
       "      <td>937.384083</td>\n",
       "      <td>24753.087193</td>\n",
       "    </tr>\n",
       "    <tr>\n",
       "      <th>1</th>\n",
       "      <td>51381_WSDA_SF_2016</td>\n",
       "      <td>Cereal Grain</td>\n",
       "      <td>wheat</td>\n",
       "      <td>117</td>\n",
       "      <td>center pivot</td>\n",
       "      <td>2003/07/01 00:00:00</td>\n",
       "      <td>2016/09/20 00:00:00</td>\n",
       "      <td>wsda</td>\n",
       "      <td>NaN</td>\n",
       "      <td>T16R36E22</td>\n",
       "      <td>Adams</td>\n",
       "      <td>Potato</td>\n",
       "      <td>116.743101</td>\n",
       "      <td>2445.413312</td>\n",
       "      <td>472442.568255</td>\n",
       "    </tr>\n",
       "  </tbody>\n",
       "</table>\n",
       "</div>"
      ],
      "text/plain": [
       "                   ID       CropGrp         CropTyp  Acres       Irrigtn  \\\n",
       "0  51380_WSDA_SF_2016          Seed  bluegrass seed      6     sprinkler   \n",
       "1  51381_WSDA_SF_2016  Cereal Grain           wheat    117  center pivot   \n",
       "\n",
       "               IntlSrD              LstSrvD DataSrc Notes        TRS county  \\\n",
       "0  2003/07/01 00:00:00  2016/09/19 00:00:00    wsda   NaN  T20R35E24  Adams   \n",
       "1  2003/07/01 00:00:00  2016/09/20 00:00:00    wsda   NaN  T16R36E22  Adams   \n",
       "\n",
       "  RtCrpTy     ExctAcr      Shp_Lng        Shap_Ar  \n",
       "0   Wheat    6.116621   937.384083   24753.087193  \n",
       "1  Potato  116.743101  2445.413312  472442.568255  "
      ]
     },
     "execution_count": 4,
     "metadata": {},
     "output_type": "execute_result"
    }
   ],
   "source": [
    "out_name = \"/Users/hn/Documents/01_research_data/NASA/\" + \"all_fields_correct_year_irr_noNass.csv\"\n",
    "pool = pd.read_csv(out_name)\n",
    "pool.head(2)"
   ]
  },
  {
   "cell_type": "code",
   "execution_count": 5,
   "id": "695c5b20",
   "metadata": {},
   "outputs": [
    {
     "name": "stdout",
     "output_type": "stream",
     "text": [
      "(6340, 8)\n",
      "(3539, 8)\n"
     ]
    },
    {
     "data": {
      "text/html": [
       "<div>\n",
       "<style scoped>\n",
       "    .dataframe tbody tr th:only-of-type {\n",
       "        vertical-align: middle;\n",
       "    }\n",
       "\n",
       "    .dataframe tbody tr th {\n",
       "        vertical-align: top;\n",
       "    }\n",
       "\n",
       "    .dataframe thead th {\n",
       "        text-align: right;\n",
       "    }\n",
       "</style>\n",
       "<table border=\"1\" class=\"dataframe\">\n",
       "  <thead>\n",
       "    <tr style=\"text-align: right;\">\n",
       "      <th></th>\n",
       "      <th>ID</th>\n",
       "      <th>CropTyp</th>\n",
       "      <th>Irrigtn</th>\n",
       "      <th>DataSrc</th>\n",
       "      <th>Acres</th>\n",
       "      <th>ExctAcr</th>\n",
       "      <th>LstSrvD</th>\n",
       "      <th>county</th>\n",
       "    </tr>\n",
       "  </thead>\n",
       "  <tbody>\n",
       "    <tr>\n",
       "      <th>0</th>\n",
       "      <td>100010_WSDA_SF_2017</td>\n",
       "      <td>alfalfa hay</td>\n",
       "      <td>center pivot</td>\n",
       "      <td>wsda</td>\n",
       "      <td>34</td>\n",
       "      <td>34.310305</td>\n",
       "      <td>2017/09/12</td>\n",
       "      <td>Grant</td>\n",
       "    </tr>\n",
       "    <tr>\n",
       "      <th>1</th>\n",
       "      <td>100204_WSDA_SF_2017</td>\n",
       "      <td>alfalfa hay</td>\n",
       "      <td>center pivot</td>\n",
       "      <td>wsda</td>\n",
       "      <td>62</td>\n",
       "      <td>61.826535</td>\n",
       "      <td>2017/08/09</td>\n",
       "      <td>Grant</td>\n",
       "    </tr>\n",
       "  </tbody>\n",
       "</table>\n",
       "</div>"
      ],
      "text/plain": [
       "                    ID      CropTyp       Irrigtn DataSrc  Acres    ExctAcr  \\\n",
       "0  100010_WSDA_SF_2017  alfalfa hay  center pivot    wsda     34  34.310305   \n",
       "1  100204_WSDA_SF_2017  alfalfa hay  center pivot    wsda     62  61.826535   \n",
       "\n",
       "      LstSrvD county  \n",
       "0  2017/09/12  Grant  \n",
       "1  2017/08/09  Grant  "
      ]
     },
     "execution_count": 5,
     "metadata": {},
     "output_type": "execute_result"
    }
   ],
   "source": [
    "meta_dir = \"/Users/hn/Documents/01_research_data/NASA/parameters/\"\n",
    "meta = pd.read_csv(meta_dir+\"evaluation_set.csv\")\n",
    "meta_moreThan10Acr=meta[meta.ExctAcr>10]\n",
    "print (meta.shape)\n",
    "print (meta_moreThan10Acr.shape)\n",
    "meta.head(2)"
   ]
  },
  {
   "cell_type": "code",
   "execution_count": 6,
   "id": "987d789c",
   "metadata": {},
   "outputs": [
    {
     "name": "stdout",
     "output_type": "stream",
     "text": [
      "Unique Votes:  [2 1]\n",
      "3160\n"
     ]
    },
    {
     "data": {
      "text/html": [
       "<div>\n",
       "<style scoped>\n",
       "    .dataframe tbody tr th:only-of-type {\n",
       "        vertical-align: middle;\n",
       "    }\n",
       "\n",
       "    .dataframe tbody tr th {\n",
       "        vertical-align: top;\n",
       "    }\n",
       "\n",
       "    .dataframe thead th {\n",
       "        text-align: right;\n",
       "    }\n",
       "</style>\n",
       "<table border=\"1\" class=\"dataframe\">\n",
       "  <thead>\n",
       "    <tr style=\"text-align: right;\">\n",
       "      <th></th>\n",
       "      <th>ID</th>\n",
       "      <th>Vote</th>\n",
       "    </tr>\n",
       "  </thead>\n",
       "  <tbody>\n",
       "    <tr>\n",
       "      <th>0</th>\n",
       "      <td>99837_WSDA_SF_2017</td>\n",
       "      <td>2</td>\n",
       "    </tr>\n",
       "    <tr>\n",
       "      <th>1</th>\n",
       "      <td>114615_WSDA_SF_2017</td>\n",
       "      <td>1</td>\n",
       "    </tr>\n",
       "  </tbody>\n",
       "</table>\n",
       "</div>"
      ],
      "text/plain": [
       "                    ID  Vote\n",
       "0   99837_WSDA_SF_2017     2\n",
       "1  114615_WSDA_SF_2017     1"
      ]
     },
     "execution_count": 6,
     "metadata": {},
     "output_type": "execute_result"
    }
   ],
   "source": [
    "training_set_dir = \"/Users/hn/Documents/01_research_data/NASA/ML_data_Oct17/\"\n",
    "ground_truth_labels = pd.read_csv(training_set_dir+\"groundTruth_labels_Oct17_2022.csv\")\n",
    "print (\"Unique Votes: \", ground_truth_labels.Vote.unique())\n",
    "print (len(ground_truth_labels.ID.unique()))\n",
    "ground_truth_labels.head(2)"
   ]
  },
  {
   "cell_type": "code",
   "execution_count": 7,
   "id": "c53db27b",
   "metadata": {},
   "outputs": [
    {
     "name": "stdout",
     "output_type": "stream",
     "text": [
      "(3160, 9)\n"
     ]
    },
    {
     "data": {
      "text/html": [
       "<div>\n",
       "<style scoped>\n",
       "    .dataframe tbody tr th:only-of-type {\n",
       "        vertical-align: middle;\n",
       "    }\n",
       "\n",
       "    .dataframe tbody tr th {\n",
       "        vertical-align: top;\n",
       "    }\n",
       "\n",
       "    .dataframe thead th {\n",
       "        text-align: right;\n",
       "    }\n",
       "</style>\n",
       "<table border=\"1\" class=\"dataframe\">\n",
       "  <thead>\n",
       "    <tr style=\"text-align: right;\">\n",
       "      <th></th>\n",
       "      <th>ID</th>\n",
       "      <th>Vote</th>\n",
       "      <th>CropTyp</th>\n",
       "      <th>Irrigtn</th>\n",
       "      <th>DataSrc</th>\n",
       "      <th>Acres</th>\n",
       "      <th>ExctAcr</th>\n",
       "      <th>LstSrvD</th>\n",
       "      <th>county</th>\n",
       "    </tr>\n",
       "  </thead>\n",
       "  <tbody>\n",
       "    <tr>\n",
       "      <th>0</th>\n",
       "      <td>99837_WSDA_SF_2017</td>\n",
       "      <td>2</td>\n",
       "      <td>barley</td>\n",
       "      <td>center pivot</td>\n",
       "      <td>wsda</td>\n",
       "      <td>73</td>\n",
       "      <td>73.250981</td>\n",
       "      <td>2017/10/10</td>\n",
       "      <td>Grant</td>\n",
       "    </tr>\n",
       "    <tr>\n",
       "      <th>1</th>\n",
       "      <td>114615_WSDA_SF_2017</td>\n",
       "      <td>1</td>\n",
       "      <td>barley</td>\n",
       "      <td>center pivot</td>\n",
       "      <td>wsda</td>\n",
       "      <td>31</td>\n",
       "      <td>30.993504</td>\n",
       "      <td>2017/10/10</td>\n",
       "      <td>Grant</td>\n",
       "    </tr>\n",
       "  </tbody>\n",
       "</table>\n",
       "</div>"
      ],
      "text/plain": [
       "                    ID  Vote CropTyp       Irrigtn DataSrc  Acres    ExctAcr  \\\n",
       "0   99837_WSDA_SF_2017     2  barley  center pivot    wsda     73  73.250981   \n",
       "1  114615_WSDA_SF_2017     1  barley  center pivot    wsda     31  30.993504   \n",
       "\n",
       "      LstSrvD county  \n",
       "0  2017/10/10  Grant  \n",
       "1  2017/10/10  Grant  "
      ]
     },
     "execution_count": 7,
     "metadata": {},
     "output_type": "execute_result"
    }
   ],
   "source": [
    "GT_wMeta = pd.merge(ground_truth_labels, meta, on=\"ID\", how=\"left\")\n",
    "print (GT_wMeta.shape)\n",
    "GT_wMeta.head(2)"
   ]
  },
  {
   "cell_type": "code",
   "execution_count": 8,
   "id": "096d74a4",
   "metadata": {},
   "outputs": [
    {
     "name": "stdout",
     "output_type": "stream",
     "text": [
      "64\n",
      "68\n"
     ]
    }
   ],
   "source": [
    "GT_crops = GT_wMeta[\"CropTyp\"].unique()\n",
    "meta_crops = meta[\"CropTyp\"].unique()\n",
    "\n",
    "print (len(GT_crops))\n",
    "print (len(meta_crops))"
   ]
  },
  {
   "cell_type": "code",
   "execution_count": 9,
   "id": "70fa0692",
   "metadata": {},
   "outputs": [
    {
     "data": {
      "text/plain": [
       "['alfalfa/grass hay', 'alkali bee bed', 'caneberry', 'walnut']"
      ]
     },
     "execution_count": 9,
     "metadata": {},
     "output_type": "execute_result"
    }
   ],
   "source": [
    "[x for x in meta_crops if not(x in GT_crops)]"
   ]
  },
  {
   "cell_type": "code",
   "execution_count": 10,
   "id": "9a5ac193",
   "metadata": {},
   "outputs": [
    {
     "data": {
      "text/plain": [
       "(31, 9)"
      ]
     },
     "execution_count": 10,
     "metadata": {},
     "output_type": "execute_result"
    }
   ],
   "source": [
    "GT_wMeta[GT_wMeta[\"CropTyp\"] == \"unknown\"].shape"
   ]
  },
  {
   "cell_type": "code",
   "execution_count": 11,
   "id": "9cd0fc53",
   "metadata": {},
   "outputs": [],
   "source": [
    "# csv_data_parts = os.listdir(data_part_of_shapefile_dir)\n",
    "# csv_data_parts = [x for x in csv_data_parts if x.endswith(\"csv\")]\n",
    "# csv_data_parts"
   ]
  },
  {
   "cell_type": "code",
   "execution_count": 12,
   "id": "f1e895f5",
   "metadata": {},
   "outputs": [],
   "source": [
    "# irriigated_SF_data_concatenated = pd.read_csv(data_part_of_shapefile_dir + \"irriigated_SF_data_concatenated.csv\")\n",
    "# irriigated_SF_data_concatenated[\"survey_year\"] = pd.to_datetime(irriigated_SF_data_concatenated[\"LstSrvD\"], \n",
    "#                                                                 format='mixed').dt.year\n",
    "\n",
    "# print (irriigated_SF_data_concatenated.county.unique())\n",
    "\n",
    "# irriigated_SF_data_concatenated[\"SF_year\"] = irriigated_SF_data_concatenated[\"ID\"].str.split(\"_\", expand=True)[3]\n",
    "# irriigated_SF_data_concatenated[\"SF_year\"] = irriigated_SF_data_concatenated[\"SF_year\"].astype(int)\n",
    "# irriigated_SF_data_concatenated.head(2)"
   ]
  },
  {
   "cell_type": "code",
   "execution_count": 13,
   "id": "7980fdd0",
   "metadata": {},
   "outputs": [],
   "source": [
    "# (irriigated_SF_data_concatenated[\"SF_year\"] == irriigated_SF_data_concatenated[\"survey_year\"]).sum()\n",
    "\n",
    "# print (irriigated_SF_data_concatenated.shape)\n",
    "# # limit to large fields\n",
    "# irriigated_SF_data_concatenated = irriigated_SF_data_concatenated[irriigated_SF_data_concatenated.ExctAcr > 10]\n",
    "# print (len(list(irriigated_SF_data_concatenated.CropTyp.unique())))\n",
    "# irriigated_SF_data_concatenated.head(2)"
   ]
  },
  {
   "cell_type": "code",
   "execution_count": 14,
   "id": "5b47e72f",
   "metadata": {},
   "outputs": [
    {
     "name": "stdout",
     "output_type": "stream",
     "text": [
      "68\n",
      "64\n"
     ]
    }
   ],
   "source": [
    "print (len(pool.CropTyp.unique()))\n",
    "print (len(GT_wMeta.CropTyp.unique()))"
   ]
  },
  {
   "cell_type": "code",
   "execution_count": 15,
   "id": "cbb84365",
   "metadata": {},
   "outputs": [],
   "source": [
    "# pool = pool[pool.ExctAcr > 10].copy()\n",
    "pool = pool[pool.CropTyp != \"unknown\"]\n",
    "pool = pool[pool.CropTyp.isin(list(GT_wMeta.CropTyp.unique()))]"
   ]
  },
  {
   "cell_type": "code",
   "execution_count": 16,
   "id": "26f6ef2e",
   "metadata": {},
   "outputs": [
    {
     "data": {
      "text/html": [
       "<div>\n",
       "<style scoped>\n",
       "    .dataframe tbody tr th:only-of-type {\n",
       "        vertical-align: middle;\n",
       "    }\n",
       "\n",
       "    .dataframe tbody tr th {\n",
       "        vertical-align: top;\n",
       "    }\n",
       "\n",
       "    .dataframe thead th {\n",
       "        text-align: right;\n",
       "    }\n",
       "</style>\n",
       "<table border=\"1\" class=\"dataframe\">\n",
       "  <thead>\n",
       "    <tr style=\"text-align: right;\">\n",
       "      <th></th>\n",
       "      <th>ID</th>\n",
       "      <th>Vote</th>\n",
       "      <th>CropTyp</th>\n",
       "      <th>Irrigtn</th>\n",
       "      <th>DataSrc</th>\n",
       "      <th>Acres</th>\n",
       "      <th>ExctAcr</th>\n",
       "      <th>LstSrvD</th>\n",
       "      <th>county</th>\n",
       "    </tr>\n",
       "  </thead>\n",
       "  <tbody>\n",
       "    <tr>\n",
       "      <th>0</th>\n",
       "      <td>99837_WSDA_SF_2017</td>\n",
       "      <td>2</td>\n",
       "      <td>barley</td>\n",
       "      <td>center pivot</td>\n",
       "      <td>wsda</td>\n",
       "      <td>73</td>\n",
       "      <td>73.250981</td>\n",
       "      <td>2017/10/10</td>\n",
       "      <td>Grant</td>\n",
       "    </tr>\n",
       "    <tr>\n",
       "      <th>1</th>\n",
       "      <td>114615_WSDA_SF_2017</td>\n",
       "      <td>1</td>\n",
       "      <td>barley</td>\n",
       "      <td>center pivot</td>\n",
       "      <td>wsda</td>\n",
       "      <td>31</td>\n",
       "      <td>30.993504</td>\n",
       "      <td>2017/10/10</td>\n",
       "      <td>Grant</td>\n",
       "    </tr>\n",
       "  </tbody>\n",
       "</table>\n",
       "</div>"
      ],
      "text/plain": [
       "                    ID  Vote CropTyp       Irrigtn DataSrc  Acres    ExctAcr  \\\n",
       "0   99837_WSDA_SF_2017     2  barley  center pivot    wsda     73  73.250981   \n",
       "1  114615_WSDA_SF_2017     1  barley  center pivot    wsda     31  30.993504   \n",
       "\n",
       "      LstSrvD county  \n",
       "0  2017/10/10  Grant  \n",
       "1  2017/10/10  Grant  "
      ]
     },
     "execution_count": 16,
     "metadata": {},
     "output_type": "execute_result"
    }
   ],
   "source": [
    "GT_wMeta = GT_wMeta[GT_wMeta.CropTyp != \"unknown\"]\n",
    "GT_wMeta.head(2)"
   ]
  },
  {
   "cell_type": "code",
   "execution_count": 17,
   "id": "a2fb159d",
   "metadata": {},
   "outputs": [
    {
     "data": {
      "text/html": [
       "<div>\n",
       "<style scoped>\n",
       "    .dataframe tbody tr th:only-of-type {\n",
       "        vertical-align: middle;\n",
       "    }\n",
       "\n",
       "    .dataframe tbody tr th {\n",
       "        vertical-align: top;\n",
       "    }\n",
       "\n",
       "    .dataframe thead th {\n",
       "        text-align: right;\n",
       "    }\n",
       "</style>\n",
       "<table border=\"1\" class=\"dataframe\">\n",
       "  <thead>\n",
       "    <tr style=\"text-align: right;\">\n",
       "      <th></th>\n",
       "      <th>CropTyp</th>\n",
       "      <th>numer</th>\n",
       "    </tr>\n",
       "  </thead>\n",
       "  <tbody>\n",
       "    <tr>\n",
       "      <th>0</th>\n",
       "      <td>alfalfa hay</td>\n",
       "      <td>43</td>\n",
       "    </tr>\n",
       "    <tr>\n",
       "      <th>1</th>\n",
       "      <td>alfalfa seed</td>\n",
       "      <td>23</td>\n",
       "    </tr>\n",
       "  </tbody>\n",
       "</table>\n",
       "</div>"
      ],
      "text/plain": [
       "        CropTyp  numer\n",
       "0   alfalfa hay     43\n",
       "1  alfalfa seed     23"
      ]
     },
     "execution_count": 17,
     "metadata": {},
     "output_type": "execute_result"
    }
   ],
   "source": [
    "numer = pd.DataFrame(GT_wMeta.groupby([\"CropTyp\"])[\"ID\"].count()).reset_index()\n",
    "numer.rename(columns={\"ID\": \"numer\"}, inplace=True)\n",
    "numer.head(2)"
   ]
  },
  {
   "cell_type": "code",
   "execution_count": 18,
   "id": "e5634d3e",
   "metadata": {},
   "outputs": [
    {
     "data": {
      "text/html": [
       "<div>\n",
       "<style scoped>\n",
       "    .dataframe tbody tr th:only-of-type {\n",
       "        vertical-align: middle;\n",
       "    }\n",
       "\n",
       "    .dataframe tbody tr th {\n",
       "        vertical-align: top;\n",
       "    }\n",
       "\n",
       "    .dataframe thead th {\n",
       "        text-align: right;\n",
       "    }\n",
       "</style>\n",
       "<table border=\"1\" class=\"dataframe\">\n",
       "  <thead>\n",
       "    <tr style=\"text-align: right;\">\n",
       "      <th></th>\n",
       "      <th>CropTyp</th>\n",
       "      <th>denom</th>\n",
       "    </tr>\n",
       "  </thead>\n",
       "  <tbody>\n",
       "    <tr>\n",
       "      <th>0</th>\n",
       "      <td>alfalfa hay</td>\n",
       "      <td>3343</td>\n",
       "    </tr>\n",
       "    <tr>\n",
       "      <th>1</th>\n",
       "      <td>alfalfa seed</td>\n",
       "      <td>337</td>\n",
       "    </tr>\n",
       "  </tbody>\n",
       "</table>\n",
       "</div>"
      ],
      "text/plain": [
       "        CropTyp  denom\n",
       "0   alfalfa hay   3343\n",
       "1  alfalfa seed    337"
      ]
     },
     "execution_count": 18,
     "metadata": {},
     "output_type": "execute_result"
    }
   ],
   "source": [
    "denom = pd.DataFrame(pool.groupby([\"CropTyp\"])[\"ID\"].count()).reset_index()\n",
    "denom.rename(columns={\"ID\": \"denom\"}, inplace=True)\n",
    "denom.head(2)"
   ]
  },
  {
   "cell_type": "code",
   "execution_count": 19,
   "id": "a9a3e6a0",
   "metadata": {},
   "outputs": [
    {
     "data": {
      "text/html": [
       "<div>\n",
       "<style scoped>\n",
       "    .dataframe tbody tr th:only-of-type {\n",
       "        vertical-align: middle;\n",
       "    }\n",
       "\n",
       "    .dataframe tbody tr th {\n",
       "        vertical-align: top;\n",
       "    }\n",
       "\n",
       "    .dataframe thead th {\n",
       "        text-align: right;\n",
       "    }\n",
       "</style>\n",
       "<table border=\"1\" class=\"dataframe\">\n",
       "  <thead>\n",
       "    <tr style=\"text-align: right;\">\n",
       "      <th></th>\n",
       "      <th>CropTyp</th>\n",
       "    </tr>\n",
       "  </thead>\n",
       "  <tbody>\n",
       "    <tr>\n",
       "      <th>0</th>\n",
       "      <td>alfalfa hay</td>\n",
       "    </tr>\n",
       "    <tr>\n",
       "      <th>1</th>\n",
       "      <td>alfalfa seed</td>\n",
       "    </tr>\n",
       "  </tbody>\n",
       "</table>\n",
       "</div>"
      ],
      "text/plain": [
       "        CropTyp\n",
       "0   alfalfa hay\n",
       "1  alfalfa seed"
      ]
     },
     "execution_count": 19,
     "metadata": {},
     "output_type": "execute_result"
    }
   ],
   "source": [
    "in_df = pd.DataFrame({\"CropTyp\" : sorted(pool.CropTyp.unique())})\n",
    "in_df.head(2)"
   ]
  },
  {
   "cell_type": "code",
   "execution_count": 20,
   "id": "49e2d5e7",
   "metadata": {},
   "outputs": [
    {
     "name": "stdout",
     "output_type": "stream",
     "text": [
      "(63, 1)\n",
      "(63, 2)\n",
      "(63, 3)\n"
     ]
    },
    {
     "data": {
      "text/html": [
       "<div>\n",
       "<style scoped>\n",
       "    .dataframe tbody tr th:only-of-type {\n",
       "        vertical-align: middle;\n",
       "    }\n",
       "\n",
       "    .dataframe tbody tr th {\n",
       "        vertical-align: top;\n",
       "    }\n",
       "\n",
       "    .dataframe thead th {\n",
       "        text-align: right;\n",
       "    }\n",
       "</style>\n",
       "<table border=\"1\" class=\"dataframe\">\n",
       "  <thead>\n",
       "    <tr style=\"text-align: right;\">\n",
       "      <th></th>\n",
       "      <th>CropTyp</th>\n",
       "      <th>numer</th>\n",
       "      <th>denom</th>\n",
       "    </tr>\n",
       "  </thead>\n",
       "  <tbody>\n",
       "    <tr>\n",
       "      <th>0</th>\n",
       "      <td>alfalfa hay</td>\n",
       "      <td>43</td>\n",
       "      <td>3343</td>\n",
       "    </tr>\n",
       "    <tr>\n",
       "      <th>1</th>\n",
       "      <td>alfalfa seed</td>\n",
       "      <td>23</td>\n",
       "      <td>337</td>\n",
       "    </tr>\n",
       "  </tbody>\n",
       "</table>\n",
       "</div>"
      ],
      "text/plain": [
       "        CropTyp  numer  denom\n",
       "0   alfalfa hay     43   3343\n",
       "1  alfalfa seed     23    337"
      ]
     },
     "execution_count": 20,
     "metadata": {},
     "output_type": "execute_result"
    }
   ],
   "source": [
    "print (in_df.shape)\n",
    "in_df = pd.merge(in_df, numer, on=\"CropTyp\", how=\"outer\")\n",
    "print (in_df.shape)\n",
    "in_df = pd.merge(in_df, denom, on=\"CropTyp\", how=\"outer\")\n",
    "print (in_df.shape)\n",
    "in_df.head(2)"
   ]
  },
  {
   "cell_type": "code",
   "execution_count": 21,
   "id": "cdb6ba1f",
   "metadata": {},
   "outputs": [],
   "source": [
    "in_df[\"inclusion_prob\"] = in_df[\"numer\"] / in_df[\"denom\"]"
   ]
  },
  {
   "cell_type": "code",
   "execution_count": 23,
   "id": "aaa733c0",
   "metadata": {},
   "outputs": [
    {
     "data": {
      "text/html": [
       "<div>\n",
       "<style scoped>\n",
       "    .dataframe tbody tr th:only-of-type {\n",
       "        vertical-align: middle;\n",
       "    }\n",
       "\n",
       "    .dataframe tbody tr th {\n",
       "        vertical-align: top;\n",
       "    }\n",
       "\n",
       "    .dataframe thead th {\n",
       "        text-align: right;\n",
       "    }\n",
       "</style>\n",
       "<table border=\"1\" class=\"dataframe\">\n",
       "  <thead>\n",
       "    <tr style=\"text-align: right;\">\n",
       "      <th></th>\n",
       "      <th>CropTyp</th>\n",
       "      <th>numer</th>\n",
       "      <th>denom</th>\n",
       "      <th>inclusion_prob</th>\n",
       "    </tr>\n",
       "  </thead>\n",
       "  <tbody>\n",
       "    <tr>\n",
       "      <th>0</th>\n",
       "      <td>alfalfa hay</td>\n",
       "      <td>43</td>\n",
       "      <td>2244</td>\n",
       "      <td>0.019162</td>\n",
       "    </tr>\n",
       "    <tr>\n",
       "      <th>1</th>\n",
       "      <td>alfalfa seed</td>\n",
       "      <td>23</td>\n",
       "      <td>274</td>\n",
       "      <td>0.083942</td>\n",
       "    </tr>\n",
       "  </tbody>\n",
       "</table>\n",
       "</div>"
      ],
      "text/plain": [
       "        CropTyp  numer  denom  inclusion_prob\n",
       "0   alfalfa hay     43   2244        0.019162\n",
       "1  alfalfa seed     23    274        0.083942"
      ]
     },
     "execution_count": 23,
     "metadata": {},
     "output_type": "execute_result"
    }
   ],
   "source": [
    "in_df.head(2)"
   ]
  },
  {
   "cell_type": "code",
   "execution_count": 22,
   "id": "93fb8d4b",
   "metadata": {},
   "outputs": [
    {
     "data": {
      "text/html": [
       "<div>\n",
       "<style scoped>\n",
       "    .dataframe tbody tr th:only-of-type {\n",
       "        vertical-align: middle;\n",
       "    }\n",
       "\n",
       "    .dataframe tbody tr th {\n",
       "        vertical-align: top;\n",
       "    }\n",
       "\n",
       "    .dataframe thead th {\n",
       "        text-align: right;\n",
       "    }\n",
       "</style>\n",
       "<table border=\"1\" class=\"dataframe\">\n",
       "  <thead>\n",
       "    <tr style=\"text-align: right;\">\n",
       "      <th></th>\n",
       "      <th>CropTyp</th>\n",
       "      <th>numer</th>\n",
       "      <th>denom</th>\n",
       "      <th>inclusion_prob</th>\n",
       "    </tr>\n",
       "  </thead>\n",
       "  <tbody>\n",
       "    <tr>\n",
       "      <th>0</th>\n",
       "      <td>alfalfa hay</td>\n",
       "      <td>43</td>\n",
       "      <td>3343</td>\n",
       "      <td>0.012863</td>\n",
       "    </tr>\n",
       "    <tr>\n",
       "      <th>1</th>\n",
       "      <td>alfalfa seed</td>\n",
       "      <td>23</td>\n",
       "      <td>337</td>\n",
       "      <td>0.068249</td>\n",
       "    </tr>\n",
       "  </tbody>\n",
       "</table>\n",
       "</div>"
      ],
      "text/plain": [
       "        CropTyp  numer  denom  inclusion_prob\n",
       "0   alfalfa hay     43   3343        0.012863\n",
       "1  alfalfa seed     23    337        0.068249"
      ]
     },
     "execution_count": 22,
     "metadata": {},
     "output_type": "execute_result"
    }
   ],
   "source": [
    "in_df.head(2)"
   ]
  },
  {
   "cell_type": "code",
   "execution_count": 25,
   "id": "2d34c170",
   "metadata": {},
   "outputs": [
    {
     "data": {
      "text/html": [
       "<div>\n",
       "<style scoped>\n",
       "    .dataframe tbody tr th:only-of-type {\n",
       "        vertical-align: middle;\n",
       "    }\n",
       "\n",
       "    .dataframe tbody tr th {\n",
       "        vertical-align: top;\n",
       "    }\n",
       "\n",
       "    .dataframe thead th {\n",
       "        text-align: right;\n",
       "    }\n",
       "</style>\n",
       "<table border=\"1\" class=\"dataframe\">\n",
       "  <thead>\n",
       "    <tr style=\"text-align: right;\">\n",
       "      <th></th>\n",
       "      <th>ID</th>\n",
       "      <th>CropGrp</th>\n",
       "      <th>CropTyp</th>\n",
       "      <th>Acres</th>\n",
       "      <th>Irrigtn</th>\n",
       "      <th>IntlSrD</th>\n",
       "      <th>LstSrvD</th>\n",
       "      <th>DataSrc</th>\n",
       "      <th>Notes</th>\n",
       "      <th>TRS</th>\n",
       "      <th>county</th>\n",
       "      <th>RtCrpTy</th>\n",
       "      <th>ExctAcr</th>\n",
       "      <th>Shp_Lng</th>\n",
       "      <th>Shap_Ar</th>\n",
       "    </tr>\n",
       "  </thead>\n",
       "  <tbody>\n",
       "    <tr>\n",
       "      <th>0</th>\n",
       "      <td>51380_WSDA_SF_2016</td>\n",
       "      <td>Seed</td>\n",
       "      <td>bluegrass seed</td>\n",
       "      <td>6</td>\n",
       "      <td>sprinkler</td>\n",
       "      <td>2003/07/01 00:00:00</td>\n",
       "      <td>2016/09/19 00:00:00</td>\n",
       "      <td>wsda</td>\n",
       "      <td>NaN</td>\n",
       "      <td>T20R35E24</td>\n",
       "      <td>Adams</td>\n",
       "      <td>Wheat</td>\n",
       "      <td>6.116621</td>\n",
       "      <td>937.384083</td>\n",
       "      <td>24753.087193</td>\n",
       "    </tr>\n",
       "    <tr>\n",
       "      <th>1</th>\n",
       "      <td>51381_WSDA_SF_2016</td>\n",
       "      <td>Cereal Grain</td>\n",
       "      <td>wheat</td>\n",
       "      <td>117</td>\n",
       "      <td>center pivot</td>\n",
       "      <td>2003/07/01 00:00:00</td>\n",
       "      <td>2016/09/20 00:00:00</td>\n",
       "      <td>wsda</td>\n",
       "      <td>NaN</td>\n",
       "      <td>T16R36E22</td>\n",
       "      <td>Adams</td>\n",
       "      <td>Potato</td>\n",
       "      <td>116.743101</td>\n",
       "      <td>2445.413312</td>\n",
       "      <td>472442.568255</td>\n",
       "    </tr>\n",
       "  </tbody>\n",
       "</table>\n",
       "</div>"
      ],
      "text/plain": [
       "                   ID       CropGrp         CropTyp  Acres       Irrigtn  \\\n",
       "0  51380_WSDA_SF_2016          Seed  bluegrass seed      6     sprinkler   \n",
       "1  51381_WSDA_SF_2016  Cereal Grain           wheat    117  center pivot   \n",
       "\n",
       "               IntlSrD              LstSrvD DataSrc Notes        TRS county  \\\n",
       "0  2003/07/01 00:00:00  2016/09/19 00:00:00    wsda   NaN  T20R35E24  Adams   \n",
       "1  2003/07/01 00:00:00  2016/09/20 00:00:00    wsda   NaN  T16R36E22  Adams   \n",
       "\n",
       "  RtCrpTy     ExctAcr      Shp_Lng        Shap_Ar  \n",
       "0   Wheat    6.116621   937.384083   24753.087193  \n",
       "1  Potato  116.743101  2445.413312  472442.568255  "
      ]
     },
     "execution_count": 25,
     "metadata": {},
     "output_type": "execute_result"
    }
   ],
   "source": [
    "pool.head(2)"
   ]
  },
  {
   "cell_type": "code",
   "execution_count": 24,
   "id": "0f0f6213",
   "metadata": {},
   "outputs": [
    {
     "data": {
      "text/plain": [
       "['big gun',\n",
       " 'big gun/center pivot',\n",
       " 'big gun/sprinkler',\n",
       " 'big gun/wheel line',\n",
       " 'center pivot',\n",
       " 'center pivot/drip',\n",
       " 'center pivot/rill',\n",
       " 'center pivot/sprinkler',\n",
       " 'center pivot/sprinkler/wheel line',\n",
       " 'center pivot/wheel line',\n",
       " 'drip',\n",
       " 'drip/big gun',\n",
       " 'drip/micro-sprinkler',\n",
       " 'drip/rill',\n",
       " 'drip/sprinkler',\n",
       " 'drip/wheel line',\n",
       " 'flood',\n",
       " 'hand',\n",
       " 'micro-sprinkler',\n",
       " 'rill',\n",
       " 'rill/sprinkler',\n",
       " 'rill/sprinkler/wheel line',\n",
       " 'rill/wheel line',\n",
       " 'sprinkler',\n",
       " 'sprinkler/wheel line',\n",
       " 'wheel line']"
      ]
     },
     "execution_count": 24,
     "metadata": {},
     "output_type": "execute_result"
    }
   ],
   "source": [
    "sorted(list(pool.Irrigtn.unique()))"
   ]
  },
  {
   "cell_type": "code",
   "execution_count": 26,
   "id": "493f3a38",
   "metadata": {},
   "outputs": [
    {
     "data": {
      "text/plain": [
       "['conservation district', 'producer', 'wsda']"
      ]
     },
     "execution_count": 26,
     "metadata": {},
     "output_type": "execute_result"
    }
   ],
   "source": [
    "sorted(list(pool.DataSrc.unique()))"
   ]
  },
  {
   "cell_type": "code",
   "execution_count": 27,
   "id": "b9596578",
   "metadata": {},
   "outputs": [
    {
     "data": {
      "text/plain": [
       "array(['Adams', 'Benton', 'Franklin', 'Yakima', 'Grant', 'Walla Walla'],\n",
       "      dtype=object)"
      ]
     },
     "execution_count": 27,
     "metadata": {},
     "output_type": "execute_result"
    }
   ],
   "source": [
    "pool.county.unique()"
   ]
  },
  {
   "cell_type": "code",
   "execution_count": 31,
   "id": "f901a08d",
   "metadata": {},
   "outputs": [],
   "source": [
    "pool[\"SF_year\"] = pool[\"ID\"].str.split(\"_\", expand=True)[3]\n",
    "pool[\"SF_year\"] = pool[\"SF_year\"].astype(int)\n",
    "\n",
    "pool_Adams = pool[pool.county == \"Adams\"].copy()\n",
    "pool_Benton = pool[pool.county == \"Benton\"].copy()\n",
    "pool_Franklin = pool[pool.county == \"Franklin\"].copy()\n",
    "pool_Yakima = pool[pool.county == \"Yakima\"].copy()\n",
    "pool_Grant = pool[pool.county == \"Grant\"].copy()\n",
    "pool_Walla = pool[pool.county == \"Walla Walla\"].copy()"
   ]
  },
  {
   "cell_type": "code",
   "execution_count": 34,
   "id": "0cdcc01e",
   "metadata": {},
   "outputs": [
    {
     "name": "stdout",
     "output_type": "stream",
     "text": [
      "[2016]\n",
      "[2016]\n",
      "[2018]\n",
      "[2018]\n",
      "[2017]\n",
      "[2015]\n"
     ]
    }
   ],
   "source": [
    "print (pool_Adams.SF_year.unique())\n",
    "print (pool_Benton.SF_year.unique())\n",
    "print (pool_Franklin.SF_year.unique())\n",
    "print (pool_Yakima.SF_year.unique())\n",
    "print (pool_Grant.SF_year.unique())\n",
    "print (pool_Walla.SF_year.unique())"
   ]
  },
  {
   "cell_type": "code",
   "execution_count": 38,
   "id": "2573aff0",
   "metadata": {},
   "outputs": [],
   "source": [
    "in_df = in_df.round(3)\n",
    "\n",
    "out_name = \"/Users/hn/Documents/01_research_data/Amin/inclusion.csv\"\n",
    "in_df.to_csv(out_name, index = False)"
   ]
  },
  {
   "cell_type": "code",
   "execution_count": 40,
   "id": "aeacf242",
   "metadata": {},
   "outputs": [
    {
     "data": {
      "text/plain": [
       "['Actual ET - MODIS ET',\n",
       " 'DTR',\n",
       " 'Day length',\n",
       " 'Drought index SPEI  12 month (monthly)',\n",
       " 'GDD (0-degree baseline, no upper threshold)  Try multiple options to check for correlation',\n",
       " 'HDD (multiple thresholds)',\n",
       " 'Phenological patterns  (start, end, peak) ??',\n",
       " 'Potential ET',\n",
       " 'Precipitation',\n",
       " 'RH',\n",
       " 'Radiation',\n",
       " 'Soil characteristics',\n",
       " 'Soil moisture VIC',\n",
       " 'Temperature',\n",
       " 'Vegetation type',\n",
       " 'dGDD']"
      ]
     },
     "execution_count": 40,
     "metadata": {},
     "output_type": "execute_result"
    }
   ],
   "source": [
    "A = [\"Phenological patterns  (start, end, peak) ??\",\n",
    "\"Temperature\",\n",
    "\"Precipitation\",\n",
    "\"Radiation\",\n",
    "\"RH\",\n",
    "\"Potential ET\",\n",
    "\"Actual ET - MODIS ET\",\n",
    "\"Soil moisture VIC\",\n",
    "\"GDD (0-degree baseline, no upper threshold)  Try multiple options to check for correlation\",\n",
    "\"HDD (multiple thresholds)\",\n",
    "\"dGDD\",\n",
    "\"DTR\",\n",
    "\"Drought index SPEI  12 month (monthly)\",\n",
    "\"Day length\",\n",
    "\"Soil characteristics\",\n",
    "\"Vegetation type\"]\n",
    "\n",
    "sorted(A)"
   ]
  },
  {
   "cell_type": "code",
   "execution_count": null,
   "id": "50ac8212",
   "metadata": {},
   "outputs": [],
   "source": []
  },
  {
   "cell_type": "code",
   "execution_count": null,
   "id": "16f2ec4c",
   "metadata": {},
   "outputs": [],
   "source": []
  }
 ],
 "metadata": {
  "kernelspec": {
   "display_name": "Python 3 (ipykernel)",
   "language": "python",
   "name": "python3"
  },
  "language_info": {
   "codemirror_mode": {
    "name": "ipython",
    "version": 3
   },
   "file_extension": ".py",
   "mimetype": "text/x-python",
   "name": "python",
   "nbconvert_exporter": "python",
   "pygments_lexer": "ipython3",
   "version": "3.11.5"
  }
 },
 "nbformat": 4,
 "nbformat_minor": 5
}
