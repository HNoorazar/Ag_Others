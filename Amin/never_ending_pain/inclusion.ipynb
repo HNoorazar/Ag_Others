{
 "cells": [
  {
   "cell_type": "code",
   "execution_count": 1,
   "id": "edf445ab",
   "metadata": {},
   "outputs": [],
   "source": [
    "import numpy as np\n",
    "import pandas as pd\n",
    "import time, datetime\n",
    "import sys, os, os.path\n",
    "import scipy, scipy.signal\n",
    "\n",
    "from datetime import date, datetime\n",
    "\n",
    "from sklearn.linear_model import LinearRegression\n",
    "from sklearn.metrics import f1_score, accuracy_score, \\\n",
    "                            confusion_matrix, balanced_accuracy_score, \\\n",
    "                            classification_report\n",
    "import matplotlib.pyplot as plt\n",
    "\n",
    "# from patsy import cr\n",
    "# from pprint import pprint\n",
    "# from statsmodels.sandbox.regression.predstd import wls_prediction_std"
   ]
  },
  {
   "cell_type": "code",
   "execution_count": 2,
   "id": "880aefa6",
   "metadata": {},
   "outputs": [
    {
     "name": "stderr",
     "output_type": "stream",
     "text": [
      "2024-06-14 14:31:52.704063: I tensorflow/core/platform/cpu_feature_guard.cc:210] This TensorFlow binary is optimized to use available CPU instructions in performance-critical operations.\n",
      "To enable the following instructions: AVX2 FMA, in other operations, rebuild TensorFlow with the appropriate compiler flags.\n"
     ]
    }
   ],
   "source": [
    "sys.path.append('/Users/hn/Documents/00_GitHub/Ag/NASA/Python_codes/')\n",
    "import NASA_core as nc\n",
    "import NASA_plot_core as ncp"
   ]
  },
  {
   "cell_type": "code",
   "execution_count": 7,
   "id": "4f0fb719",
   "metadata": {},
   "outputs": [],
   "source": [
    "NASA_dir_base = \"/Users/hn/Documents/01_research_data/NASA/\"\n",
    "meta_dir = NASA_dir_base + \"0000_parameters/\"\n",
    "train_TS_dir_base = NASA_dir_base + \"VI_TS/\"\n",
    "\n",
    "data_part_of_shapefile_dir = NASA_dir_base + \"data_part_of_shapefile/\"\n"
   ]
  },
  {
   "cell_type": "code",
   "execution_count": 4,
   "id": "695c5b20",
   "metadata": {},
   "outputs": [
    {
     "name": "stdout",
     "output_type": "stream",
     "text": [
      "(6340, 8)\n",
      "(3539, 8)\n"
     ]
    },
    {
     "data": {
      "text/html": [
       "<div>\n",
       "<style scoped>\n",
       "    .dataframe tbody tr th:only-of-type {\n",
       "        vertical-align: middle;\n",
       "    }\n",
       "\n",
       "    .dataframe tbody tr th {\n",
       "        vertical-align: top;\n",
       "    }\n",
       "\n",
       "    .dataframe thead th {\n",
       "        text-align: right;\n",
       "    }\n",
       "</style>\n",
       "<table border=\"1\" class=\"dataframe\">\n",
       "  <thead>\n",
       "    <tr style=\"text-align: right;\">\n",
       "      <th></th>\n",
       "      <th>ID</th>\n",
       "      <th>CropTyp</th>\n",
       "      <th>Irrigtn</th>\n",
       "      <th>DataSrc</th>\n",
       "      <th>Acres</th>\n",
       "      <th>ExctAcr</th>\n",
       "      <th>LstSrvD</th>\n",
       "      <th>county</th>\n",
       "    </tr>\n",
       "  </thead>\n",
       "  <tbody>\n",
       "    <tr>\n",
       "      <th>0</th>\n",
       "      <td>100010_WSDA_SF_2017</td>\n",
       "      <td>alfalfa hay</td>\n",
       "      <td>center pivot</td>\n",
       "      <td>wsda</td>\n",
       "      <td>34</td>\n",
       "      <td>34.310305</td>\n",
       "      <td>2017/09/12</td>\n",
       "      <td>Grant</td>\n",
       "    </tr>\n",
       "    <tr>\n",
       "      <th>1</th>\n",
       "      <td>100204_WSDA_SF_2017</td>\n",
       "      <td>alfalfa hay</td>\n",
       "      <td>center pivot</td>\n",
       "      <td>wsda</td>\n",
       "      <td>62</td>\n",
       "      <td>61.826535</td>\n",
       "      <td>2017/08/09</td>\n",
       "      <td>Grant</td>\n",
       "    </tr>\n",
       "  </tbody>\n",
       "</table>\n",
       "</div>"
      ],
      "text/plain": [
       "                    ID      CropTyp       Irrigtn DataSrc  Acres    ExctAcr  \\\n",
       "0  100010_WSDA_SF_2017  alfalfa hay  center pivot    wsda     34  34.310305   \n",
       "1  100204_WSDA_SF_2017  alfalfa hay  center pivot    wsda     62  61.826535   \n",
       "\n",
       "      LstSrvD county  \n",
       "0  2017/09/12  Grant  \n",
       "1  2017/08/09  Grant  "
      ]
     },
     "execution_count": 4,
     "metadata": {},
     "output_type": "execute_result"
    }
   ],
   "source": [
    "meta_dir = \"/Users/hn/Documents/01_research_data/NASA/parameters/\"\n",
    "meta = pd.read_csv(meta_dir+\"evaluation_set.csv\")\n",
    "meta_moreThan10Acr=meta[meta.ExctAcr>10]\n",
    "print (meta.shape)\n",
    "print (meta_moreThan10Acr.shape)\n",
    "meta.head(2)"
   ]
  },
  {
   "cell_type": "code",
   "execution_count": 5,
   "id": "987d789c",
   "metadata": {},
   "outputs": [
    {
     "name": "stdout",
     "output_type": "stream",
     "text": [
      "Unique Votes:  [2 1]\n",
      "3160\n"
     ]
    },
    {
     "data": {
      "text/html": [
       "<div>\n",
       "<style scoped>\n",
       "    .dataframe tbody tr th:only-of-type {\n",
       "        vertical-align: middle;\n",
       "    }\n",
       "\n",
       "    .dataframe tbody tr th {\n",
       "        vertical-align: top;\n",
       "    }\n",
       "\n",
       "    .dataframe thead th {\n",
       "        text-align: right;\n",
       "    }\n",
       "</style>\n",
       "<table border=\"1\" class=\"dataframe\">\n",
       "  <thead>\n",
       "    <tr style=\"text-align: right;\">\n",
       "      <th></th>\n",
       "      <th>ID</th>\n",
       "      <th>Vote</th>\n",
       "    </tr>\n",
       "  </thead>\n",
       "  <tbody>\n",
       "    <tr>\n",
       "      <th>0</th>\n",
       "      <td>99837_WSDA_SF_2017</td>\n",
       "      <td>2</td>\n",
       "    </tr>\n",
       "    <tr>\n",
       "      <th>1</th>\n",
       "      <td>114615_WSDA_SF_2017</td>\n",
       "      <td>1</td>\n",
       "    </tr>\n",
       "  </tbody>\n",
       "</table>\n",
       "</div>"
      ],
      "text/plain": [
       "                    ID  Vote\n",
       "0   99837_WSDA_SF_2017     2\n",
       "1  114615_WSDA_SF_2017     1"
      ]
     },
     "execution_count": 5,
     "metadata": {},
     "output_type": "execute_result"
    }
   ],
   "source": [
    "training_set_dir = \"/Users/hn/Documents/01_research_data/NASA/ML_data_Oct17/\"\n",
    "ground_truth_labels = pd.read_csv(training_set_dir+\"groundTruth_labels_Oct17_2022.csv\")\n",
    "print (\"Unique Votes: \", ground_truth_labels.Vote.unique())\n",
    "print (len(ground_truth_labels.ID.unique()))\n",
    "ground_truth_labels.head(2)"
   ]
  },
  {
   "cell_type": "code",
   "execution_count": 9,
   "id": "9cd0fc53",
   "metadata": {},
   "outputs": [
    {
     "data": {
      "text/plain": [
       "['FranklinYakima2018.csv',\n",
       " 'irriigated_SF_data_concatenated.csv',\n",
       " 'all_eastern_centroid.csv',\n",
       " 'Eastern_2018_centroid.csv',\n",
       " 'Eastern_2015_centroid.csv',\n",
       " 'Walla2015.csv',\n",
       " 'AdamBenton2016.csv',\n",
       " 'all_SF_data_concatenated.csv',\n",
       " 'Eastern_2016_centroid.csv',\n",
       " 'Eastern_2017_centroid.csv',\n",
       " 'Monterey2014.csv',\n",
       " 'Grant2017.csv']"
      ]
     },
     "execution_count": 9,
     "metadata": {},
     "output_type": "execute_result"
    }
   ],
   "source": [
    "csv_data_parts = os.listdir(data_part_of_shapefile_dir)\n",
    "csv_data_parts = [x for x in csv_data_parts if x.endswith(\"csv\")]\n",
    "csv_data_parts"
   ]
  },
  {
   "cell_type": "code",
   "execution_count": 10,
   "id": "f1e895f5",
   "metadata": {},
   "outputs": [
    {
     "data": {
      "text/html": [
       "<div>\n",
       "<style scoped>\n",
       "    .dataframe tbody tr th:only-of-type {\n",
       "        vertical-align: middle;\n",
       "    }\n",
       "\n",
       "    .dataframe tbody tr th {\n",
       "        vertical-align: top;\n",
       "    }\n",
       "\n",
       "    .dataframe thead th {\n",
       "        text-align: right;\n",
       "    }\n",
       "</style>\n",
       "<table border=\"1\" class=\"dataframe\">\n",
       "  <thead>\n",
       "    <tr style=\"text-align: right;\">\n",
       "      <th></th>\n",
       "      <th>ID</th>\n",
       "      <th>CropTyp</th>\n",
       "      <th>Acres</th>\n",
       "      <th>ExctAcr</th>\n",
       "      <th>Irrigtn</th>\n",
       "      <th>LstSrvD</th>\n",
       "      <th>DataSrc</th>\n",
       "      <th>county</th>\n",
       "    </tr>\n",
       "  </thead>\n",
       "  <tbody>\n",
       "    <tr>\n",
       "      <th>0</th>\n",
       "      <td>51380_WSDA_SF_2016</td>\n",
       "      <td>bluegrass seed</td>\n",
       "      <td>6</td>\n",
       "      <td>6.116621</td>\n",
       "      <td>sprinkler</td>\n",
       "      <td>2016/09/19 00:00:00</td>\n",
       "      <td>wsda</td>\n",
       "      <td>Adams</td>\n",
       "    </tr>\n",
       "    <tr>\n",
       "      <th>1</th>\n",
       "      <td>51381_WSDA_SF_2016</td>\n",
       "      <td>wheat</td>\n",
       "      <td>117</td>\n",
       "      <td>116.743101</td>\n",
       "      <td>center pivot</td>\n",
       "      <td>2016/09/20 00:00:00</td>\n",
       "      <td>wsda</td>\n",
       "      <td>Adams</td>\n",
       "    </tr>\n",
       "  </tbody>\n",
       "</table>\n",
       "</div>"
      ],
      "text/plain": [
       "                   ID         CropTyp  Acres     ExctAcr       Irrigtn  \\\n",
       "0  51380_WSDA_SF_2016  bluegrass seed      6    6.116621     sprinkler   \n",
       "1  51381_WSDA_SF_2016           wheat    117  116.743101  center pivot   \n",
       "\n",
       "               LstSrvD DataSrc county  \n",
       "0  2016/09/19 00:00:00    wsda  Adams  \n",
       "1  2016/09/20 00:00:00    wsda  Adams  "
      ]
     },
     "execution_count": 10,
     "metadata": {},
     "output_type": "execute_result"
    }
   ],
   "source": [
    "irriigated_SF_data_concatenated = pd.read_csv(data_part_of_shapefile_dir + \"irriigated_SF_data_concatenated.csv\")\n",
    "irriigated_SF_data_concatenated.head(2)"
   ]
  },
  {
   "cell_type": "code",
   "execution_count": 11,
   "id": "4aea4f09",
   "metadata": {},
   "outputs": [
    {
     "data": {
      "text/plain": [
       "array(['Adams', 'Benton', 'Franklin', 'Yakima', 'Grant', 'Walla Walla'],\n",
       "      dtype=object)"
      ]
     },
     "execution_count": 11,
     "metadata": {},
     "output_type": "execute_result"
    }
   ],
   "source": [
    "irriigated_SF_data_concatenated.county.unique()"
   ]
  },
  {
   "cell_type": "code",
   "execution_count": 23,
   "id": "d84b2b36",
   "metadata": {},
   "outputs": [
    {
     "data": {
      "text/html": [
       "<div>\n",
       "<style scoped>\n",
       "    .dataframe tbody tr th:only-of-type {\n",
       "        vertical-align: middle;\n",
       "    }\n",
       "\n",
       "    .dataframe tbody tr th {\n",
       "        vertical-align: top;\n",
       "    }\n",
       "\n",
       "    .dataframe thead th {\n",
       "        text-align: right;\n",
       "    }\n",
       "</style>\n",
       "<table border=\"1\" class=\"dataframe\">\n",
       "  <thead>\n",
       "    <tr style=\"text-align: right;\">\n",
       "      <th></th>\n",
       "      <th>ID</th>\n",
       "      <th>CropTyp</th>\n",
       "      <th>Acres</th>\n",
       "      <th>ExctAcr</th>\n",
       "      <th>Irrigtn</th>\n",
       "      <th>LstSrvD</th>\n",
       "      <th>DataSrc</th>\n",
       "      <th>county</th>\n",
       "      <th>survey_year</th>\n",
       "    </tr>\n",
       "  </thead>\n",
       "  <tbody>\n",
       "    <tr>\n",
       "      <th>0</th>\n",
       "      <td>51380_WSDA_SF_2016</td>\n",
       "      <td>bluegrass seed</td>\n",
       "      <td>6</td>\n",
       "      <td>6.116621</td>\n",
       "      <td>sprinkler</td>\n",
       "      <td>2016/09/19 00:00:00</td>\n",
       "      <td>wsda</td>\n",
       "      <td>Adams</td>\n",
       "      <td>2016</td>\n",
       "    </tr>\n",
       "    <tr>\n",
       "      <th>1</th>\n",
       "      <td>51381_WSDA_SF_2016</td>\n",
       "      <td>wheat</td>\n",
       "      <td>117</td>\n",
       "      <td>116.743101</td>\n",
       "      <td>center pivot</td>\n",
       "      <td>2016/09/20 00:00:00</td>\n",
       "      <td>wsda</td>\n",
       "      <td>Adams</td>\n",
       "      <td>2016</td>\n",
       "    </tr>\n",
       "  </tbody>\n",
       "</table>\n",
       "</div>"
      ],
      "text/plain": [
       "                   ID         CropTyp  Acres     ExctAcr       Irrigtn  \\\n",
       "0  51380_WSDA_SF_2016  bluegrass seed      6    6.116621     sprinkler   \n",
       "1  51381_WSDA_SF_2016           wheat    117  116.743101  center pivot   \n",
       "\n",
       "               LstSrvD DataSrc county  survey_year  \n",
       "0  2016/09/19 00:00:00    wsda  Adams         2016  \n",
       "1  2016/09/20 00:00:00    wsda  Adams         2016  "
      ]
     },
     "execution_count": 23,
     "metadata": {},
     "output_type": "execute_result"
    }
   ],
   "source": [
    "irriigated_SF_data_concatenated[\"survey_year\"] = pd.to_datetime(irriigated_SF_data_concatenated[\"LstSrvD\"], \n",
    "                                                                format='mixed').dt.year\n",
    "\n",
    "irriigated_SF_data_concatenated.head(2)"
   ]
  },
  {
   "cell_type": "code",
   "execution_count": 24,
   "id": "8236ab14",
   "metadata": {},
   "outputs": [
    {
     "data": {
      "text/html": [
       "<div>\n",
       "<style scoped>\n",
       "    .dataframe tbody tr th:only-of-type {\n",
       "        vertical-align: middle;\n",
       "    }\n",
       "\n",
       "    .dataframe tbody tr th {\n",
       "        vertical-align: top;\n",
       "    }\n",
       "\n",
       "    .dataframe thead th {\n",
       "        text-align: right;\n",
       "    }\n",
       "</style>\n",
       "<table border=\"1\" class=\"dataframe\">\n",
       "  <thead>\n",
       "    <tr style=\"text-align: right;\">\n",
       "      <th></th>\n",
       "      <th>ID</th>\n",
       "      <th>CropTyp</th>\n",
       "      <th>Acres</th>\n",
       "      <th>ExctAcr</th>\n",
       "      <th>Irrigtn</th>\n",
       "      <th>LstSrvD</th>\n",
       "      <th>DataSrc</th>\n",
       "      <th>county</th>\n",
       "      <th>survey_year</th>\n",
       "    </tr>\n",
       "  </thead>\n",
       "  <tbody>\n",
       "    <tr>\n",
       "      <th>0</th>\n",
       "      <td>51380_WSDA_SF_2016</td>\n",
       "      <td>bluegrass seed</td>\n",
       "      <td>6</td>\n",
       "      <td>6.116621</td>\n",
       "      <td>sprinkler</td>\n",
       "      <td>2016/09/19 00:00:00</td>\n",
       "      <td>wsda</td>\n",
       "      <td>Adams</td>\n",
       "      <td>2016</td>\n",
       "    </tr>\n",
       "    <tr>\n",
       "      <th>1</th>\n",
       "      <td>51381_WSDA_SF_2016</td>\n",
       "      <td>wheat</td>\n",
       "      <td>117</td>\n",
       "      <td>116.743101</td>\n",
       "      <td>center pivot</td>\n",
       "      <td>2016/09/20 00:00:00</td>\n",
       "      <td>wsda</td>\n",
       "      <td>Adams</td>\n",
       "      <td>2016</td>\n",
       "    </tr>\n",
       "    <tr>\n",
       "      <th>2</th>\n",
       "      <td>51383_WSDA_SF_2016</td>\n",
       "      <td>wheat</td>\n",
       "      <td>113</td>\n",
       "      <td>113.432725</td>\n",
       "      <td>center pivot</td>\n",
       "      <td>2016/09/13 00:00:00</td>\n",
       "      <td>wsda</td>\n",
       "      <td>Adams</td>\n",
       "      <td>2016</td>\n",
       "    </tr>\n",
       "  </tbody>\n",
       "</table>\n",
       "</div>"
      ],
      "text/plain": [
       "                   ID         CropTyp  Acres     ExctAcr       Irrigtn  \\\n",
       "0  51380_WSDA_SF_2016  bluegrass seed      6    6.116621     sprinkler   \n",
       "1  51381_WSDA_SF_2016           wheat    117  116.743101  center pivot   \n",
       "2  51383_WSDA_SF_2016           wheat    113  113.432725  center pivot   \n",
       "\n",
       "               LstSrvD DataSrc county  survey_year  \n",
       "0  2016/09/19 00:00:00    wsda  Adams         2016  \n",
       "1  2016/09/20 00:00:00    wsda  Adams         2016  \n",
       "2  2016/09/13 00:00:00    wsda  Adams         2016  "
      ]
     },
     "execution_count": 24,
     "metadata": {},
     "output_type": "execute_result"
    }
   ],
   "source": [
    "irriigated_SF_data_concatenated.head(3)"
   ]
  },
  {
   "cell_type": "code",
   "execution_count": 29,
   "id": "7980fdd0",
   "metadata": {},
   "outputs": [
    {
     "data": {
      "text/html": [
       "<div>\n",
       "<style scoped>\n",
       "    .dataframe tbody tr th:only-of-type {\n",
       "        vertical-align: middle;\n",
       "    }\n",
       "\n",
       "    .dataframe tbody tr th {\n",
       "        vertical-align: top;\n",
       "    }\n",
       "\n",
       "    .dataframe thead th {\n",
       "        text-align: right;\n",
       "    }\n",
       "</style>\n",
       "<table border=\"1\" class=\"dataframe\">\n",
       "  <thead>\n",
       "    <tr style=\"text-align: right;\">\n",
       "      <th></th>\n",
       "      <th>ID</th>\n",
       "      <th>CropTyp</th>\n",
       "      <th>Acres</th>\n",
       "      <th>ExctAcr</th>\n",
       "      <th>Irrigtn</th>\n",
       "      <th>LstSrvD</th>\n",
       "      <th>DataSrc</th>\n",
       "      <th>county</th>\n",
       "      <th>survey_year</th>\n",
       "      <th>SF_year</th>\n",
       "    </tr>\n",
       "  </thead>\n",
       "  <tbody>\n",
       "    <tr>\n",
       "      <th>0</th>\n",
       "      <td>51380_WSDA_SF_2016</td>\n",
       "      <td>bluegrass seed</td>\n",
       "      <td>6</td>\n",
       "      <td>6.116621</td>\n",
       "      <td>sprinkler</td>\n",
       "      <td>2016/09/19 00:00:00</td>\n",
       "      <td>wsda</td>\n",
       "      <td>Adams</td>\n",
       "      <td>2016</td>\n",
       "      <td>2016</td>\n",
       "    </tr>\n",
       "    <tr>\n",
       "      <th>1</th>\n",
       "      <td>51381_WSDA_SF_2016</td>\n",
       "      <td>wheat</td>\n",
       "      <td>117</td>\n",
       "      <td>116.743101</td>\n",
       "      <td>center pivot</td>\n",
       "      <td>2016/09/20 00:00:00</td>\n",
       "      <td>wsda</td>\n",
       "      <td>Adams</td>\n",
       "      <td>2016</td>\n",
       "      <td>2016</td>\n",
       "    </tr>\n",
       "  </tbody>\n",
       "</table>\n",
       "</div>"
      ],
      "text/plain": [
       "                   ID         CropTyp  Acres     ExctAcr       Irrigtn  \\\n",
       "0  51380_WSDA_SF_2016  bluegrass seed      6    6.116621     sprinkler   \n",
       "1  51381_WSDA_SF_2016           wheat    117  116.743101  center pivot   \n",
       "\n",
       "               LstSrvD DataSrc county  survey_year  SF_year  \n",
       "0  2016/09/19 00:00:00    wsda  Adams         2016     2016  \n",
       "1  2016/09/20 00:00:00    wsda  Adams         2016     2016  "
      ]
     },
     "execution_count": 29,
     "metadata": {},
     "output_type": "execute_result"
    }
   ],
   "source": [
    "irriigated_SF_data_concatenated[\"SF_year\"] = irriigated_SF_data_concatenated[\"ID\"].str.split(\"_\", expand=True)[3]\n",
    "irriigated_SF_data_concatenated[\"SF_year\"] = irriigated_SF_data_concatenated[\"SF_year\"].astype(int)\n",
    "irriigated_SF_data_concatenated.head(2)"
   ]
  },
  {
   "cell_type": "code",
   "execution_count": 31,
   "id": "1b3a6538",
   "metadata": {},
   "outputs": [
    {
     "data": {
      "text/plain": [
       "44850"
      ]
     },
     "execution_count": 31,
     "metadata": {},
     "output_type": "execute_result"
    }
   ],
   "source": [
    "(irriigated_SF_data_concatenated[\"SF_year\"] == irriigated_SF_data_concatenated[\"survey_year\"]).sum()"
   ]
  },
  {
   "cell_type": "code",
   "execution_count": 32,
   "id": "ef0582aa",
   "metadata": {},
   "outputs": [
    {
     "data": {
      "text/plain": [
       "(53582, 10)"
      ]
     },
     "execution_count": 32,
     "metadata": {},
     "output_type": "execute_result"
    }
   ],
   "source": [
    "irriigated_SF_data_concatenated.shape"
   ]
  },
  {
   "cell_type": "code",
   "execution_count": 39,
   "id": "788b5536",
   "metadata": {},
   "outputs": [],
   "source": [
    "# limit to large fields\n",
    "irriigated_SF_data_concatenated = irriigated_SF_data_concatenated[irriigated_SF_data_concatenated.ExctAcr > 10]"
   ]
  },
  {
   "cell_type": "code",
   "execution_count": 40,
   "id": "eb5867cb",
   "metadata": {},
   "outputs": [
    {
     "data": {
      "text/html": [
       "<div>\n",
       "<style scoped>\n",
       "    .dataframe tbody tr th:only-of-type {\n",
       "        vertical-align: middle;\n",
       "    }\n",
       "\n",
       "    .dataframe tbody tr th {\n",
       "        vertical-align: top;\n",
       "    }\n",
       "\n",
       "    .dataframe thead th {\n",
       "        text-align: right;\n",
       "    }\n",
       "</style>\n",
       "<table border=\"1\" class=\"dataframe\">\n",
       "  <thead>\n",
       "    <tr style=\"text-align: right;\">\n",
       "      <th></th>\n",
       "      <th>ID</th>\n",
       "      <th>CropTyp</th>\n",
       "      <th>Acres</th>\n",
       "      <th>ExctAcr</th>\n",
       "      <th>Irrigtn</th>\n",
       "      <th>LstSrvD</th>\n",
       "      <th>DataSrc</th>\n",
       "      <th>county</th>\n",
       "      <th>survey_year</th>\n",
       "      <th>SF_year</th>\n",
       "    </tr>\n",
       "  </thead>\n",
       "  <tbody>\n",
       "    <tr>\n",
       "      <th>1</th>\n",
       "      <td>51381_WSDA_SF_2016</td>\n",
       "      <td>wheat</td>\n",
       "      <td>117</td>\n",
       "      <td>116.743101</td>\n",
       "      <td>center pivot</td>\n",
       "      <td>2016/09/20 00:00:00</td>\n",
       "      <td>wsda</td>\n",
       "      <td>Adams</td>\n",
       "      <td>2016</td>\n",
       "      <td>2016</td>\n",
       "    </tr>\n",
       "    <tr>\n",
       "      <th>2</th>\n",
       "      <td>51383_WSDA_SF_2016</td>\n",
       "      <td>wheat</td>\n",
       "      <td>113</td>\n",
       "      <td>113.432725</td>\n",
       "      <td>center pivot</td>\n",
       "      <td>2016/09/13 00:00:00</td>\n",
       "      <td>wsda</td>\n",
       "      <td>Adams</td>\n",
       "      <td>2016</td>\n",
       "      <td>2016</td>\n",
       "    </tr>\n",
       "  </tbody>\n",
       "</table>\n",
       "</div>"
      ],
      "text/plain": [
       "                   ID CropTyp  Acres     ExctAcr       Irrigtn  \\\n",
       "1  51381_WSDA_SF_2016   wheat    117  116.743101  center pivot   \n",
       "2  51383_WSDA_SF_2016   wheat    113  113.432725  center pivot   \n",
       "\n",
       "               LstSrvD DataSrc county  survey_year  SF_year  \n",
       "1  2016/09/20 00:00:00    wsda  Adams         2016     2016  \n",
       "2  2016/09/13 00:00:00    wsda  Adams         2016     2016  "
      ]
     },
     "execution_count": 40,
     "metadata": {},
     "output_type": "execute_result"
    }
   ],
   "source": [
    "irriigated_SF_data_concatenated.head(2)"
   ]
  },
  {
   "cell_type": "code",
   "execution_count": 42,
   "id": "abf6b180",
   "metadata": {},
   "outputs": [
    {
     "data": {
      "text/plain": [
       "103"
      ]
     },
     "execution_count": 42,
     "metadata": {},
     "output_type": "execute_result"
    }
   ],
   "source": [
    "len(list(irriigated_SF_data_concatenated.CropTyp.unique()))"
   ]
  },
  {
   "cell_type": "code",
   "execution_count": null,
   "id": "09753393",
   "metadata": {},
   "outputs": [],
   "source": []
  }
 ],
 "metadata": {
  "kernelspec": {
   "display_name": "Python 3 (ipykernel)",
   "language": "python",
   "name": "python3"
  },
  "language_info": {
   "codemirror_mode": {
    "name": "ipython",
    "version": 3
   },
   "file_extension": ".py",
   "mimetype": "text/x-python",
   "name": "python",
   "nbconvert_exporter": "python",
   "pygments_lexer": "ipython3",
   "version": "3.11.5"
  }
 },
 "nbformat": 4,
 "nbformat_minor": 5
}
