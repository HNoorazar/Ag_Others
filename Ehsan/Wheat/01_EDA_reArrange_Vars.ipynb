{
 "cells": [
  {
   "cell_type": "code",
   "execution_count": 1,
   "id": "82843d39",
   "metadata": {},
   "outputs": [],
   "source": [
    "import warnings\n",
    "warnings.filterwarnings(\"ignore\")\n",
    "\n",
    "import pandas as pd\n",
    "import numpy as np\n",
    "import os, os.path, pickle, sys\n",
    "\n",
    "from scipy import stats\n",
    "\n",
    "import seaborn as sns\n",
    "import matplotlib\n",
    "import matplotlib.pyplot as plt\n",
    "import matplotlib.colors as colors\n",
    "from matplotlib.colors import ListedColormap, Normalize\n",
    "from matplotlib import cm\n",
    "\n",
    "from datetime import datetime"
   ]
  },
  {
   "cell_type": "code",
   "execution_count": 2,
   "id": "70703428",
   "metadata": {},
   "outputs": [],
   "source": [
    "sys.path.append(\"/Users/hn/Documents/00_GitHub/Ag_Others/Ehsan/Wheat/\")\n",
    "import wheat_core as wc"
   ]
  },
  {
   "cell_type": "code",
   "execution_count": 3,
   "id": "2cf18577",
   "metadata": {},
   "outputs": [],
   "source": [
    "data_dir_base = \"/Users/hn/Documents/01_research_data/Ehsan/wheat/\"\n",
    "wheat_reOrganized = data_dir_base + \"wheat_reOrganized/\""
   ]
  },
  {
   "cell_type": "code",
   "execution_count": 4,
   "id": "0b7b6fe2",
   "metadata": {},
   "outputs": [
    {
     "data": {
      "text/plain": [
       "dict_keys(['averaged_varieties', 'separate_varieties', 'source_code', 'Author', 'Date'])"
      ]
     },
     "execution_count": 4,
     "metadata": {},
     "output_type": "execute_result"
    }
   ],
   "source": [
    "data_ = pd.read_pickle(wheat_reOrganized + \"average_and_seperate_varieties.sav\")\n",
    "data_.keys()"
   ]
  },
  {
   "cell_type": "code",
   "execution_count": 5,
   "id": "178956c0",
   "metadata": {},
   "outputs": [
    {
     "data": {
      "text/html": [
       "<div>\n",
       "<style scoped>\n",
       "    .dataframe tbody tr th:only-of-type {\n",
       "        vertical-align: middle;\n",
       "    }\n",
       "\n",
       "    .dataframe tbody tr th {\n",
       "        vertical-align: top;\n",
       "    }\n",
       "\n",
       "    .dataframe thead th {\n",
       "        text-align: right;\n",
       "    }\n",
       "</style>\n",
       "<table border=\"1\" class=\"dataframe\">\n",
       "  <thead>\n",
       "    <tr style=\"text-align: right;\">\n",
       "      <th></th>\n",
       "      <th>location</th>\n",
       "      <th>year</th>\n",
       "      <th>1_Tavg</th>\n",
       "      <th>2_Tavg</th>\n",
       "      <th>3_Tavg</th>\n",
       "      <th>4_Tavg</th>\n",
       "      <th>5_Tavg</th>\n",
       "      <th>6_Tavg</th>\n",
       "      <th>7_Tavg</th>\n",
       "      <th>8_Tavg</th>\n",
       "      <th>...</th>\n",
       "      <th>18_vs</th>\n",
       "      <th>19_vs</th>\n",
       "      <th>20_vs</th>\n",
       "      <th>21_vs</th>\n",
       "      <th>22_vs</th>\n",
       "      <th>23_vs</th>\n",
       "      <th>24_vs</th>\n",
       "      <th>25_vs</th>\n",
       "      <th>grain_yield</th>\n",
       "      <th>variety</th>\n",
       "    </tr>\n",
       "  </thead>\n",
       "  <tbody>\n",
       "    <tr>\n",
       "      <th>0</th>\n",
       "      <td>Almira</td>\n",
       "      <td>2005</td>\n",
       "      <td>7.725714</td>\n",
       "      <td>14.655</td>\n",
       "      <td>11.125714</td>\n",
       "      <td>14.511429</td>\n",
       "      <td>14.647143</td>\n",
       "      <td>12.345</td>\n",
       "      <td>18.738571</td>\n",
       "      <td>14.102143</td>\n",
       "      <td>...</td>\n",
       "      <td>2.55</td>\n",
       "      <td>NaN</td>\n",
       "      <td>NaN</td>\n",
       "      <td>NaN</td>\n",
       "      <td>NaN</td>\n",
       "      <td>NaN</td>\n",
       "      <td>NaN</td>\n",
       "      <td>NaN</td>\n",
       "      <td>43.9</td>\n",
       "      <td>Alpowa</td>\n",
       "    </tr>\n",
       "    <tr>\n",
       "      <th>1</th>\n",
       "      <td>Almira</td>\n",
       "      <td>2005</td>\n",
       "      <td>7.725714</td>\n",
       "      <td>14.655</td>\n",
       "      <td>11.125714</td>\n",
       "      <td>14.511429</td>\n",
       "      <td>14.647143</td>\n",
       "      <td>12.345</td>\n",
       "      <td>18.738571</td>\n",
       "      <td>14.102143</td>\n",
       "      <td>...</td>\n",
       "      <td>2.55</td>\n",
       "      <td>NaN</td>\n",
       "      <td>NaN</td>\n",
       "      <td>NaN</td>\n",
       "      <td>NaN</td>\n",
       "      <td>NaN</td>\n",
       "      <td>NaN</td>\n",
       "      <td>NaN</td>\n",
       "      <td>37.7</td>\n",
       "      <td>Alturas</td>\n",
       "    </tr>\n",
       "  </tbody>\n",
       "</table>\n",
       "<p>2 rows × 329 columns</p>\n",
       "</div>"
      ],
      "text/plain": [
       "  location  year    1_Tavg  2_Tavg     3_Tavg     4_Tavg     5_Tavg  6_Tavg  \\\n",
       "0   Almira  2005  7.725714  14.655  11.125714  14.511429  14.647143  12.345   \n",
       "1   Almira  2005  7.725714  14.655  11.125714  14.511429  14.647143  12.345   \n",
       "\n",
       "      7_Tavg     8_Tavg  ...  18_vs  19_vs  20_vs  21_vs  22_vs  23_vs  24_vs  \\\n",
       "0  18.738571  14.102143  ...   2.55    NaN    NaN    NaN    NaN    NaN    NaN   \n",
       "1  18.738571  14.102143  ...   2.55    NaN    NaN    NaN    NaN    NaN    NaN   \n",
       "\n",
       "   25_vs  grain_yield  variety  \n",
       "0    NaN         43.9   Alpowa  \n",
       "1    NaN         37.7  Alturas  \n",
       "\n",
       "[2 rows x 329 columns]"
      ]
     },
     "execution_count": 5,
     "metadata": {},
     "output_type": "execute_result"
    }
   ],
   "source": [
    "averaged_varieties = data_[\"averaged_varieties\"]\n",
    "separate_varieties = data_[\"separate_varieties\"]\n",
    "\n",
    "separate_varieties.head(2)"
   ]
  },
  {
   "cell_type": "code",
   "execution_count": 7,
   "id": "1d648c09",
   "metadata": {},
   "outputs": [
    {
     "data": {
      "text/plain": [
       "329"
      ]
     },
     "execution_count": 7,
     "metadata": {},
     "output_type": "execute_result"
    }
   ],
   "source": [
    "len(separate_varieties.columns)"
   ]
  },
  {
   "cell_type": "code",
   "execution_count": 8,
   "id": "419590a5",
   "metadata": {},
   "outputs": [
    {
     "data": {
      "text/html": [
       "<div>\n",
       "<style scoped>\n",
       "    .dataframe tbody tr th:only-of-type {\n",
       "        vertical-align: middle;\n",
       "    }\n",
       "\n",
       "    .dataframe tbody tr th {\n",
       "        vertical-align: top;\n",
       "    }\n",
       "\n",
       "    .dataframe thead th {\n",
       "        text-align: right;\n",
       "    }\n",
       "</style>\n",
       "<table border=\"1\" class=\"dataframe\">\n",
       "  <thead>\n",
       "    <tr style=\"text-align: right;\">\n",
       "      <th></th>\n",
       "      <th>location</th>\n",
       "      <th>year</th>\n",
       "      <th>1_Tavg</th>\n",
       "      <th>2_Tavg</th>\n",
       "      <th>3_Tavg</th>\n",
       "      <th>4_Tavg</th>\n",
       "      <th>5_Tavg</th>\n",
       "      <th>6_Tavg</th>\n",
       "      <th>7_Tavg</th>\n",
       "      <th>8_Tavg</th>\n",
       "      <th>...</th>\n",
       "      <th>19_vs</th>\n",
       "      <th>20_vs</th>\n",
       "      <th>21_vs</th>\n",
       "      <th>22_vs</th>\n",
       "      <th>23_vs</th>\n",
       "      <th>24_vs</th>\n",
       "      <th>25_vs</th>\n",
       "      <th>Year</th>\n",
       "      <th>Location</th>\n",
       "      <th>Grain_yield</th>\n",
       "    </tr>\n",
       "  </thead>\n",
       "  <tbody>\n",
       "    <tr>\n",
       "      <th>0</th>\n",
       "      <td>Almira</td>\n",
       "      <td>2005</td>\n",
       "      <td>7.725714</td>\n",
       "      <td>14.655000</td>\n",
       "      <td>11.125714</td>\n",
       "      <td>14.511429</td>\n",
       "      <td>14.647143</td>\n",
       "      <td>12.345000</td>\n",
       "      <td>18.738571</td>\n",
       "      <td>14.102143</td>\n",
       "      <td>...</td>\n",
       "      <td>NaN</td>\n",
       "      <td>NaN</td>\n",
       "      <td>NaN</td>\n",
       "      <td>NaN</td>\n",
       "      <td>NaN</td>\n",
       "      <td>NaN</td>\n",
       "      <td>NaN</td>\n",
       "      <td>2005</td>\n",
       "      <td>Almira</td>\n",
       "      <td>42.088889</td>\n",
       "    </tr>\n",
       "    <tr>\n",
       "      <th>1</th>\n",
       "      <td>Almira</td>\n",
       "      <td>2006</td>\n",
       "      <td>8.555714</td>\n",
       "      <td>12.201429</td>\n",
       "      <td>9.725000</td>\n",
       "      <td>12.675714</td>\n",
       "      <td>21.397857</td>\n",
       "      <td>12.253571</td>\n",
       "      <td>16.030714</td>\n",
       "      <td>16.796429</td>\n",
       "      <td>...</td>\n",
       "      <td>NaN</td>\n",
       "      <td>NaN</td>\n",
       "      <td>NaN</td>\n",
       "      <td>NaN</td>\n",
       "      <td>NaN</td>\n",
       "      <td>NaN</td>\n",
       "      <td>NaN</td>\n",
       "      <td>2006</td>\n",
       "      <td>Almira</td>\n",
       "      <td>71.019048</td>\n",
       "    </tr>\n",
       "  </tbody>\n",
       "</table>\n",
       "<p>2 rows × 330 columns</p>\n",
       "</div>"
      ],
      "text/plain": [
       "  location  year    1_Tavg     2_Tavg     3_Tavg     4_Tavg     5_Tavg  \\\n",
       "0   Almira  2005  7.725714  14.655000  11.125714  14.511429  14.647143   \n",
       "1   Almira  2006  8.555714  12.201429   9.725000  12.675714  21.397857   \n",
       "\n",
       "      6_Tavg     7_Tavg     8_Tavg  ...  19_vs  20_vs  21_vs  22_vs  23_vs  \\\n",
       "0  12.345000  18.738571  14.102143  ...    NaN    NaN    NaN    NaN    NaN   \n",
       "1  12.253571  16.030714  16.796429  ...    NaN    NaN    NaN    NaN    NaN   \n",
       "\n",
       "   24_vs  25_vs  Year  Location  Grain_yield  \n",
       "0    NaN    NaN  2005    Almira    42.088889  \n",
       "1    NaN    NaN  2006    Almira    71.019048  \n",
       "\n",
       "[2 rows x 330 columns]"
      ]
     },
     "execution_count": 8,
     "metadata": {},
     "output_type": "execute_result"
    }
   ],
   "source": [
    "averaged_varieties.head(2)"
   ]
  },
  {
   "cell_type": "code",
   "execution_count": null,
   "id": "9b66f3d7",
   "metadata": {},
   "outputs": [],
   "source": []
  }
 ],
 "metadata": {
  "kernelspec": {
   "display_name": "Python 3 (ipykernel)",
   "language": "python",
   "name": "python3"
  },
  "language_info": {
   "codemirror_mode": {
    "name": "ipython",
    "version": 3
   },
   "file_extension": ".py",
   "mimetype": "text/x-python",
   "name": "python",
   "nbconvert_exporter": "python",
   "pygments_lexer": "ipython3",
   "version": "3.9.6"
  }
 },
 "nbformat": 4,
 "nbformat_minor": 5
}
