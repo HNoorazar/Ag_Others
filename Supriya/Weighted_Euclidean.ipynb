{
 "cells": [
  {
   "cell_type": "code",
   "execution_count": 1,
   "id": "10332236",
   "metadata": {},
   "outputs": [],
   "source": [
    "import numpy as np"
   ]
  },
  {
   "cell_type": "code",
   "execution_count": 3,
   "id": "d7c34440",
   "metadata": {},
   "outputs": [],
   "source": [
    "ideal = np.array([0, 0, 100, 0, 0])\n",
    "\n",
    "pd1 = np.array([0, 30, 40, 30, 0])\n",
    "pd2 = np.array([30, 0, 40, 0, 30])\n",
    "\n",
    "weights = np.array([3, 2, 1, 2, 3])"
   ]
  },
  {
   "cell_type": "code",
   "execution_count": 8,
   "id": "44235ef5",
   "metadata": {},
   "outputs": [
    {
     "name": "stdout",
     "output_type": "stream",
     "text": [
      "count = 0\n",
      "count = 1\n",
      "count = 2\n",
      "\n",
      "CPU times: user 136 µs, sys: 15 µs, total: 151 µs\n",
      "Wall time: 145 µs\n"
     ]
    }
   ],
   "source": [
    "%%time\n",
    "for count in np.arange(3):\n",
    "    print (f\"{count = }\")\n",
    "print ()"
   ]
  },
  {
   "cell_type": "code",
   "execution_count": 88,
   "id": "c29caec0",
   "metadata": {},
   "outputs": [],
   "source": [
    "no_runs = 10000000"
   ]
  },
  {
   "cell_type": "markdown",
   "id": "4a4b67aa",
   "metadata": {},
   "source": [
    "# Method 1"
   ]
  },
  {
   "cell_type": "code",
   "execution_count": 89,
   "id": "ffe9283c",
   "metadata": {},
   "outputs": [
    {
     "name": "stdout",
     "output_type": "stream",
     "text": [
      "CPU times: user 14.8 s, sys: 127 ms, total: 14.9 s\n",
      "Wall time: 14.9 s\n"
     ]
    }
   ],
   "source": [
    "%%time\n",
    "for count in np.arange(no_runs):\n",
    "    diff_ = pd1 - ideal\n",
    "    diff_squared = diff_ ** 2 # elementwise square\n",
    "    inner_product = np.dot(weights, diff_squared)\n",
    "    distance = np.sqrt(inner_product)"
   ]
  },
  {
   "cell_type": "markdown",
   "id": "68dfbb2f",
   "metadata": {},
   "source": [
    "# Method 2\n",
    "\n",
    "**element-wise product**"
   ]
  },
  {
   "cell_type": "code",
   "execution_count": 90,
   "id": "09c7d024",
   "metadata": {},
   "outputs": [
    {
     "name": "stdout",
     "output_type": "stream",
     "text": [
      "CPU times: user 25.9 s, sys: 6.31 ms, total: 25.9 s\n",
      "Wall time: 26 s\n"
     ]
    }
   ],
   "source": [
    "%%time\n",
    "for count in np.arange(no_runs):\n",
    "    diff_ = pd1 - ideal\n",
    "    # element-wise product 1\n",
    "    diff_squared = np.multiply(diff_, diff_)\n",
    "    \n",
    "    # element-wise product 2\n",
    "    inner_product = np.multiply(weights, diff_squared)\n",
    "    distance = np.sqrt(np.sum(inner_product))"
   ]
  },
  {
   "cell_type": "markdown",
   "id": "966c917c",
   "metadata": {},
   "source": [
    "# Method 3\n",
    "\n",
    "**Matrix form**"
   ]
  },
  {
   "cell_type": "code",
   "execution_count": 91,
   "id": "78435c72",
   "metadata": {},
   "outputs": [
    {
     "data": {
      "text/plain": [
       "array([[3, 0, 0, 0, 0],\n",
       "       [0, 2, 0, 0, 0],\n",
       "       [0, 0, 1, 0, 0],\n",
       "       [0, 0, 0, 2, 0],\n",
       "       [0, 0, 0, 0, 3]])"
      ]
     },
     "execution_count": 91,
     "metadata": {},
     "output_type": "execute_result"
    }
   ],
   "source": [
    "weight_matrix = np.diag(weights)\n",
    "weight_matrix"
   ]
  },
  {
   "cell_type": "code",
   "execution_count": 92,
   "id": "c8e99232",
   "metadata": {},
   "outputs": [
    {
     "name": "stdout",
     "output_type": "stream",
     "text": [
      "CPU times: user 17.9 s, sys: 110 ms, total: 18 s\n",
      "Wall time: 18 s\n"
     ]
    }
   ],
   "source": [
    "%%time\n",
    "for count in np.arange(no_runs):\n",
    "    diff_ = pd1 - ideal\n",
    "    \n",
    "    # matrix product\n",
    "    matrix_prod = np.dot(diff_, weight_matrix)\n",
    "    matrix_prod = np.dot(matrix_prod, diff_)\n",
    "    distance = np.sqrt(matrix_prod)"
   ]
  },
  {
   "cell_type": "code",
   "execution_count": 97,
   "id": "aa8befbf",
   "metadata": {},
   "outputs": [],
   "source": [
    "def weighted_euclidean(vec1, vec2, weights_):\n",
    "    diff_ = vec1 - vec2\n",
    "    diff_squared = diff_ ** 2 # elementwise square\n",
    "    inner_product = np.dot(weights_, diff_squared)\n",
    "    distance = np.sqrt(inner_product)\n",
    "    return (distance.round(2))"
   ]
  },
  {
   "cell_type": "code",
   "execution_count": 98,
   "id": "a4a4625c",
   "metadata": {},
   "outputs": [
    {
     "data": {
      "text/plain": [
       "84.85"
      ]
     },
     "execution_count": 98,
     "metadata": {},
     "output_type": "execute_result"
    }
   ],
   "source": [
    "weighted_euclidean(vec1=ideal, vec2=pd1, weights_=weights)"
   ]
  },
  {
   "cell_type": "code",
   "execution_count": 99,
   "id": "76f3f93c",
   "metadata": {},
   "outputs": [
    {
     "data": {
      "text/plain": [
       "94.87"
      ]
     },
     "execution_count": 99,
     "metadata": {},
     "output_type": "execute_result"
    }
   ],
   "source": [
    "weighted_euclidean(vec1=ideal, vec2=pd2, weights_=weights)"
   ]
  },
  {
   "cell_type": "code",
   "execution_count": null,
   "id": "c44c3399",
   "metadata": {},
   "outputs": [],
   "source": []
  }
 ],
 "metadata": {
  "kernelspec": {
   "display_name": "Python 3 (ipykernel)",
   "language": "python",
   "name": "python3"
  },
  "language_info": {
   "codemirror_mode": {
    "name": "ipython",
    "version": 3
   },
   "file_extension": ".py",
   "mimetype": "text/x-python",
   "name": "python",
   "nbconvert_exporter": "python",
   "pygments_lexer": "ipython3",
   "version": "3.11.2"
  }
 },
 "nbformat": 4,
 "nbformat_minor": 5
}
