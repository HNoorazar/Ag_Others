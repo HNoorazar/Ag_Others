{
 "cells": [
  {
   "cell_type": "markdown",
   "id": "f819a389",
   "metadata": {},
   "source": [
    "## Overfitting or not. That's the question"
   ]
  },
  {
   "cell_type": "code",
   "execution_count": 1,
   "id": "134d016c",
   "metadata": {},
   "outputs": [],
   "source": [
    "import pandas as pd\n",
    "import numpy as np\n",
    "\n",
    "import random\n",
    "\n",
    "from sklearn import preprocessing\n",
    "import statistics\n",
    "import statsmodels.api as sm\n",
    "\n",
    "import matplotlib\n",
    "import matplotlib.pyplot as plt"
   ]
  },
  {
   "cell_type": "code",
   "execution_count": 91,
   "id": "3f99393c",
   "metadata": {},
   "outputs": [],
   "source": [
    "outdir = \"/Users/hn/Documents/01_research_data/Other_people/Ehsan/\""
   ]
  },
  {
   "cell_type": "code",
   "execution_count": 2,
   "id": "9e1909f2",
   "metadata": {
    "lines_to_next_cell": 2
   },
   "outputs": [
    {
     "name": "stdout",
     "output_type": "stream",
     "text": [
      "0.5714025946899135\n"
     ]
    }
   ],
   "source": [
    "random.seed(10)\n",
    "print(random.random())"
   ]
  },
  {
   "cell_type": "code",
   "execution_count": 3,
   "id": "3f6879de",
   "metadata": {},
   "outputs": [
    {
     "data": {
      "text/plain": [
       "array([ 1.3315865 ,  0.71527897, -1.54540029, -0.00838385,  0.62133597,\n",
       "       -0.72008556,  0.26551159,  0.10854853,  0.00429143, -0.17460021])"
      ]
     },
     "execution_count": 3,
     "metadata": {},
     "output_type": "execute_result"
    }
   ],
   "source": [
    "np.random.seed(10)\n",
    "np.random.normal(loc=0.0, scale=1.0, size=10)"
   ]
  },
  {
   "cell_type": "markdown",
   "id": "05404108",
   "metadata": {},
   "source": [
    "### First create `x` and then add random noise to each `x` to get `y`.\n",
    "\n",
    "So, some random points around the $y=x$ line"
   ]
  },
  {
   "cell_type": "code",
   "execution_count": 4,
   "id": "f603bc9e",
   "metadata": {},
   "outputs": [],
   "source": [
    "np.random.seed(6)\n",
    "vec_size = 10\n",
    "x = np.random.normal(size=vec_size)\n",
    "y = x + np.random.normal(loc=0, scale=1, size=vec_size)\n",
    "# np. corrcoef (x, y)"
   ]
  },
  {
   "cell_type": "code",
   "execution_count": 5,
   "id": "28fe65da",
   "metadata": {},
   "outputs": [],
   "source": [
    "x_y_line = np.arange(-4, 5)"
   ]
  },
  {
   "cell_type": "code",
   "execution_count": 6,
   "id": "1485cc82",
   "metadata": {},
   "outputs": [
    {
     "data": {
      "image/png": "[encoded data removed]",
      "text/plain": [
       "<Figure size 500x500 with 1 Axes>"
      ]
     },
     "metadata": {},
     "output_type": "display_data"
    }
   ],
   "source": [
    "fig, axes = plt.subplots(1, 1, figsize=(5, 5), sharey=False)\n",
    "axes.grid(axis=\"y\", which=\"both\");\n",
    "axes.plot(x_y_line, x_y_line, label = \"$y=x$\")\n",
    "\n",
    "axes.scatter(x, y);"
   ]
  },
  {
   "cell_type": "markdown",
   "id": "cdda66ae",
   "metadata": {},
   "source": [
    "### add powers of `x` to the dataframe for polynomial regression"
   ]
  },
  {
   "cell_type": "code",
   "execution_count": 7,
   "id": "088c970c",
   "metadata": {},
   "outputs": [
    {
     "data": {
      "text/html": [
       "<div>\n",
       "<style scoped>\n",
       "    .dataframe tbody tr th:only-of-type {\n",
       "        vertical-align: middle;\n",
       "    }\n",
       "\n",
       "    .dataframe tbody tr th {\n",
       "        vertical-align: top;\n",
       "    }\n",
       "\n",
       "    .dataframe thead th {\n",
       "        text-align: right;\n",
       "    }\n",
       "</style>\n",
       "<table border=\"1\" class=\"dataframe\">\n",
       "  <thead>\n",
       "    <tr style=\"text-align: right;\">\n",
       "      <th></th>\n",
       "      <th>y</th>\n",
       "      <th>x</th>\n",
       "      <th>x2</th>\n",
       "      <th>x3</th>\n",
       "      <th>x4</th>\n",
       "      <th>x5</th>\n",
       "      <th>x6</th>\n",
       "      <th>x7</th>\n",
       "      <th>x8</th>\n",
       "      <th>x9</th>\n",
       "      <th>x10</th>\n",
       "      <th>x11</th>\n",
       "    </tr>\n",
       "  </thead>\n",
       "  <tbody>\n",
       "    <tr>\n",
       "      <th>0</th>\n",
       "      <td>2.319497</td>\n",
       "      <td>-0.311784</td>\n",
       "      <td>0.097209</td>\n",
       "      <td>-0.030308</td>\n",
       "      <td>0.009450</td>\n",
       "      <td>-0.002946</td>\n",
       "      <td>0.000919</td>\n",
       "      <td>-0.000286</td>\n",
       "      <td>0.000089</td>\n",
       "      <td>-0.000028</td>\n",
       "      <td>0.000009</td>\n",
       "      <td>-0.000003</td>\n",
       "    </tr>\n",
       "    <tr>\n",
       "      <th>1</th>\n",
       "      <td>1.330826</td>\n",
       "      <td>0.729004</td>\n",
       "      <td>0.531447</td>\n",
       "      <td>0.387427</td>\n",
       "      <td>0.282436</td>\n",
       "      <td>0.205897</td>\n",
       "      <td>0.150099</td>\n",
       "      <td>0.109423</td>\n",
       "      <td>0.079770</td>\n",
       "      <td>0.058153</td>\n",
       "      <td>0.042393</td>\n",
       "      <td>0.030905</td>\n",
       "    </tr>\n",
       "  </tbody>\n",
       "</table>\n",
       "</div>"
      ],
      "text/plain": [
       "          y         x        x2        x3        x4        x5        x6  \\\n",
       "0  2.319497 -0.311784  0.097209 -0.030308  0.009450 -0.002946  0.000919   \n",
       "1  1.330826  0.729004  0.531447  0.387427  0.282436  0.205897  0.150099   \n",
       "\n",
       "         x7        x8        x9       x10       x11  \n",
       "0 -0.000286  0.000089 -0.000028  0.000009 -0.000003  \n",
       "1  0.109423  0.079770  0.058153  0.042393  0.030905  "
      ]
     },
     "execution_count": 7,
     "metadata": {},
     "output_type": "execute_result"
    }
   ],
   "source": [
    "df = pd.DataFrame(columns=[\"y\", \"x\"], data= np.column_stack((y, x)) )\n",
    "for a in np.arange(2, 12):\n",
    "    df[\"x\" + str(a)] = x**a\n",
    "\n",
    "df.head(2)"
   ]
  },
  {
   "cell_type": "code",
   "execution_count": 8,
   "id": "fb8194cb",
   "metadata": {},
   "outputs": [
    {
     "data": {
      "text/html": [
       "<div>\n",
       "<style scoped>\n",
       "    .dataframe tbody tr th:only-of-type {\n",
       "        vertical-align: middle;\n",
       "    }\n",
       "\n",
       "    .dataframe tbody tr th {\n",
       "        vertical-align: top;\n",
       "    }\n",
       "\n",
       "    .dataframe thead th {\n",
       "        text-align: right;\n",
       "    }\n",
       "</style>\n",
       "<table border=\"1\" class=\"dataframe\">\n",
       "  <thead>\n",
       "    <tr style=\"text-align: right;\">\n",
       "      <th></th>\n",
       "      <th>const</th>\n",
       "      <th>y</th>\n",
       "      <th>x</th>\n",
       "      <th>x2</th>\n",
       "      <th>x3</th>\n",
       "      <th>x4</th>\n",
       "      <th>x5</th>\n",
       "      <th>x6</th>\n",
       "      <th>x7</th>\n",
       "      <th>x8</th>\n",
       "      <th>x9</th>\n",
       "      <th>x10</th>\n",
       "      <th>x11</th>\n",
       "    </tr>\n",
       "  </thead>\n",
       "  <tbody>\n",
       "    <tr>\n",
       "      <th>0</th>\n",
       "      <td>1.0</td>\n",
       "      <td>2.319497</td>\n",
       "      <td>-0.311784</td>\n",
       "      <td>0.097209</td>\n",
       "      <td>-0.030308</td>\n",
       "      <td>0.009450</td>\n",
       "      <td>-0.002946</td>\n",
       "      <td>0.000919</td>\n",
       "      <td>-0.000286</td>\n",
       "      <td>0.000089</td>\n",
       "      <td>-0.000028</td>\n",
       "      <td>8.680279e-06</td>\n",
       "      <td>-2.706369e-06</td>\n",
       "    </tr>\n",
       "    <tr>\n",
       "      <th>1</th>\n",
       "      <td>1.0</td>\n",
       "      <td>1.330826</td>\n",
       "      <td>0.729004</td>\n",
       "      <td>0.531447</td>\n",
       "      <td>0.387427</td>\n",
       "      <td>0.282436</td>\n",
       "      <td>0.205897</td>\n",
       "      <td>0.150099</td>\n",
       "      <td>0.109423</td>\n",
       "      <td>0.079770</td>\n",
       "      <td>0.058153</td>\n",
       "      <td>4.239344e-02</td>\n",
       "      <td>3.090498e-02</td>\n",
       "    </tr>\n",
       "    <tr>\n",
       "      <th>2</th>\n",
       "      <td>1.0</td>\n",
       "      <td>-0.118061</td>\n",
       "      <td>0.217821</td>\n",
       "      <td>0.047446</td>\n",
       "      <td>0.010335</td>\n",
       "      <td>0.002251</td>\n",
       "      <td>0.000490</td>\n",
       "      <td>0.000107</td>\n",
       "      <td>0.000023</td>\n",
       "      <td>0.000005</td>\n",
       "      <td>0.000001</td>\n",
       "      <td>2.404325e-07</td>\n",
       "      <td>5.237121e-08</td>\n",
       "    </tr>\n",
       "  </tbody>\n",
       "</table>\n",
       "</div>"
      ],
      "text/plain": [
       "   const         y         x        x2        x3        x4        x5  \\\n",
       "0    1.0  2.319497 -0.311784  0.097209 -0.030308  0.009450 -0.002946   \n",
       "1    1.0  1.330826  0.729004  0.531447  0.387427  0.282436  0.205897   \n",
       "2    1.0 -0.118061  0.217821  0.047446  0.010335  0.002251  0.000490   \n",
       "\n",
       "         x6        x7        x8        x9           x10           x11  \n",
       "0  0.000919 -0.000286  0.000089 -0.000028  8.680279e-06 -2.706369e-06  \n",
       "1  0.150099  0.109423  0.079770  0.058153  4.239344e-02  3.090498e-02  \n",
       "2  0.000107  0.000023  0.000005  0.000001  2.404325e-07  5.237121e-08  "
      ]
     },
     "execution_count": 8,
     "metadata": {},
     "output_type": "execute_result"
    }
   ],
   "source": [
    "df = sm.add_constant(df)\n",
    "df.head(3)"
   ]
  },
  {
   "cell_type": "code",
   "execution_count": null,
   "id": "e16fb063",
   "metadata": {},
   "outputs": [],
   "source": []
  },
  {
   "cell_type": "code",
   "execution_count": 9,
   "id": "850313fd",
   "metadata": {},
   "outputs": [
    {
     "data": {
      "text/html": [
       "<div>\n",
       "<style scoped>\n",
       "    .dataframe tbody tr th:only-of-type {\n",
       "        vertical-align: middle;\n",
       "    }\n",
       "\n",
       "    .dataframe tbody tr th {\n",
       "        vertical-align: top;\n",
       "    }\n",
       "\n",
       "    .dataframe thead th {\n",
       "        text-align: right;\n",
       "    }\n",
       "</style>\n",
       "<table border=\"1\" class=\"dataframe\">\n",
       "  <thead>\n",
       "    <tr style=\"text-align: right;\">\n",
       "      <th></th>\n",
       "      <th>y</th>\n",
       "      <th>const</th>\n",
       "      <th>x</th>\n",
       "      <th>x2</th>\n",
       "      <th>x3</th>\n",
       "      <th>x4</th>\n",
       "      <th>x5</th>\n",
       "      <th>x6</th>\n",
       "      <th>x7</th>\n",
       "      <th>x8</th>\n",
       "      <th>x9</th>\n",
       "      <th>x10</th>\n",
       "      <th>x11</th>\n",
       "    </tr>\n",
       "  </thead>\n",
       "  <tbody>\n",
       "    <tr>\n",
       "      <th>0</th>\n",
       "      <td>2.319497</td>\n",
       "      <td>1.0</td>\n",
       "      <td>-0.311784</td>\n",
       "      <td>0.097209</td>\n",
       "      <td>-0.030308</td>\n",
       "      <td>0.009450</td>\n",
       "      <td>-0.002946</td>\n",
       "      <td>0.000919</td>\n",
       "      <td>-0.000286</td>\n",
       "      <td>0.000089</td>\n",
       "      <td>-0.000028</td>\n",
       "      <td>8.680279e-06</td>\n",
       "      <td>-2.706369e-06</td>\n",
       "    </tr>\n",
       "    <tr>\n",
       "      <th>1</th>\n",
       "      <td>1.330826</td>\n",
       "      <td>1.0</td>\n",
       "      <td>0.729004</td>\n",
       "      <td>0.531447</td>\n",
       "      <td>0.387427</td>\n",
       "      <td>0.282436</td>\n",
       "      <td>0.205897</td>\n",
       "      <td>0.150099</td>\n",
       "      <td>0.109423</td>\n",
       "      <td>0.079770</td>\n",
       "      <td>0.058153</td>\n",
       "      <td>4.239344e-02</td>\n",
       "      <td>3.090498e-02</td>\n",
       "    </tr>\n",
       "    <tr>\n",
       "      <th>2</th>\n",
       "      <td>-0.118061</td>\n",
       "      <td>1.0</td>\n",
       "      <td>0.217821</td>\n",
       "      <td>0.047446</td>\n",
       "      <td>0.010335</td>\n",
       "      <td>0.002251</td>\n",
       "      <td>0.000490</td>\n",
       "      <td>0.000107</td>\n",
       "      <td>0.000023</td>\n",
       "      <td>0.000005</td>\n",
       "      <td>0.000001</td>\n",
       "      <td>2.404325e-07</td>\n",
       "      <td>5.237121e-08</td>\n",
       "    </tr>\n",
       "  </tbody>\n",
       "</table>\n",
       "</div>"
      ],
      "text/plain": [
       "          y  const         x        x2        x3        x4        x5  \\\n",
       "0  2.319497    1.0 -0.311784  0.097209 -0.030308  0.009450 -0.002946   \n",
       "1  1.330826    1.0  0.729004  0.531447  0.387427  0.282436  0.205897   \n",
       "2 -0.118061    1.0  0.217821  0.047446  0.010335  0.002251  0.000490   \n",
       "\n",
       "         x6        x7        x8        x9           x10           x11  \n",
       "0  0.000919 -0.000286  0.000089 -0.000028  8.680279e-06 -2.706369e-06  \n",
       "1  0.150099  0.109423  0.079770  0.058153  4.239344e-02  3.090498e-02  \n",
       "2  0.000107  0.000023  0.000005  0.000001  2.404325e-07  5.237121e-08  "
      ]
     },
     "execution_count": 9,
     "metadata": {},
     "output_type": "execute_result"
    }
   ],
   "source": [
    "# reorder columns!\n",
    "a = list(df.columns)\n",
    "a.remove(\"y\")\n",
    "df = df[['y'] + a]\n",
    "df.head(3)"
   ]
  },
  {
   "cell_type": "code",
   "execution_count": 10,
   "id": "dcd1e6e7",
   "metadata": {},
   "outputs": [],
   "source": [
    "# Everything has been random. \n",
    "# so, no need to \"shuffle\"\n",
    "train_df = df.loc[0:7].copy()\n",
    "test_df =  df.loc[8:].copy()"
   ]
  },
  {
   "cell_type": "code",
   "execution_count": 11,
   "id": "13f54f6f",
   "metadata": {},
   "outputs": [
    {
     "data": {
      "text/html": [
       "<div>\n",
       "<style scoped>\n",
       "    .dataframe tbody tr th:only-of-type {\n",
       "        vertical-align: middle;\n",
       "    }\n",
       "\n",
       "    .dataframe tbody tr th {\n",
       "        vertical-align: top;\n",
       "    }\n",
       "\n",
       "    .dataframe thead th {\n",
       "        text-align: right;\n",
       "    }\n",
       "</style>\n",
       "<table border=\"1\" class=\"dataframe\">\n",
       "  <thead>\n",
       "    <tr style=\"text-align: right;\">\n",
       "      <th></th>\n",
       "      <th>const</th>\n",
       "      <th>x</th>\n",
       "      <th>x2</th>\n",
       "      <th>x3</th>\n",
       "      <th>x4</th>\n",
       "      <th>x5</th>\n",
       "      <th>x6</th>\n",
       "      <th>x7</th>\n",
       "    </tr>\n",
       "  </thead>\n",
       "  <tbody>\n",
       "    <tr>\n",
       "      <th>0</th>\n",
       "      <td>1.0</td>\n",
       "      <td>-0.311784</td>\n",
       "      <td>0.097209</td>\n",
       "      <td>-0.030308</td>\n",
       "      <td>0.009450</td>\n",
       "      <td>-0.002946</td>\n",
       "      <td>0.000919</td>\n",
       "      <td>-0.000286</td>\n",
       "    </tr>\n",
       "    <tr>\n",
       "      <th>1</th>\n",
       "      <td>1.0</td>\n",
       "      <td>0.729004</td>\n",
       "      <td>0.531447</td>\n",
       "      <td>0.387427</td>\n",
       "      <td>0.282436</td>\n",
       "      <td>0.205897</td>\n",
       "      <td>0.150099</td>\n",
       "      <td>0.109423</td>\n",
       "    </tr>\n",
       "  </tbody>\n",
       "</table>\n",
       "</div>"
      ],
      "text/plain": [
       "   const         x        x2        x3        x4        x5        x6        x7\n",
       "0    1.0 -0.311784  0.097209 -0.030308  0.009450 -0.002946  0.000919 -0.000286\n",
       "1    1.0  0.729004  0.531447  0.387427  0.282436  0.205897  0.150099  0.109423"
      ]
     },
     "execution_count": 11,
     "metadata": {},
     "output_type": "execute_result"
    }
   ],
   "source": [
    "X_train = train_df.iloc[:, 1:9]\n",
    "Y_train = train_df.iloc[:, 0]\n",
    "X_train.head(2)"
   ]
  },
  {
   "cell_type": "code",
   "execution_count": 12,
   "id": "7bac1269",
   "metadata": {},
   "outputs": [
    {
     "data": {
      "text/html": [
       "<table class=\"simpletable\">\n",
       "<caption>OLS Regression Results</caption>\n",
       "<tr>\n",
       "  <th>Dep. Variable:</th>            <td>y</td>        <th>  R-squared:         </th> <td>   1.000</td>\n",
       "</tr>\n",
       "<tr>\n",
       "  <th>Model:</th>                   <td>OLS</td>       <th>  Adj. R-squared:    </th> <td>     nan</td>\n",
       "</tr>\n",
       "<tr>\n",
       "  <th>Method:</th>             <td>Least Squares</td>  <th>  F-statistic:       </th> <td>     nan</td>\n",
       "</tr>\n",
       "<tr>\n",
       "  <th>Date:</th>             <td>Tue, 29 Jul 2025</td> <th>  Prob (F-statistic):</th>  <td>   nan</td> \n",
       "</tr>\n",
       "<tr>\n",
       "  <th>Time:</th>                 <td>13:15:25</td>     <th>  Log-Likelihood:    </th> <td>  225.08</td>\n",
       "</tr>\n",
       "<tr>\n",
       "  <th>No. Observations:</th>      <td>     8</td>      <th>  AIC:               </th> <td>  -434.2</td>\n",
       "</tr>\n",
       "<tr>\n",
       "  <th>Df Residuals:</th>          <td>     0</td>      <th>  BIC:               </th> <td>  -433.5</td>\n",
       "</tr>\n",
       "<tr>\n",
       "  <th>Df Model:</th>              <td>     7</td>      <th>                     </th>     <td> </td>   \n",
       "</tr>\n",
       "<tr>\n",
       "  <th>Covariance Type:</th>      <td>nonrobust</td>    <th>                     </th>     <td> </td>   \n",
       "</tr>\n",
       "</table>\n",
       "<table class=\"simpletable\">\n",
       "<tr>\n",
       "    <td></td>       <th>coef</th>     <th>std err</th>      <th>t</th>      <th>P>|t|</th>  <th>[0.025</th>    <th>0.975]</th>  \n",
       "</tr>\n",
       "<tr>\n",
       "  <th>const</th> <td>    0.3480</td> <td>      inf</td> <td>        0</td> <td>   nan</td> <td>      nan</td> <td>      nan</td>\n",
       "</tr>\n",
       "<tr>\n",
       "  <th>x</th>     <td>   -4.6932</td> <td>      inf</td> <td>       -0</td> <td>   nan</td> <td>      nan</td> <td>      nan</td>\n",
       "</tr>\n",
       "<tr>\n",
       "  <th>x2</th>    <td>   10.1656</td> <td>      inf</td> <td>        0</td> <td>   nan</td> <td>      nan</td> <td>      nan</td>\n",
       "</tr>\n",
       "<tr>\n",
       "  <th>x3</th>    <td>   11.3308</td> <td>      inf</td> <td>        0</td> <td>   nan</td> <td>      nan</td> <td>      nan</td>\n",
       "</tr>\n",
       "<tr>\n",
       "  <th>x4</th>    <td>  -17.7154</td> <td>      inf</td> <td>       -0</td> <td>   nan</td> <td>      nan</td> <td>      nan</td>\n",
       "</tr>\n",
       "<tr>\n",
       "  <th>x5</th>    <td>   -8.5441</td> <td>      inf</td> <td>       -0</td> <td>   nan</td> <td>      nan</td> <td>      nan</td>\n",
       "</tr>\n",
       "<tr>\n",
       "  <th>x6</th>    <td>    7.0447</td> <td>      inf</td> <td>        0</td> <td>   nan</td> <td>      nan</td> <td>      nan</td>\n",
       "</tr>\n",
       "<tr>\n",
       "  <th>x7</th>    <td>    2.8976</td> <td>      inf</td> <td>        0</td> <td>   nan</td> <td>      nan</td> <td>      nan</td>\n",
       "</tr>\n",
       "</table>\n",
       "<table class=\"simpletable\">\n",
       "<tr>\n",
       "  <th>Omnibus:</th>       <td> 2.948</td> <th>  Durbin-Watson:     </th> <td>   0.390</td>\n",
       "</tr>\n",
       "<tr>\n",
       "  <th>Prob(Omnibus):</th> <td> 0.229</td> <th>  Jarque-Bera (JB):  </th> <td>   0.335</td>\n",
       "</tr>\n",
       "<tr>\n",
       "  <th>Skew:</th>          <td> 0.419</td> <th>  Prob(JB):          </th> <td>   0.846</td>\n",
       "</tr>\n",
       "<tr>\n",
       "  <th>Kurtosis:</th>      <td> 3.549</td> <th>  Cond. No.          </th> <td>1.75e+04</td>\n",
       "</tr>\n",
       "</table><br/><br/>Notes:<br/>[1] Standard Errors assume that the covariance matrix of the errors is correctly specified.<br/>[2] The condition number is large, 1.75e+04. This might indicate that there are<br/>strong multicollinearity or other numerical problems."
      ],
      "text/latex": [
       "\\begin{center}\n",
       "\\begin{tabular}{lclc}\n",
       "\\toprule\n",
       "\\textbf{Dep. Variable:}    &        y         & \\textbf{  R-squared:         } &     1.000   \\\\\n",
       "\\textbf{Model:}            &       OLS        & \\textbf{  Adj. R-squared:    } &       nan   \\\\\n",
       "\\textbf{Method:}           &  Least Squares   & \\textbf{  F-statistic:       } &       nan   \\\\\n",
       "\\textbf{Date:}             & Tue, 29 Jul 2025 & \\textbf{  Prob (F-statistic):} &      nan    \\\\\n",
       "\\textbf{Time:}             &     13:15:25     & \\textbf{  Log-Likelihood:    } &    225.08   \\\\\n",
       "\\textbf{No. Observations:} &           8      & \\textbf{  AIC:               } &    -434.2   \\\\\n",
       "\\textbf{Df Residuals:}     &           0      & \\textbf{  BIC:               } &    -433.5   \\\\\n",
       "\\textbf{Df Model:}         &           7      & \\textbf{                     } &             \\\\\n",
       "\\textbf{Covariance Type:}  &    nonrobust     & \\textbf{                     } &             \\\\\n",
       "\\bottomrule\n",
       "\\end{tabular}\n",
       "\\begin{tabular}{lcccccc}\n",
       "               & \\textbf{coef} & \\textbf{std err} & \\textbf{t} & \\textbf{P$> |$t$|$} & \\textbf{[0.025} & \\textbf{0.975]}  \\\\\n",
       "\\midrule\n",
       "\\textbf{const} &       0.3480  &          inf     &         0  &           nan        &          nan    &          nan     \\\\\n",
       "\\textbf{x}     &      -4.6932  &          inf     &        -0  &           nan        &          nan    &          nan     \\\\\n",
       "\\textbf{x2}    &      10.1656  &          inf     &         0  &           nan        &          nan    &          nan     \\\\\n",
       "\\textbf{x3}    &      11.3308  &          inf     &         0  &           nan        &          nan    &          nan     \\\\\n",
       "\\textbf{x4}    &     -17.7154  &          inf     &        -0  &           nan        &          nan    &          nan     \\\\\n",
       "\\textbf{x5}    &      -8.5441  &          inf     &        -0  &           nan        &          nan    &          nan     \\\\\n",
       "\\textbf{x6}    &       7.0447  &          inf     &         0  &           nan        &          nan    &          nan     \\\\\n",
       "\\textbf{x7}    &       2.8976  &          inf     &         0  &           nan        &          nan    &          nan     \\\\\n",
       "\\bottomrule\n",
       "\\end{tabular}\n",
       "\\begin{tabular}{lclc}\n",
       "\\textbf{Omnibus:}       &  2.948 & \\textbf{  Durbin-Watson:     } &    0.390  \\\\\n",
       "\\textbf{Prob(Omnibus):} &  0.229 & \\textbf{  Jarque-Bera (JB):  } &    0.335  \\\\\n",
       "\\textbf{Skew:}          &  0.419 & \\textbf{  Prob(JB):          } &    0.846  \\\\\n",
       "\\textbf{Kurtosis:}      &  3.549 & \\textbf{  Cond. No.          } & 1.75e+04  \\\\\n",
       "\\bottomrule\n",
       "\\end{tabular}\n",
       "%\\caption{OLS Regression Results}\n",
       "\\end{center}\n",
       "\n",
       "Notes: \\newline\n",
       " [1] Standard Errors assume that the covariance matrix of the errors is correctly specified. \\newline\n",
       " [2] The condition number is large, 1.75e+04. This might indicate that there are \\newline\n",
       " strong multicollinearity or other numerical problems."
      ],
      "text/plain": [
       "<class 'statsmodels.iolib.summary.Summary'>\n",
       "\"\"\"\n",
       "                            OLS Regression Results                            \n",
       "==============================================================================\n",
       "Dep. Variable:                      y   R-squared:                       1.000\n",
       "Model:                            OLS   Adj. R-squared:                    nan\n",
       "Method:                 Least Squares   F-statistic:                       nan\n",
       "Date:                Tue, 29 Jul 2025   Prob (F-statistic):                nan\n",
       "Time:                        13:15:25   Log-Likelihood:                 225.08\n",
       "No. Observations:                   8   AIC:                            -434.2\n",
       "Df Residuals:                       0   BIC:                            -433.5\n",
       "Df Model:                           7                                         \n",
       "Covariance Type:            nonrobust                                         \n",
       "==============================================================================\n",
       "                 coef    std err          t      P>|t|      [0.025      0.975]\n",
       "------------------------------------------------------------------------------\n",
       "const          0.3480        inf          0        nan         nan         nan\n",
       "x             -4.6932        inf         -0        nan         nan         nan\n",
       "x2            10.1656        inf          0        nan         nan         nan\n",
       "x3            11.3308        inf          0        nan         nan         nan\n",
       "x4           -17.7154        inf         -0        nan         nan         nan\n",
       "x5            -8.5441        inf         -0        nan         nan         nan\n",
       "x6             7.0447        inf          0        nan         nan         nan\n",
       "x7             2.8976        inf          0        nan         nan         nan\n",
       "==============================================================================\n",
       "Omnibus:                        2.948   Durbin-Watson:                   0.390\n",
       "Prob(Omnibus):                  0.229   Jarque-Bera (JB):                0.335\n",
       "Skew:                           0.419   Prob(JB):                        0.846\n",
       "Kurtosis:                       3.549   Cond. No.                     1.75e+04\n",
       "==============================================================================\n",
       "\n",
       "Notes:\n",
       "[1] Standard Errors assume that the covariance matrix of the errors is correctly specified.\n",
       "[2] The condition number is large, 1.75e+04. This might indicate that there are\n",
       "strong multicollinearity or other numerical problems.\n",
       "\"\"\""
      ]
     },
     "execution_count": 12,
     "metadata": {},
     "output_type": "execute_result"
    }
   ],
   "source": [
    "import warnings\n",
    "warnings.filterwarnings('ignore') \n",
    "\n",
    "model = sm.OLS(Y_train, X_train);\n",
    "model_result = model.fit();\n",
    "model_result.summary()"
   ]
  },
  {
   "cell_type": "code",
   "execution_count": 13,
   "id": "dc2fb7fb",
   "metadata": {},
   "outputs": [],
   "source": [
    "X_test = test_df.iloc[:, 1:9]\n",
    "Y_test = test_df.iloc[:, 0]"
   ]
  },
  {
   "cell_type": "code",
   "execution_count": null,
   "id": "0898645e",
   "metadata": {},
   "outputs": [],
   "source": []
  },
  {
   "cell_type": "code",
   "execution_count": 14,
   "id": "b95c829b",
   "metadata": {},
   "outputs": [],
   "source": [
    "#### polynomial creation to show fitted model\n",
    "x = np.linspace(start = np.floor(df[\"x\"].min()), stop = np.ceil(df[\"x\"].max()), num=100)\n",
    "poly_df = pd.DataFrame(columns=[\"x\"], data=x)\n",
    "for a in np.arange(2, 12):\n",
    "    poly_df[\"x\" + str(a)] = x**a\n",
    "\n",
    "poly_df = sm.add_constant(poly_df)\n",
    "poly_df[\"y_pred\"] = model_result.predict(poly_df[list(X_train.columns)])"
   ]
  },
  {
   "cell_type": "code",
   "execution_count": 15,
   "id": "4b31f80e",
   "metadata": {},
   "outputs": [
    {
     "data": {
      "image/png": "[encoded data removed]",
      "text/plain": [
       "<Figure size 1000x500 with 2 Axes>"
      ]
     },
     "metadata": {},
     "output_type": "display_data"
    }
   ],
   "source": [
    "fig, axes = plt.subplots(1, 2, figsize=(10, 5), sharey=False)\n",
    "(ax1, ax2) = axes\n",
    "ax1.grid(axis=\"y\", which=\"both\"); ax2.grid(axis=\"y\", which=\"both\")\n",
    "\n",
    "ax1.plot(x_y_line, x_y_line, label = \"$y=x$\")\n",
    "ax1.scatter(train_df[\"x\"], train_df[\"y\"], color=\"dodgerblue\", label = \"train GT\", s=74);\n",
    "ax1.scatter(test_df[\"x\"],  test_df[\"y\"], color=\"red\", label = \"test GT\");\n",
    "\n",
    "ax1.scatter(train_df[\"x\"], model_result.predict(X_train), s = 12, color=\"k\", label=\"train predictions\")\n",
    "ax1.scatter(test_df[\"x\"], model_result.predict(X_test), s = 72, color=\"c\", label=\"test predictions\")\n",
    "ax1.plot(poly_df[\"x\"], poly_df[\"y_pred\"], label=\"fitted model\");\n",
    "ax1.legend(loc=\"best\");\n",
    "ax1.set_ylim(-200, 200);\n",
    "###################################\n",
    "\n",
    "ax2.plot(x_y_line, x_y_line, label = \"$y=x$\")\n",
    "ax2.scatter(train_df[\"x\"], train_df[\"y\"], color=\"dodgerblue\", label = \"train GT\", s=74);\n",
    "ax2.scatter(test_df[\"x\"],  test_df[\"y\"], color=\"red\", label = \"test GT\");\n",
    "ax2.scatter(train_df[\"x\"], model_result.predict(X_train), s = 12, color=\"k\", label=\"train predictions\")\n",
    "ax2.scatter(test_df[\"x\"], model_result.predict(X_test), s = 72, color=\"c\", label=\"test predictions\")\n",
    "ax2.plot(poly_df[\"x\"], poly_df[\"y_pred\"], label=\"fitted model\");\n",
    "ax2.title.set_text('same as left plot; just zoomed in')\n",
    "\n",
    "ax2.legend(loc=\"best\");\n",
    "ax2.set_ylim(-2, 10);"
   ]
  },
  {
   "cell_type": "code",
   "execution_count": 16,
   "id": "891d98fc",
   "metadata": {},
   "outputs": [
    {
     "name": "stdout",
     "output_type": "stream",
     "text": [
      "train_error = 4.1338027237120276e-13\n",
      "\n",
      "test_error = 67.4732234171419\n"
     ]
    }
   ],
   "source": [
    "from scipy.linalg import norm\n",
    "\n",
    "train_error = norm(model_result.predict(X_train) - Y_train)\n",
    "print (f\"{train_error = }\")\n",
    "print ()\n",
    "\n",
    "\n",
    "test_error = norm(model_result.predict(X_test) - Y_test)\n",
    "print (f\"{test_error = }\")"
   ]
  },
  {
   "cell_type": "markdown",
   "id": "7367c785",
   "metadata": {},
   "source": [
    "# Remove one outlier and see its effect on the model"
   ]
  },
  {
   "cell_type": "code",
   "execution_count": 18,
   "id": "8ec94828",
   "metadata": {},
   "outputs": [
    {
     "data": {
      "text/plain": [
       "0    20.000000\n",
       "1     1.330826\n",
       "2    -0.118061\n",
       "3     0.338646\n",
       "4    -2.375652\n",
       "5     1.042403\n",
       "6     1.203191\n",
       "7    -1.669221\n",
       "Name: y, dtype: float64"
      ]
     },
     "execution_count": 18,
     "metadata": {},
     "output_type": "execute_result"
    }
   ],
   "source": [
    "Y_train_outlier = Y_train.copy()\n",
    "Y_train_outlier[0] = 20\n",
    "Y_train_outlier"
   ]
  },
  {
   "cell_type": "code",
   "execution_count": 34,
   "id": "1b7f5042",
   "metadata": {},
   "outputs": [],
   "source": [
    "model_outlier = sm.OLS(Y_train_outlier, X_train);\n",
    "model_result_outlier = model_outlier.fit();\n",
    "y_pred_outlier = model_result_outlier.predict(poly_df[list(X_train.columns)])\n",
    "# model_result_outlier.summary()"
   ]
  },
  {
   "cell_type": "code",
   "execution_count": null,
   "id": "e4856ceb",
   "metadata": {},
   "outputs": [],
   "source": []
  },
  {
   "cell_type": "code",
   "execution_count": 139,
   "id": "cdd1c054",
   "metadata": {},
   "outputs": [
    {
     "data": {
      "image/png": "[encoded data removed]",
      "text/plain": [
       "<Figure size 1500x500 with 3 Axes>"
      ]
     },
     "metadata": {},
     "output_type": "display_data"
    }
   ],
   "source": [
    "fig, axes = plt.subplots(1, 3, figsize=(15, 5), sharey=False)\n",
    "(ax0, ax1, ax2) = axes\n",
    "ax0.grid(axis=\"y\", which=\"both\"); ax1.grid(axis=\"y\", which=\"both\"); ax2.grid(axis=\"y\", which=\"both\")\n",
    "\n",
    "ax0.scatter(train_df[\"x\"], train_df[\"y\"], color=\"dodgerblue\", label = \"data\", s=50, marker='s');\n",
    "ax0.scatter(train_df[\"x\"], Y_train_outlier, color=\"red\", label = \"data w. outlier\", s=30);\n",
    "ax0.plot(poly_df[\"x\"], poly_df[\"y_pred\"], color=\"dodgerblue\", label=\"model\");\n",
    "ax0.plot(poly_df[\"x\"], y_pred_outlier, color=\"red\", label=\"model w. outlier\");\n",
    "ax0.legend(loc=\"best\");\n",
    "ax0.axvline(x=X_train['x'][0], color='k', linestyle='--')\n",
    "##################################\n",
    "##################################\n",
    "##################################\n",
    "ax1.scatter(train_df[\"x\"], train_df[\"y\"], color=\"dodgerblue\", label = \"data\", s=50, marker='s');\n",
    "ax1.scatter(train_df[\"x\"], Y_train_outlier, color=\"red\", label = \"data w. outlier\", s=30);\n",
    "ax1.plot(poly_df[\"x\"], poly_df[\"y_pred\"], color=\"dodgerblue\", label=\"model\");\n",
    "ax1.plot(poly_df[\"x\"], y_pred_outlier, color=\"red\", label=\"model w. outlier\");\n",
    "ax1.legend(loc=\"best\");\n",
    "ax1.axvline(x=X_train['x'][0], color='k', linestyle='--')\n",
    "ax1.set_ylim(-200, 200);\n",
    "legend = ax1.get_legend()\n",
    "if legend is not None:\n",
    "    legend.remove()\n",
    "##################################\n",
    "##################################\n",
    "##################################\n",
    "ax2.scatter(train_df[\"x\"], train_df[\"y\"], color=\"dodgerblue\", label = \"data\", s=50, marker='s');\n",
    "ax2.scatter(train_df[\"x\"], Y_train_outlier, color=\"red\", label = \"data w. outlier\", s=30);\n",
    "ax2.plot(poly_df[\"x\"], poly_df[\"y_pred\"], color=\"dodgerblue\", label=\"model\");\n",
    "ax2.plot(poly_df[\"x\"], y_pred_outlier, color=\"red\", label=\"model w. outlier\");\n",
    "ax2.axvline(x=X_train['x'][0], color='k', linestyle='--', label='My Vertical Line')\n",
    "ax2.set_ylim(-2, 25);\n",
    "# Add arrow to the vertical line\n",
    "ax2.annotate('',                    # No text\n",
    "             xy=(X_train['x'][0], 15),    # Arrow head\n",
    "             xytext=(X_train['x'][0], 3), # Arrow tail\n",
    "             arrowprops=dict(facecolor='k', shrink=0.05, width=2, headwidth=8))\n",
    "\n",
    "legend = ax2.get_legend()\n",
    "if legend is not None:\n",
    "    legend.remove()\n",
    "    \n",
    "fig.suptitle(f\"effect of removing an outlier on a highly flexible model\", y=0.95, \n",
    "             fontdict={\"family\": \"serif\"}, fontsize=15)\n",
    "file_name = outdir + f\"degree7PolyModelRemoveOutlier.png\"\n",
    "plt.savefig(file_name, bbox_inches=\"tight\", dpi=300)"
   ]
  },
  {
   "cell_type": "code",
   "execution_count": null,
   "id": "62cc2bfb",
   "metadata": {},
   "outputs": [],
   "source": []
  },
  {
   "cell_type": "code",
   "execution_count": 87,
   "id": "ab1860f9",
   "metadata": {},
   "outputs": [
    {
     "data": {
      "text/plain": [
       "const     6.904046\n",
       "x       -42.521925\n",
       "x2       31.520053\n",
       "x3       90.223143\n",
       "x4      -72.436687\n",
       "x5      -57.771434\n",
       "x6       29.709526\n",
       "x7       14.746469\n",
       "dtype: float64"
      ]
     },
     "execution_count": 87,
     "metadata": {},
     "output_type": "execute_result"
    }
   ],
   "source": [
    "model_result_outlier.params"
   ]
  },
  {
   "cell_type": "code",
   "execution_count": 86,
   "id": "9573dd3f",
   "metadata": {},
   "outputs": [
    {
     "data": {
      "text/plain": [
       "const     0.348049\n",
       "x        -4.693204\n",
       "x2       10.165615\n",
       "x3       11.330800\n",
       "x4      -17.715449\n",
       "x5       -8.544074\n",
       "x6        7.044720\n",
       "x7        2.897608\n",
       "dtype: float64"
      ]
     },
     "execution_count": 86,
     "metadata": {},
     "output_type": "execute_result"
    }
   ],
   "source": [
    "model_result.params"
   ]
  },
  {
   "cell_type": "code",
   "execution_count": 111,
   "id": "5684500b",
   "metadata": {},
   "outputs": [
    {
     "data": {
      "text/html": [
       "<div>\n",
       "<style scoped>\n",
       "    .dataframe tbody tr th:only-of-type {\n",
       "        vertical-align: middle;\n",
       "    }\n",
       "\n",
       "    .dataframe tbody tr th {\n",
       "        vertical-align: top;\n",
       "    }\n",
       "\n",
       "    .dataframe thead th {\n",
       "        text-align: right;\n",
       "    }\n",
       "</style>\n",
       "<table border=\"1\" class=\"dataframe\">\n",
       "  <thead>\n",
       "    <tr style=\"text-align: right;\">\n",
       "      <th></th>\n",
       "      <th>y</th>\n",
       "      <th>const</th>\n",
       "      <th>x</th>\n",
       "      <th>x2</th>\n",
       "      <th>x3</th>\n",
       "      <th>x4</th>\n",
       "      <th>x5</th>\n",
       "      <th>x6</th>\n",
       "      <th>x7</th>\n",
       "      <th>x8</th>\n",
       "      <th>x9</th>\n",
       "      <th>x10</th>\n",
       "      <th>x11</th>\n",
       "    </tr>\n",
       "  </thead>\n",
       "  <tbody>\n",
       "    <tr>\n",
       "      <th>0</th>\n",
       "      <td>2.319497</td>\n",
       "      <td>1.0</td>\n",
       "      <td>-0.311784</td>\n",
       "      <td>0.097209</td>\n",
       "      <td>-0.030308</td>\n",
       "      <td>0.009450</td>\n",
       "      <td>-0.002946</td>\n",
       "      <td>0.000919</td>\n",
       "      <td>-0.000286</td>\n",
       "      <td>0.000089</td>\n",
       "      <td>-0.000028</td>\n",
       "      <td>8.680279e-06</td>\n",
       "      <td>-2.706369e-06</td>\n",
       "    </tr>\n",
       "    <tr>\n",
       "      <th>1</th>\n",
       "      <td>1.330826</td>\n",
       "      <td>1.0</td>\n",
       "      <td>0.729004</td>\n",
       "      <td>0.531447</td>\n",
       "      <td>0.387427</td>\n",
       "      <td>0.282436</td>\n",
       "      <td>0.205897</td>\n",
       "      <td>0.150099</td>\n",
       "      <td>0.109423</td>\n",
       "      <td>0.079770</td>\n",
       "      <td>0.058153</td>\n",
       "      <td>4.239344e-02</td>\n",
       "      <td>3.090498e-02</td>\n",
       "    </tr>\n",
       "    <tr>\n",
       "      <th>2</th>\n",
       "      <td>-0.118061</td>\n",
       "      <td>1.0</td>\n",
       "      <td>0.217821</td>\n",
       "      <td>0.047446</td>\n",
       "      <td>0.010335</td>\n",
       "      <td>0.002251</td>\n",
       "      <td>0.000490</td>\n",
       "      <td>0.000107</td>\n",
       "      <td>0.000023</td>\n",
       "      <td>0.000005</td>\n",
       "      <td>0.000001</td>\n",
       "      <td>2.404325e-07</td>\n",
       "      <td>5.237121e-08</td>\n",
       "    </tr>\n",
       "  </tbody>\n",
       "</table>\n",
       "</div>"
      ],
      "text/plain": [
       "          y  const         x        x2        x3        x4        x5  \\\n",
       "0  2.319497    1.0 -0.311784  0.097209 -0.030308  0.009450 -0.002946   \n",
       "1  1.330826    1.0  0.729004  0.531447  0.387427  0.282436  0.205897   \n",
       "2 -0.118061    1.0  0.217821  0.047446  0.010335  0.002251  0.000490   \n",
       "\n",
       "         x6        x7        x8        x9           x10           x11  \n",
       "0  0.000919 -0.000286  0.000089 -0.000028  8.680279e-06 -2.706369e-06  \n",
       "1  0.150099  0.109423  0.079770  0.058153  4.239344e-02  3.090498e-02  \n",
       "2  0.000107  0.000023  0.000005  0.000001  2.404325e-07  5.237121e-08  "
      ]
     },
     "execution_count": 111,
     "metadata": {},
     "output_type": "execute_result"
    }
   ],
   "source": [
    "train_df.head(3)"
   ]
  },
  {
   "cell_type": "code",
   "execution_count": 119,
   "id": "5698a72d",
   "metadata": {},
   "outputs": [
    {
     "data": {
      "text/html": [
       "<div>\n",
       "<style scoped>\n",
       "    .dataframe tbody tr th:only-of-type {\n",
       "        vertical-align: middle;\n",
       "    }\n",
       "\n",
       "    .dataframe tbody tr th {\n",
       "        vertical-align: top;\n",
       "    }\n",
       "\n",
       "    .dataframe thead th {\n",
       "        text-align: right;\n",
       "    }\n",
       "</style>\n",
       "<table border=\"1\" class=\"dataframe\">\n",
       "  <thead>\n",
       "    <tr style=\"text-align: right;\">\n",
       "      <th></th>\n",
       "      <th>const</th>\n",
       "      <th>x</th>\n",
       "      <th>x2</th>\n",
       "      <th>x3</th>\n",
       "      <th>x4</th>\n",
       "      <th>x5</th>\n",
       "      <th>x6</th>\n",
       "      <th>x7</th>\n",
       "      <th>x8</th>\n",
       "      <th>x9</th>\n",
       "      <th>x10</th>\n",
       "      <th>x11</th>\n",
       "    </tr>\n",
       "  </thead>\n",
       "  <tbody>\n",
       "    <tr>\n",
       "      <th>0</th>\n",
       "      <td>1.0</td>\n",
       "      <td>-0.311784</td>\n",
       "      <td>0.097209</td>\n",
       "      <td>-0.030308</td>\n",
       "      <td>0.009450</td>\n",
       "      <td>-0.002946</td>\n",
       "      <td>0.000919</td>\n",
       "      <td>-0.000286</td>\n",
       "      <td>0.000089</td>\n",
       "      <td>-0.000028</td>\n",
       "      <td>8.680279e-06</td>\n",
       "      <td>-2.706369e-06</td>\n",
       "    </tr>\n",
       "    <tr>\n",
       "      <th>1</th>\n",
       "      <td>1.0</td>\n",
       "      <td>0.729004</td>\n",
       "      <td>0.531447</td>\n",
       "      <td>0.387427</td>\n",
       "      <td>0.282436</td>\n",
       "      <td>0.205897</td>\n",
       "      <td>0.150099</td>\n",
       "      <td>0.109423</td>\n",
       "      <td>0.079770</td>\n",
       "      <td>0.058153</td>\n",
       "      <td>4.239344e-02</td>\n",
       "      <td>3.090498e-02</td>\n",
       "    </tr>\n",
       "    <tr>\n",
       "      <th>2</th>\n",
       "      <td>1.0</td>\n",
       "      <td>0.217821</td>\n",
       "      <td>0.047446</td>\n",
       "      <td>0.010335</td>\n",
       "      <td>0.002251</td>\n",
       "      <td>0.000490</td>\n",
       "      <td>0.000107</td>\n",
       "      <td>0.000023</td>\n",
       "      <td>0.000005</td>\n",
       "      <td>0.000001</td>\n",
       "      <td>2.404325e-07</td>\n",
       "      <td>5.237121e-08</td>\n",
       "    </tr>\n",
       "    <tr>\n",
       "      <th>3</th>\n",
       "      <td>1.0</td>\n",
       "      <td>-0.899092</td>\n",
       "      <td>0.808366</td>\n",
       "      <td>-0.726795</td>\n",
       "      <td>0.653456</td>\n",
       "      <td>-0.587517</td>\n",
       "      <td>0.528231</td>\n",
       "      <td>-0.474929</td>\n",
       "      <td>0.427004</td>\n",
       "      <td>-0.383916</td>\n",
       "      <td>3.451758e-01</td>\n",
       "      <td>-3.103447e-01</td>\n",
       "    </tr>\n",
       "    <tr>\n",
       "      <th>4</th>\n",
       "      <td>1.0</td>\n",
       "      <td>-2.486781</td>\n",
       "      <td>6.184078</td>\n",
       "      <td>-15.378446</td>\n",
       "      <td>38.242821</td>\n",
       "      <td>-95.101507</td>\n",
       "      <td>236.496587</td>\n",
       "      <td>-588.115137</td>\n",
       "      <td>1462.513345</td>\n",
       "      <td>-3636.949888</td>\n",
       "      <td>9.044297e+03</td>\n",
       "      <td>-2.249118e+04</td>\n",
       "    </tr>\n",
       "    <tr>\n",
       "      <th>5</th>\n",
       "      <td>1.0</td>\n",
       "      <td>0.913252</td>\n",
       "      <td>0.834028</td>\n",
       "      <td>0.761678</td>\n",
       "      <td>0.695603</td>\n",
       "      <td>0.635261</td>\n",
       "      <td>0.580153</td>\n",
       "      <td>0.529825</td>\n",
       "      <td>0.483864</td>\n",
       "      <td>0.441889</td>\n",
       "      <td>4.035562e-01</td>\n",
       "      <td>3.685483e-01</td>\n",
       "    </tr>\n",
       "    <tr>\n",
       "      <th>6</th>\n",
       "      <td>1.0</td>\n",
       "      <td>1.127064</td>\n",
       "      <td>1.270273</td>\n",
       "      <td>1.431678</td>\n",
       "      <td>1.613593</td>\n",
       "      <td>1.818622</td>\n",
       "      <td>2.049703</td>\n",
       "      <td>2.310145</td>\n",
       "      <td>2.603681</td>\n",
       "      <td>2.934514</td>\n",
       "      <td>3.307385e+00</td>\n",
       "      <td>3.727633e+00</td>\n",
       "    </tr>\n",
       "    <tr>\n",
       "      <th>7</th>\n",
       "      <td>1.0</td>\n",
       "      <td>-1.514093</td>\n",
       "      <td>2.292478</td>\n",
       "      <td>-3.471026</td>\n",
       "      <td>5.255457</td>\n",
       "      <td>-7.957252</td>\n",
       "      <td>12.048021</td>\n",
       "      <td>-18.241826</td>\n",
       "      <td>27.619826</td>\n",
       "      <td>-41.818991</td>\n",
       "      <td>6.331785e+01</td>\n",
       "      <td>-9.586913e+01</td>\n",
       "    </tr>\n",
       "  </tbody>\n",
       "</table>\n",
       "</div>"
      ],
      "text/plain": [
       "   const         x        x2         x3         x4         x5          x6  \\\n",
       "0    1.0 -0.311784  0.097209  -0.030308   0.009450  -0.002946    0.000919   \n",
       "1    1.0  0.729004  0.531447   0.387427   0.282436   0.205897    0.150099   \n",
       "2    1.0  0.217821  0.047446   0.010335   0.002251   0.000490    0.000107   \n",
       "3    1.0 -0.899092  0.808366  -0.726795   0.653456  -0.587517    0.528231   \n",
       "4    1.0 -2.486781  6.184078 -15.378446  38.242821 -95.101507  236.496587   \n",
       "5    1.0  0.913252  0.834028   0.761678   0.695603   0.635261    0.580153   \n",
       "6    1.0  1.127064  1.270273   1.431678   1.613593   1.818622    2.049703   \n",
       "7    1.0 -1.514093  2.292478  -3.471026   5.255457  -7.957252   12.048021   \n",
       "\n",
       "           x7           x8           x9           x10           x11  \n",
       "0   -0.000286     0.000089    -0.000028  8.680279e-06 -2.706369e-06  \n",
       "1    0.109423     0.079770     0.058153  4.239344e-02  3.090498e-02  \n",
       "2    0.000023     0.000005     0.000001  2.404325e-07  5.237121e-08  \n",
       "3   -0.474929     0.427004    -0.383916  3.451758e-01 -3.103447e-01  \n",
       "4 -588.115137  1462.513345 -3636.949888  9.044297e+03 -2.249118e+04  \n",
       "5    0.529825     0.483864     0.441889  4.035562e-01  3.685483e-01  \n",
       "6    2.310145     2.603681     2.934514  3.307385e+00  3.727633e+00  \n",
       "7  -18.241826    27.619826   -41.818991  6.331785e+01 -9.586913e+01  "
      ]
     },
     "execution_count": 119,
     "metadata": {},
     "output_type": "execute_result"
    }
   ],
   "source": [
    "train_df.iloc[:, 1:]"
   ]
  },
  {
   "cell_type": "code",
   "execution_count": 115,
   "id": "5bb2bf32",
   "metadata": {},
   "outputs": [
    {
     "data": {
      "text/plain": [
       "const    0.531911\n",
       "x        0.981593\n",
       "dtype: float64"
      ]
     },
     "execution_count": 115,
     "metadata": {},
     "output_type": "execute_result"
    }
   ],
   "source": [
    "model_d1 = sm.OLS(Y_train, train_df.iloc[:, 1:3]);\n",
    "model_result_d1 = model_d1.fit();\n",
    "model_result_d1.params"
   ]
  },
  {
   "cell_type": "code",
   "execution_count": 117,
   "id": "9203f216",
   "metadata": {},
   "outputs": [
    {
     "data": {
      "text/plain": [
       "const     0.348049\n",
       "x        -4.693204\n",
       "x2       10.165615\n",
       "x3       11.330800\n",
       "x4      -17.715449\n",
       "x5       -8.544074\n",
       "x6        7.044720\n",
       "x7        2.897608\n",
       "dtype: float64"
      ]
     },
     "execution_count": 117,
     "metadata": {},
     "output_type": "execute_result"
    }
   ],
   "source": [
    "model_d7 = sm.OLS(Y_train, train_df.iloc[:, 1:9]);\n",
    "model_result_d7 = model_d7.fit();\n",
    "model_result_d7.params"
   ]
  },
  {
   "cell_type": "code",
   "execution_count": 150,
   "id": "4b21ff9a",
   "metadata": {},
   "outputs": [
    {
     "data": {
      "text/plain": [
       "const    0.482651\n",
       "x       -4.516306\n",
       "x2       6.855206\n",
       "x3       6.441037\n",
       "x4      -3.756682\n",
       "x5       0.662568\n",
       "x6      -5.679230\n",
       "x7      -1.412119\n",
       "x8      -2.570124\n",
       "x9      -1.026120\n",
       "x10      3.635728\n",
       "x11      1.426952\n",
       "dtype: float64"
      ]
     },
     "execution_count": 150,
     "metadata": {},
     "output_type": "execute_result"
    }
   ],
   "source": [
    "model_d12 = sm.OLS(Y_train, train_df.iloc[:, 1:13]);\n",
    "model_result_d12 = model_d12.fit();\n",
    "model_result_d12.params"
   ]
  },
  {
   "cell_type": "code",
   "execution_count": 127,
   "id": "2677f005",
   "metadata": {},
   "outputs": [],
   "source": [
    "y_pred_d12 = model_result_d12.predict(train_df.iloc[:, 1:])"
   ]
  },
  {
   "cell_type": "code",
   "execution_count": 161,
   "id": "96bdec8e",
   "metadata": {},
   "outputs": [],
   "source": [
    "from sklearn.metrics import mean_squared_error"
   ]
  },
  {
   "cell_type": "code",
   "execution_count": 172,
   "id": "deb805ac",
   "metadata": {},
   "outputs": [],
   "source": [
    "## record test and train errors for polynomials\n",
    "train_mse_list = []\n",
    "test_mse_list = []\n",
    "for degree in np.arange(3, 14):\n",
    "    model = sm.OLS(Y_train, train_df.iloc[:, 1:degree]);\n",
    "    model_result = model.fit();\n",
    "    train_yhat = model_result.predict(train_df.iloc[:, 1:degree])\n",
    "    test_yhat = model_result.predict(test_df.iloc[:, 1:degree])\n",
    "    \n",
    "    train_mse = mean_squared_error(train_df[\"y\"], train_yhat)\n",
    "    test_mse = mean_squared_error(test_df[\"y\"], test_yhat)\n",
    "    \n",
    "    train_mse_list.append(train_mse)\n",
    "    test_mse_list.append(test_mse)\n",
    "    "
   ]
  },
  {
   "cell_type": "code",
   "execution_count": 173,
   "id": "b9bc3ee2",
   "metadata": {},
   "outputs": [
    {
     "data": {
      "text/plain": [
       "[0.8348053052805355,\n",
       " 0.6157370487606892,\n",
       " 0.5931539690645398,\n",
       " 0.35138534410638106,\n",
       " 0.3099347434652556,\n",
       " 0.09796393010008775,\n",
       " 2.1360406198211224e-26,\n",
       " 1.0471183831319323e-25,\n",
       " 1.5031621931045352e-24,\n",
       " 7.887939873406466e-25,\n",
       " 9.566333803792052e-24]"
      ]
     },
     "execution_count": 173,
     "metadata": {},
     "output_type": "execute_result"
    }
   ],
   "source": [
    "train_mse_list"
   ]
  },
  {
   "cell_type": "code",
   "execution_count": 174,
   "id": "4017f1f2",
   "metadata": {},
   "outputs": [
    {
     "data": {
      "text/plain": [
       "[0.04545135717574363,\n",
       " 1.0864283253677698,\n",
       " 2.8226673419118904,\n",
       " 8.796477110753473,\n",
       " 1.5531820536869785,\n",
       " 626.2120057415532,\n",
       " 2276.3179391497724,\n",
       " 3189.496497055671,\n",
       " 16631.631498388448,\n",
       " 23112.83049979306,\n",
       " 114606.13558830055]"
      ]
     },
     "execution_count": 174,
     "metadata": {},
     "output_type": "execute_result"
    }
   ],
   "source": [
    "test_mse_list"
   ]
  },
  {
   "cell_type": "code",
   "execution_count": 199,
   "id": "d34448d7",
   "metadata": {},
   "outputs": [
    {
     "data": {
      "image/png": "[encoded data removed]",
      "text/plain": [
       "<Figure size 1000x500 with 2 Axes>"
      ]
     },
     "metadata": {},
     "output_type": "display_data"
    }
   ],
   "source": [
    "fig, axes = plt.subplots(1, 2, figsize=(10, 5), sharey=False, gridspec_kw={\"hspace\": 0.02, \"wspace\": 0.1})\n",
    "(ax1, ax2) = axes\n",
    "ax1.grid(axis=\"y\", which=\"both\"); ax2.grid(axis=\"y\", which=\"both\")\n",
    "\n",
    "ax1.plot(np.arange(len(train_mse_list)), train_mse_list, label = \"train MSE\");\n",
    "ax1.plot(np.arange(len(test_mse_list)), test_mse_list, label = \"train MSE\");\n",
    "ax1.legend(loc=\"best\");\n",
    "###############################\n",
    "###############################\n",
    "###############################\n",
    "ax2.plot(np.arange(len(train_mse_list)), train_mse_list, label = \"train MSE\");\n",
    "ax2.plot(np.arange(len(test_mse_list)), test_mse_list, label = \"train MSE\");\n",
    "ax2.legend(loc=\"best\");\n",
    "ax2.set_ylim(0, 10);\n",
    "\n",
    "\n",
    "ax1.set_xlabel(\"model flexibility (polynomial degree)\");\n",
    "ax2.set_xlabel(\"model flexibility (polynomial degree)\");\n",
    "ax1.set_ylabel(\"mean squared error\");\n",
    "\n",
    "fig.suptitle(f\"train and test MSE as model flexibility increases\", y=0.95, \n",
    "             fontdict={\"family\": \"serif\"}, fontsize=15)\n",
    "file_name = outdir + f\"trainTestMSE.png\"\n",
    "plt.savefig(file_name, bbox_inches=\"tight\", dpi=300)"
   ]
  },
  {
   "cell_type": "code",
   "execution_count": 200,
   "id": "0cf56700",
   "metadata": {},
   "outputs": [
    {
     "data": {
      "text/plain": [
       "(8, 13)"
      ]
     },
     "execution_count": 200,
     "metadata": {},
     "output_type": "execute_result"
    }
   ],
   "source": [
    "train_df.shape"
   ]
  },
  {
   "cell_type": "code",
   "execution_count": 201,
   "id": "441ad249",
   "metadata": {},
   "outputs": [
    {
     "data": {
      "text/plain": [
       "(2, 13)"
      ]
     },
     "execution_count": 201,
     "metadata": {},
     "output_type": "execute_result"
    }
   ],
   "source": [
    "test_df.shape"
   ]
  },
  {
   "cell_type": "code",
   "execution_count": null,
   "id": "18a6e75c",
   "metadata": {},
   "outputs": [],
   "source": []
  }
 ],
 "metadata": {
  "kernelspec": {
   "display_name": "Python 3 (ipykernel)",
   "language": "python",
   "name": "python3"
  },
  "language_info": {
   "codemirror_mode": {
    "name": "ipython",
    "version": 3
   },
   "file_extension": ".py",
   "mimetype": "text/x-python",
   "name": "python",
   "nbconvert_exporter": "python",
   "pygments_lexer": "ipython3",
   "version": "3.11.5"
  }
 },
 "nbformat": 4,
 "nbformat_minor": 5
}
